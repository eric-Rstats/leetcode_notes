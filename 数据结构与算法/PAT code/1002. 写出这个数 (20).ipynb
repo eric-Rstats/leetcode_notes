{
 "cells": [
  {
   "cell_type": "markdown",
   "metadata": {},
   "source": [
    "# 1002. 写出这个数 (20)\n",
    "\n",
    "读入一个自然数n，计算其各位数字之和，用汉语拼音写出和的每一位数字。\n",
    "\n",
    "输入格式：每个测试输入包含1个测试用例，即给出自然数n的值。这里保证n小于10100。\n",
    "\n",
    "输出格式：在一行内输出n的各位数字之和的每一位，拼音数字间有1 空格，但一行中最后一个拼音数字后没有空格。\n",
    "\n",
    "输入样例：\n",
    "1234567890987654321123456789\n",
    "输出样例：\n",
    "yi san wu\n"
   ]
  },
  {
   "cell_type": "code",
   "execution_count": 63,
   "metadata": {},
   "outputs": [],
   "source": [
    "def f(s):\n",
    "    \"\"\"这里的s是一个字符串\"\"\"\n",
    "    #s = raw_input() # 读取字符串    \n",
    "    he = str(sum((int(x) for x in s)))\n",
    "    shuzi = ['ling','yi','er', 'san', 'si', 'wu', 'liu', 'qi', 'ba', 'jiu']\n",
    "    d = dict(zip(range(10),shuzi)) # 参考的字典\n",
    "    result = [d[int(item)] for item in he]\n",
    "    \n",
    "    out = ''\n",
    "    for item in result:\n",
    "        out = out + ' ' + item\n",
    "    return out[1:]"
   ]
  },
  {
   "cell_type": "code",
   "execution_count": 64,
   "metadata": {},
   "outputs": [
    {
     "data": {
      "text/plain": [
       "'yi san wu'"
      ]
     },
     "execution_count": 64,
     "metadata": {},
     "output_type": "execute_result"
    }
   ],
   "source": [
    "f('1234567890987654321123456789')"
   ]
  },
  {
   "cell_type": "code",
   "execution_count": 65,
   "metadata": {},
   "outputs": [
    {
     "name": "stdout",
     "output_type": "stream",
     "text": [
      "san ba\n"
     ]
    }
   ],
   "source": [
    "print f('1234587611')"
   ]
  },
  {
   "cell_type": "code",
   "execution_count": 81,
   "metadata": {},
   "outputs": [],
   "source": [
    "def f(s):\n",
    "    \"\"\"这里的s是一个字符串\"\"\"\n",
    "    #s = raw_input() # 读取字符串    \n",
    "    he = str(sum((int(x) for x in s)))\n",
    "    shuzi = ['ling','yi','er', 'san', 'si', 'wu', 'liu', 'qi', 'ba', 'jiu']\n",
    "    d = dict(zip(range(10),shuzi)) # 参考的字典\n",
    "    result = [d[int(item)] for item in he]\n",
    "    result = ' '.join(result)\n",
    "    return result"
   ]
  },
  {
   "cell_type": "code",
   "execution_count": 83,
   "metadata": {},
   "outputs": [
    {
     "data": {
      "text/plain": [
       "'yi ba'"
      ]
     },
     "execution_count": 83,
     "metadata": {},
     "output_type": "execute_result"
    }
   ],
   "source": [
    "f('1212322212')"
   ]
  },
  {
   "cell_type": "code",
   "execution_count": null,
   "metadata": {
    "collapsed": true
   },
   "outputs": [],
   "source": []
  }
 ],
 "metadata": {
  "kernelspec": {
   "display_name": "Python 2",
   "language": "python",
   "name": "python2"
  },
  "language_info": {
   "codemirror_mode": {
    "name": "ipython",
    "version": 2
   },
   "file_extension": ".py",
   "mimetype": "text/x-python",
   "name": "python",
   "nbconvert_exporter": "python",
   "pygments_lexer": "ipython2",
   "version": "2.7.13"
  }
 },
 "nbformat": 4,
 "nbformat_minor": 2
}
