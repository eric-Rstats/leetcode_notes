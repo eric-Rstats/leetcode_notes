{
 "cells": [
  {
   "cell_type": "markdown",
   "metadata": {},
   "source": [
    "# 用mice包进行缺失值处理\n"
   ]
  },
  {
   "cell_type": "code",
   "execution_count": 3,
   "metadata": {
    "collapsed": false,
    "scrolled": true
   },
   "outputs": [
    {
     "name": "stderr",
     "output_type": "stream",
     "text": [
      "Warning message:\n",
      ": package 'mice' was built under R version 3.3.2Loading required package: Rcpp\n",
      "mice 2.25 2015-11-09\n"
     ]
    }
   ],
   "source": [
    "library(mice)\n",
    "library(dplyr,warn.conflicts=F)"
   ]
  },
  {
   "cell_type": "markdown",
   "metadata": {},
   "source": [
    "使用`mice`包可以对数据缺失值进行处理"
   ]
  },
  {
   "cell_type": "code",
   "execution_count": 4,
   "metadata": {
    "collapsed": false
   },
   "outputs": [],
   "source": [
    "data(\"BostonHousing\", package=\"mlbench\")\n",
    "original <- BostonHousing"
   ]
  },
  {
   "cell_type": "code",
   "execution_count": 5,
   "metadata": {
    "collapsed": false
   },
   "outputs": [
    {
     "data": {
      "text/html": [
       "<table>\n",
       "<thead><tr><th scope=col>crim</th><th scope=col>zn</th><th scope=col>indus</th><th scope=col>chas</th><th scope=col>nox</th><th scope=col>rm</th><th scope=col>age</th><th scope=col>dis</th><th scope=col>rad</th><th scope=col>tax</th><th scope=col>ptratio</th><th scope=col>b</th><th scope=col>lstat</th><th scope=col>medv</th></tr></thead>\n",
       "<tbody>\n",
       "\t<tr><td>0.00632</td><td>18     </td><td>2.31   </td><td>0      </td><td>0.538  </td><td>6.575  </td><td>65.2   </td><td>4.0900 </td><td>1      </td><td>296    </td><td>15.3   </td><td>396.90 </td><td>4.98   </td><td>24.0   </td></tr>\n",
       "\t<tr><td>0.02731</td><td> 0     </td><td>7.07   </td><td>0      </td><td>0.469  </td><td>6.421  </td><td>78.9   </td><td>4.9671 </td><td>2      </td><td>242    </td><td>17.8   </td><td>396.90 </td><td>9.14   </td><td>21.6   </td></tr>\n",
       "\t<tr><td>0.02729</td><td> 0     </td><td>7.07   </td><td>0      </td><td>0.469  </td><td>7.185  </td><td>61.1   </td><td>4.9671 </td><td>2      </td><td>242    </td><td>17.8   </td><td>392.83 </td><td>4.03   </td><td>34.7   </td></tr>\n",
       "\t<tr><td>0.03237</td><td> 0     </td><td>2.18   </td><td>0      </td><td>0.458  </td><td>6.998  </td><td>45.8   </td><td>6.0622 </td><td>3      </td><td>222    </td><td>18.7   </td><td>394.63 </td><td>2.94   </td><td>33.4   </td></tr>\n",
       "\t<tr><td>0.06905</td><td> 0     </td><td>2.18   </td><td>0      </td><td>0.458  </td><td>7.147  </td><td>54.2   </td><td>6.0622 </td><td>3      </td><td>222    </td><td>18.7   </td><td>396.90 </td><td>5.33   </td><td>36.2   </td></tr>\n",
       "\t<tr><td>0.02985</td><td> 0     </td><td>2.18   </td><td>0      </td><td>0.458  </td><td>6.430  </td><td>58.7   </td><td>6.0622 </td><td>3      </td><td>222    </td><td>18.7   </td><td>394.12 </td><td>5.21   </td><td>28.7   </td></tr>\n",
       "</tbody>\n",
       "</table>\n"
      ],
      "text/latex": [
       "\\begin{tabular}{r|llllllllllllll}\n",
       " crim & zn & indus & chas & nox & rm & age & dis & rad & tax & ptratio & b & lstat & medv\\\\\n",
       "\\hline\n",
       "\t 0.00632 & 18      & 2.31    & 0       & 0.538   & 6.575   & 65.2    & 4.0900  & 1       & 296     & 15.3    & 396.90  & 4.98    & 24.0   \\\\\n",
       "\t 0.02731 &  0      & 7.07    & 0       & 0.469   & 6.421   & 78.9    & 4.9671  & 2       & 242     & 17.8    & 396.90  & 9.14    & 21.6   \\\\\n",
       "\t 0.02729 &  0      & 7.07    & 0       & 0.469   & 7.185   & 61.1    & 4.9671  & 2       & 242     & 17.8    & 392.83  & 4.03    & 34.7   \\\\\n",
       "\t 0.03237 &  0      & 2.18    & 0       & 0.458   & 6.998   & 45.8    & 6.0622  & 3       & 222     & 18.7    & 394.63  & 2.94    & 33.4   \\\\\n",
       "\t 0.06905 &  0      & 2.18    & 0       & 0.458   & 7.147   & 54.2    & 6.0622  & 3       & 222     & 18.7    & 396.90  & 5.33    & 36.2   \\\\\n",
       "\t 0.02985 &  0      & 2.18    & 0       & 0.458   & 6.430   & 58.7    & 6.0622  & 3       & 222     & 18.7    & 394.12  & 5.21    & 28.7   \\\\\n",
       "\\end{tabular}\n"
      ],
      "text/plain": [
       "  crim    zn indus chas nox   rm    age  dis    rad tax ptratio b      lstat\n",
       "1 0.00632 18 2.31  0    0.538 6.575 65.2 4.0900 1   296 15.3    396.90 4.98 \n",
       "2 0.02731  0 7.07  0    0.469 6.421 78.9 4.9671 2   242 17.8    396.90 9.14 \n",
       "3 0.02729  0 7.07  0    0.469 7.185 61.1 4.9671 2   242 17.8    392.83 4.03 \n",
       "4 0.03237  0 2.18  0    0.458 6.998 45.8 6.0622 3   222 18.7    394.63 2.94 \n",
       "5 0.06905  0 2.18  0    0.458 7.147 54.2 6.0622 3   222 18.7    396.90 5.33 \n",
       "6 0.02985  0 2.18  0    0.458 6.430 58.7 6.0622 3   222 18.7    394.12 5.21 \n",
       "  medv\n",
       "1 24.0\n",
       "2 21.6\n",
       "3 34.7\n",
       "4 33.4\n",
       "5 36.2\n",
       "6 28.7"
      ]
     },
     "metadata": {},
     "output_type": "display_data"
    }
   ],
   "source": [
    "head(original)"
   ]
  },
  {
   "cell_type": "code",
   "execution_count": 6,
   "metadata": {
    "collapsed": false
   },
   "outputs": [
    {
     "name": "stdout",
     "output_type": "stream",
     "text": [
      "Observations: 506\n",
      "Variables: 14\n",
      "$ crim    (dbl) 0.00632, 0.02731, 0.02729, 0.03237, 0.06905, 0.02985, 0.088...\n",
      "$ zn      (dbl) 18.0, 0.0, 0.0, 0.0, 0.0, 0.0, 12.5, 12.5, 12.5, 12.5, 12.5...\n",
      "$ indus   (dbl) 2.31, 7.07, 7.07, 2.18, 2.18, 2.18, 7.87, 7.87, 7.87, 7.87,...\n",
      "$ chas    (fctr) 0, 0, 0, 0, 0, 0, 0, 0, 0, 0, 0, 0, 0, 0, 0, 0, 0, 0, 0, 0...\n",
      "$ nox     (dbl) 0.538, 0.469, 0.469, 0.458, 0.458, 0.458, 0.524, 0.524, 0.5...\n",
      "$ rm      (dbl) 6.575, 6.421, 7.185, 6.998, 7.147, 6.430, 6.012, 6.172, 5.6...\n",
      "$ age     (dbl) 65.2, 78.9, 61.1, 45.8, 54.2, 58.7, 66.6, 96.1, 100.0, 85.9...\n",
      "$ dis     (dbl) 4.0900, 4.9671, 4.9671, 6.0622, 6.0622, 6.0622, 5.5605, 5.9...\n",
      "$ rad     (dbl) 1, 2, 2, 3, 3, 3, 5, 5, 5, 5, 5, 5, 5, 4, 4, 4, 4, 4, 4, 4,...\n",
      "$ tax     (dbl) 296, 242, 242, 222, 222, 222, 311, 311, 311, 311, 311, 311,...\n",
      "$ ptratio (dbl) 15.3, 17.8, 17.8, 18.7, 18.7, 18.7, 15.2, 15.2, 15.2, 15.2,...\n",
      "$ b       (dbl) 396.90, 396.90, 392.83, 394.63, 396.90, 394.12, 395.60, 396...\n",
      "$ lstat   (dbl) 4.98, 9.14, 4.03, 2.94, 5.33, 5.21, 12.43, 19.15, 29.93, 17...\n",
      "$ medv    (dbl) 24.0, 21.6, 34.7, 33.4, 36.2, 28.7, 22.9, 27.1, 16.5, 18.9,...\n"
     ]
    }
   ],
   "source": [
    "glimpse(original)"
   ]
  },
  {
   "cell_type": "markdown",
   "metadata": {},
   "source": [
    "## 1. 引入缺失值"
   ]
  },
  {
   "cell_type": "code",
   "execution_count": 15,
   "metadata": {
    "collapsed": false
   },
   "outputs": [],
   "source": [
    "set.seed(123)\n",
    "original[sample(1:nrow(original),40), \"rad\"] <- NA\n",
    "original[sample(1:nrow(original), 40), \"ptratio\"] <- NA"
   ]
  },
  {
   "cell_type": "markdown",
   "metadata": {},
   "source": [
    "## 2. 检查哪里有缺失值"
   ]
  },
  {
   "cell_type": "code",
   "execution_count": 8,
   "metadata": {
    "collapsed": false
   },
   "outputs": [
    {
     "data": {
      "text/html": [
       "<table>\n",
       "<thead><tr><th></th><th scope=col>crim</th><th scope=col>zn</th><th scope=col>indus</th><th scope=col>chas</th><th scope=col>nox</th><th scope=col>rm</th><th scope=col>age</th><th scope=col>dis</th><th scope=col>tax</th><th scope=col>ptratio</th><th scope=col>b</th><th scope=col>lstat</th><th scope=col>medv</th><th scope=col>rad</th><th scope=col></th></tr></thead>\n",
       "<tbody>\n",
       "\t<tr><th scope=row>466</th><td>1 </td><td>1 </td><td>1 </td><td>1 </td><td>1 </td><td>1 </td><td>1 </td><td>1 </td><td>1 </td><td>1 </td><td>1 </td><td>1 </td><td>1 </td><td> 1</td><td> 0</td></tr>\n",
       "\t<tr><th scope=row> 40</th><td>1 </td><td>1 </td><td>1 </td><td>1 </td><td>1 </td><td>1 </td><td>1 </td><td>1 </td><td>1 </td><td>1 </td><td>1 </td><td>1 </td><td>1 </td><td> 0</td><td> 1</td></tr>\n",
       "\t<tr><th scope=row></th><td>0 </td><td>0 </td><td>0 </td><td>0 </td><td>0 </td><td>0 </td><td>0 </td><td>0 </td><td>0 </td><td>0 </td><td>0 </td><td>0 </td><td>0 </td><td>40</td><td>40</td></tr>\n",
       "</tbody>\n",
       "</table>\n"
      ],
      "text/latex": [
       "\\begin{tabular}{r|lllllllllllllll}\n",
       "  & crim & zn & indus & chas & nox & rm & age & dis & tax & ptratio & b & lstat & medv & rad & \\\\\n",
       "\\hline\n",
       "\t466 & 1  & 1  & 1  & 1  & 1  & 1  & 1  & 1  & 1  & 1  & 1  & 1  & 1  &  1 &  0\\\\\n",
       "\t 40 & 1  & 1  & 1  & 1  & 1  & 1  & 1  & 1  & 1  & 1  & 1  & 1  & 1  &  0 &  1\\\\\n",
       "\t & 0  & 0  & 0  & 0  & 0  & 0  & 0  & 0  & 0  & 0  & 0  & 0  & 0  & 40 & 40\\\\\n",
       "\\end{tabular}\n"
      ],
      "text/markdown": [
       "1. 1\n",
       "2. 1\n",
       "3. 0\n",
       "4. 1\n",
       "5. 1\n",
       "6. 0\n",
       "7. 1\n",
       "8. 1\n",
       "9. 0\n",
       "10. 1\n",
       "11. 1\n",
       "12. 0\n",
       "13. 1\n",
       "14. 1\n",
       "15. 0\n",
       "16. 1\n",
       "17. 1\n",
       "18. 0\n",
       "19. 1\n",
       "20. 1\n",
       "21. 0\n",
       "22. 1\n",
       "23. 1\n",
       "24. 0\n",
       "25. 1\n",
       "26. 1\n",
       "27. 0\n",
       "28. 1\n",
       "29. 1\n",
       "30. 0\n",
       "31. 1\n",
       "32. 1\n",
       "33. 0\n",
       "34. 1\n",
       "35. 1\n",
       "36. 0\n",
       "37. 1\n",
       "38. 1\n",
       "39. 0\n",
       "40. 1\n",
       "41. 0\n",
       "42. 40\n",
       "43. 0\n",
       "44. 1\n",
       "45. 40\n",
       "\n",
       "\n"
      ],
      "text/plain": [
       "    crim zn indus chas nox rm age dis tax ptratio b lstat medv rad   \n",
       "466 1    1  1     1    1   1  1   1   1   1       1 1     1     1   0\n",
       " 40 1    1  1     1    1   1  1   1   1   1       1 1     1     0   1\n",
       "    0    0  0     0    0   0  0   0   0   0       0 0     0    40  40"
      ]
     },
     "metadata": {},
     "output_type": "display_data"
    }
   ],
   "source": [
    "md.pattern(original)"
   ]
  },
  {
   "cell_type": "markdown",
   "metadata": {},
   "source": [
    "### 表示有466行没有缺失值，有40行有缺失值，另外其中观测值为0表示是缺失值；最后列的值1表示有1次缺失，40为总计的40次缺失\n",
    "\n",
    "## 3.1 缺失值的处理方式: delete the observation"
   ]
  },
  {
   "cell_type": "markdown",
   "metadata": {},
   "source": [
    "删除缺失值需要保证对之后的建模过程没有较大地影响；"
   ]
  },
  {
   "cell_type": "code",
   "execution_count": 9,
   "metadata": {
    "collapsed": false
   },
   "outputs": [
    {
     "data": {
      "text/plain": [
       "\n",
       "Call:\n",
       "lm(formula = medv ~ ptratio + rad, data = original, na.action = na.omit)\n",
       "\n",
       "Coefficients:\n",
       "(Intercept)      ptratio          rad  \n",
       "    56.6771      -1.7501      -0.1962  \n"
      ]
     },
     "metadata": {},
     "output_type": "display_data"
    }
   ],
   "source": [
    "lm(medv~ptratio+rad, data=original, na.action=na.omit)"
   ]
  },
  {
   "cell_type": "markdown",
   "metadata": {},
   "source": [
    "## 3.2 deleting the variable\n",
    "\n",
    "一个变量出现过多缺失值的话，我们不得不考虑删除这个变量了~\n",
    "\n",
    "## 3.3 imputation with mean/median/mode\n",
    "用均值，中位数或者众数来进行替代：前提是数据波动不大"
   ]
  },
  {
   "cell_type": "code",
   "execution_count": 19,
   "metadata": {
    "collapsed": false
   },
   "outputs": [
    {
     "data": {
      "text/plain": [
       "        1         2         3         4         5         6         7         8 \n",
       "18.42232*  17.80000  17.80000  18.70000  18.70000  18.70000  15.20000  15.20000 \n",
       "        9        10        11        12        13        14        15        16 \n",
       " 15.20000  15.20000  15.20000  15.20000  15.20000  21.00000  21.00000  21.00000 \n",
       "       17        18        19        20        21        22        23        24 \n",
       " 21.00000  21.00000  21.00000  21.00000  21.00000  21.00000 18.42232*  21.00000 \n",
       "       25        26        27        28        29        30        31        32 \n",
       " 21.00000  21.00000  21.00000  21.00000  21.00000  21.00000  21.00000  21.00000 \n",
       "       33        34        35        36        37        38        39        40 \n",
       " 21.00000  21.00000  21.00000  19.20000  19.20000  19.20000  19.20000  18.30000 \n",
       "       41        42        43        44        45        46        47        48 \n",
       " 18.30000  17.90000  17.90000  17.90000  17.90000 18.42232*  17.90000  17.90000 \n",
       "       49        50        51        52        53        54        55        56 \n",
       " 17.90000  17.90000  16.80000 18.42232*  16.80000  16.80000  21.10000  17.90000 \n",
       "       57        58        59        60        61        62        63        64 \n",
       " 17.30000  15.10000  19.70000  19.70000 18.42232*  19.70000 18.42232*  19.70000 \n",
       "       65        66        67        68        69        70        71        72 \n",
       " 18.60000  16.10000  16.10000  18.90000  18.90000 18.42232*  19.20000  19.20000 \n",
       "       73        74        75        76        77        78        79        80 \n",
       "18.42232*  19.20000  18.70000  18.70000 18.42232*  18.70000  18.70000  18.70000 \n",
       "       81        82        83        84        85        86        87        88 \n",
       " 19.00000  19.00000  19.00000  19.00000  18.50000  18.50000  18.50000  18.50000 \n",
       "       89        90        91        92        93        94        95        96 \n",
       " 17.80000  17.80000  17.80000  17.80000  18.20000  18.20000  18.20000  18.00000 \n",
       "       97        98        99       100       101       102       103       104 \n",
       " 18.00000  18.00000  18.00000  18.00000  20.90000 18.42232*  20.90000 18.42232* \n",
       "      105       106       107       108       109       110       111       112 \n",
       " 20.90000  20.90000  20.90000  20.90000  20.90000  20.90000  20.90000  17.80000 \n",
       "      113       114       115       116       117       118       119       120 \n",
       " 17.80000  17.80000  17.80000  17.80000 18.42232*  17.80000  17.80000  17.80000 \n",
       "      121       122       123       124       125       126       127       128 \n",
       " 19.10000  19.10000  19.10000  19.10000  19.10000  19.10000  19.10000  21.20000 \n",
       "      129       130       131       132       133       134       135       136 \n",
       " 21.20000  21.20000  21.20000  21.20000 18.42232*  21.20000  21.20000  21.20000 \n",
       "      137       138       139       140       141       142       143       144 \n",
       " 21.20000  21.20000  21.20000  21.20000  21.20000  21.20000  14.70000  14.70000 \n",
       "      145       146       147       148       149       150       151       152 \n",
       " 14.70000  14.70000  14.70000  14.70000  14.70000  14.70000  14.70000  14.70000 \n",
       "      153       154       155       156       157       158       159       160 \n",
       " 14.70000  14.70000  14.70000  14.70000  14.70000  14.70000  14.70000  14.70000 \n",
       "      161       162       163       164       165       166       167       168 \n",
       " 14.70000  14.70000  14.70000  14.70000 18.42232*  14.70000  14.70000  14.70000 \n",
       "      169       170       171       172       173       174       175       176 \n",
       " 14.70000  14.70000  14.70000  14.70000  16.60000  16.60000  16.60000  16.60000 \n",
       "      177       178       179       180       181       182       183       184 \n",
       " 16.60000  16.60000 18.42232*  17.80000  17.80000  17.80000 18.42232*  17.80000 \n",
       "      185       186       187       188       189       190       191       192 \n",
       " 17.80000 18.42232*  17.80000  15.20000  15.20000  15.20000  15.20000  15.20000 \n",
       "      193       194       195       196       197       198       199       200 \n",
       " 15.20000  15.60000  15.60000  14.40000  12.60000  12.60000  12.60000  17.00000 \n",
       "      201       202       203       204       205       206       207       208 \n",
       " 17.00000  14.70000  14.70000  14.70000  14.70000  18.60000  18.60000  18.60000 \n",
       "      209       210       211       212       213       214       215       216 \n",
       "18.42232* 18.42232*  18.60000  18.60000  18.60000  18.60000  18.60000 18.42232* \n",
       "      217       218       219       220       221       222       223       224 \n",
       " 16.40000  16.40000 18.42232*  16.40000  17.40000  17.40000  17.40000  17.40000 \n",
       "      225       226       227       228       229       230       231       232 \n",
       "18.42232*  17.40000  17.40000  17.40000  17.40000  17.40000  17.40000  17.40000 \n",
       "      233       234       235       236       237       238       239       240 \n",
       "18.42232*  17.40000  17.40000  17.40000  17.40000  17.40000  16.60000  16.60000 \n",
       "      241       242       243       244       245       246       247       248 \n",
       " 16.60000  16.60000  16.60000  16.60000  19.10000  19.10000  19.10000  19.10000 \n",
       "      249       250       251       252       253       254       255       256 \n",
       " 19.10000  19.10000  19.10000  19.10000  19.10000  19.10000  16.40000  16.40000 \n",
       "      257       258       259       260       261       262       263       264 \n",
       " 15.90000  13.00000  13.00000  13.00000  13.00000  13.00000  13.00000  13.00000 \n",
       "      265       266       267       268       269       270       271       272 \n",
       " 13.00000  13.00000  13.00000  13.00000  13.00000  18.60000  18.60000  18.60000 \n",
       "      273       274       275       276       277       278       279       280 \n",
       " 18.60000  18.60000  17.60000 18.42232*  17.60000  17.60000  17.60000  14.90000 \n",
       "      281       282       283       284       285       286       287       288 \n",
       " 14.90000  14.90000  14.90000  13.60000  15.30000  15.30000  18.20000 18.42232* \n",
       "      289       290       291       292       293       294       295       296 \n",
       " 16.60000  16.60000  19.20000  19.20000  19.20000  16.00000  16.00000  16.00000 \n",
       "      297       298       299       300       301       302       303       304 \n",
       " 16.00000  16.00000 18.42232*  14.80000  14.80000  16.10000  16.10000  16.10000 \n",
       "      305       306       307       308       309       310       311       312 \n",
       " 18.40000  18.40000  18.40000  18.40000  18.40000  18.40000  18.40000  18.40000 \n",
       "      313       314       315       316       317       318       319       320 \n",
       " 18.40000  18.40000  18.40000  18.40000  18.40000  18.40000  18.40000  18.40000 \n",
       "      321       322       323       324       325       326       327       328 \n",
       " 19.60000  19.60000  19.60000 18.42232*  19.60000  19.60000  19.60000  19.60000 \n",
       "      329       330       331       332       333       334       335       336 \n",
       " 16.90000  16.90000  16.90000  16.90000  16.90000  20.20000  20.20000  20.20000 \n",
       "      337       338       339       340       341       342       343       344 \n",
       "18.42232*  20.20000  20.20000  20.20000  20.20000  15.50000  15.90000  17.60000 \n",
       "      345       346       347       348       349       350       351       352 \n",
       " 17.60000  18.80000  18.80000  17.90000  17.00000  19.70000  19.70000  18.30000 \n",
       "      353       354       355       356       357       358       359       360 \n",
       " 18.30000  17.00000  22.00000  22.00000  20.20000  20.20000  20.20000 18.42232* \n",
       "      361       362       363       364       365       366       367       368 \n",
       " 20.20000  20.20000  20.20000  20.20000  20.20000  20.20000  20.20000  20.20000 \n",
       "      369       370       371       372       373       374       375       376 \n",
       "18.42232*  20.20000  20.20000  20.20000  20.20000  20.20000  20.20000  20.20000 \n",
       "      377       378       379       380       381       382       383       384 \n",
       " 20.20000  20.20000  20.20000 18.42232*  20.20000  20.20000  20.20000  20.20000 \n",
       "      385       386       387       388       389       390       391       392 \n",
       " 20.20000  20.20000  20.20000  20.20000 18.42232* 18.42232*  20.20000  20.20000 \n",
       "      393       394       395       396       397       398       399       400 \n",
       "18.42232*  20.20000 18.42232*  20.20000  20.20000  20.20000  20.20000  20.20000 \n",
       "      401       402       403       404       405       406       407       408 \n",
       " 20.20000  20.20000  20.20000  20.20000  20.20000  20.20000  20.20000  20.20000 \n",
       "      409       410       411       412       413       414       415       416 \n",
       " 20.20000  20.20000  20.20000  20.20000  20.20000  20.20000  20.20000  20.20000 \n",
       "      417       418       419       420       421       422       423       424 \n",
       " 20.20000  20.20000  20.20000  20.20000  20.20000  20.20000  20.20000  20.20000 \n",
       "      425       426       427       428       429       430       431       432 \n",
       " 20.20000  20.20000 18.42232*  20.20000  20.20000  20.20000  20.20000  20.20000 \n",
       "      433       434       435       436       437       438       439       440 \n",
       " 20.20000  20.20000  20.20000  20.20000 18.42232*  20.20000  20.20000  20.20000 \n",
       "      441       442       443       444       445       446       447       448 \n",
       " 20.20000  20.20000  20.20000  20.20000  20.20000  20.20000  20.20000  20.20000 \n",
       "      449       450       451       452       453       454       455       456 \n",
       " 20.20000  20.20000  20.20000  20.20000  20.20000  20.20000  20.20000  20.20000 \n",
       "      457       458       459       460       461       462       463       464 \n",
       " 20.20000  20.20000  20.20000  20.20000  20.20000  20.20000  20.20000  20.20000 \n",
       "      465       466       467       468       469       470       471       472 \n",
       " 20.20000  20.20000  20.20000  20.20000  20.20000  20.20000  20.20000  20.20000 \n",
       "      473       474       475       476       477       478       479       480 \n",
       " 20.20000  20.20000  20.20000  20.20000  20.20000  20.20000  20.20000  20.20000 \n",
       "      481       482       483       484       485       486       487       488 \n",
       " 20.20000  20.20000  20.20000  20.20000  20.20000  20.20000  20.20000  20.20000 \n",
       "      489       490       491       492       493       494       495       496 \n",
       " 20.10000  20.10000  20.10000  20.10000  20.10000  19.20000  19.20000  19.20000 \n",
       "      497       498       499       500       501       502       503       504 \n",
       " 19.20000 18.42232*  19.20000  19.20000  19.20000  21.00000 18.42232*  21.00000 \n",
       "      505       506 \n",
       "18.42232*  21.00000 "
      ]
     },
     "metadata": {},
     "output_type": "display_data"
    }
   ],
   "source": [
    "library(Hmisc)\n",
    "impute(original$ptratio, mean) # replace the value with mean\n",
    "# impute(original$ptratio, median)  #median\n",
    "# impute(original$ptratio, 20)  # 20"
   ]
  },
  {
   "cell_type": "markdown",
   "metadata": {},
   "source": [
    "其实就等价于"
   ]
  },
  {
   "cell_type": "code",
   "execution_count": 20,
   "metadata": {
    "collapsed": true
   },
   "outputs": [],
   "source": [
    "# original$ptratio[is.na(original$ptratio)] <- mean(original$ptratio, na.rm = T)\n"
   ]
  },
  {
   "cell_type": "markdown",
   "metadata": {},
   "source": [
    "我们来计算用mean进行缺失值处理之后，效果如何？\n"
   ]
  },
  {
   "cell_type": "code",
   "execution_count": 37,
   "metadata": {
    "collapsed": false
   },
   "outputs": [
    {
     "data": {
      "text/html": [
       "<dl class=dl-horizontal>\n",
       "\t<dt>mae</dt>\n",
       "\t\t<dd>1.57080472103004</dd>\n",
       "\t<dt>mse</dt>\n",
       "\t\t<dd>3.30199700215513</dd>\n",
       "\t<dt>rmse</dt>\n",
       "\t\t<dd>1.81713978608007</dd>\n",
       "\t<dt>mape</dt>\n",
       "\t\t<dd>0.0848941541727061</dd>\n",
       "</dl>\n"
      ],
      "text/latex": [
       "\\begin{description*}\n",
       "\\item[mae] 1.57080472103004\n",
       "\\item[mse] 3.30199700215513\n",
       "\\item[rmse] 1.81713978608007\n",
       "\\item[mape] 0.0848941541727061\n",
       "\\end{description*}\n"
      ],
      "text/markdown": [
       "mae\n",
       ":   1.57080472103004mse\n",
       ":   3.30199700215513rmse\n",
       ":   1.81713978608007mape\n",
       ":   0.0848941541727061\n",
       "\n"
      ],
      "text/plain": [
       "       mae        mse       rmse       mape \n",
       "1.57080472 3.30199700 1.81713979 0.08489415 "
      ]
     },
     "metadata": {},
     "output_type": "display_data"
    }
   ],
   "source": [
    "actuals <- BostonHousing$ptratio[is.na(original$ptratio)]\n",
    "preds <- impute(original$ptratio, mean)[is.na(original$ptratio)]\n",
    "regr.eval(actuals,preds)"
   ]
  },
  {
   "cell_type": "markdown",
   "metadata": {
    "collapsed": true
   },
   "source": [
    "## 3.4 prediction\n",
    " ### i) kNN imputation\n",
    " DMwR::knnImputation uses k-Nearest Neighbours approach to impute missing values\n",
    " \n",
    "用knn寻找缺失值周围k个最近邻，计算加权基于距离）平均"
   ]
  },
  {
   "cell_type": "code",
   "execution_count": 26,
   "metadata": {
    "collapsed": false
   },
   "outputs": [
    {
     "data": {
      "text/html": [
       "FALSE"
      ],
      "text/latex": [
       "FALSE"
      ],
      "text/markdown": [
       "FALSE"
      ],
      "text/plain": [
       "[1] FALSE"
      ]
     },
     "metadata": {},
     "output_type": "display_data"
    }
   ],
   "source": [
    "library(DMwR)\n",
    "knnoutput <- knnImputation(original[,!names(original) %in% \"medv\"])\n",
    "anyNA(knnoutput)"
   ]
  },
  {
   "cell_type": "markdown",
   "metadata": {
    "collapsed": true
   },
   "source": [
    "计算accuracy: 就是我们的原始数据与我做缺失值处理之间做回归的差异"
   ]
  },
  {
   "cell_type": "code",
   "execution_count": 30,
   "metadata": {
    "collapsed": false
   },
   "outputs": [
    {
     "data": {
      "text/html": [
       "<dl class=dl-horizontal>\n",
       "\t<dt>mae</dt>\n",
       "\t\t<dd>0.866340777530194</dd>\n",
       "\t<dt>mse</dt>\n",
       "\t\t<dd>1.62572338245367</dd>\n",
       "\t<dt>rmse</dt>\n",
       "\t\t<dd>1.27503858077067</dd>\n",
       "\t<dt>mape</dt>\n",
       "\t\t<dd>0.0487750821324611</dd>\n",
       "</dl>\n"
      ],
      "text/latex": [
       "\\begin{description*}\n",
       "\\item[mae] 0.866340777530194\n",
       "\\item[mse] 1.62572338245367\n",
       "\\item[rmse] 1.27503858077067\n",
       "\\item[mape] 0.0487750821324611\n",
       "\\end{description*}\n"
      ],
      "text/markdown": [
       "mae\n",
       ":   0.866340777530194mse\n",
       ":   1.62572338245367rmse\n",
       ":   1.27503858077067mape\n",
       ":   0.0487750821324611\n",
       "\n"
      ],
      "text/plain": [
       "       mae        mse       rmse       mape \n",
       "0.86634078 1.62572338 1.27503858 0.04877508 "
      ]
     },
     "metadata": {},
     "output_type": "display_data"
    }
   ],
   "source": [
    "actuals <- BostonHousing$ptratio[is.na(original$ptratio)]\n",
    "predicteds <- knnoutput[is.na(original$ptratio), \"ptratio\"]\n",
    "regr.eval(actuals, predicteds)"
   ]
  },
  {
   "cell_type": "markdown",
   "metadata": {
    "collapsed": true
   },
   "source": [
    "### ii) rpart 回归树\n",
    "knn若是遇到factor变量就会出错"
   ]
  },
  {
   "cell_type": "code",
   "execution_count": 38,
   "metadata": {
    "collapsed": true
   },
   "outputs": [],
   "source": [
    "library(rpart)\n",
    "class_mod <- rpart(rad ~.-medv, data=original[!is.na(original$rad),],\n",
    "                  method = \"class\", na.action = na.omit)\n",
    "\n",
    "anova_mod <- rpart(ptratio ~ . - medv, \n",
    "                   data=original[!is.na(original$ptratio), ], \n",
    "                   method=\"anova\", na.action=na.omit)  # since ptratio is numeric.\n",
    "rad_pred <- predict(class_mod, original[is.na(original$rad), ])\n",
    "ptratio_pred <- predict(anova_mod, original[is.na(original$ptratio), ])\n"
   ]
  },
  {
   "cell_type": "markdown",
   "metadata": {},
   "source": [
    "其中 accuracy of ptratio"
   ]
  },
  {
   "cell_type": "code",
   "execution_count": 40,
   "metadata": {
    "collapsed": false,
    "scrolled": true
   },
   "outputs": [
    {
     "data": {
      "text/html": [
       "<dl class=dl-horizontal>\n",
       "\t<dt>mae</dt>\n",
       "\t\t<dd>0.581442383553136</dd>\n",
       "\t<dt>mse</dt>\n",
       "\t\t<dd>0.687441121783537</dd>\n",
       "\t<dt>rmse</dt>\n",
       "\t\t<dd>0.829120691928224</dd>\n",
       "\t<dt>mape</dt>\n",
       "\t\t<dd>0.0313131017210509</dd>\n",
       "</dl>\n"
      ],
      "text/latex": [
       "\\begin{description*}\n",
       "\\item[mae] 0.581442383553136\n",
       "\\item[mse] 0.687441121783537\n",
       "\\item[rmse] 0.829120691928224\n",
       "\\item[mape] 0.0313131017210509\n",
       "\\end{description*}\n"
      ],
      "text/markdown": [
       "mae\n",
       ":   0.581442383553136mse\n",
       ":   0.687441121783537rmse\n",
       ":   0.829120691928224mape\n",
       ":   0.0313131017210509\n",
       "\n"
      ],
      "text/plain": [
       "      mae       mse      rmse      mape \n",
       "0.5814424 0.6874411 0.8291207 0.0313131 "
      ]
     },
     "metadata": {},
     "output_type": "display_data"
    }
   ],
   "source": [
    "actual1 <- BostonHousing$ptratio[is.na(original$ptratio)]\n",
    "regr.eval(actual1, ptratio_pred)"
   ]
  },
  {
   "cell_type": "markdown",
   "metadata": {},
   "source": [
    "其中accuracy of rad"
   ]
  },
  {
   "cell_type": "code",
   "execution_count": 46,
   "metadata": {
    "collapsed": false
   },
   "outputs": [
    {
     "data": {
      "text/html": [
       "0.075"
      ],
      "text/latex": [
       "0.075"
      ],
      "text/markdown": [
       "0.075"
      ],
      "text/plain": [
       "[1] 0.075"
      ]
     },
     "metadata": {},
     "output_type": "display_data"
    }
   ],
   "source": [
    "actual2 <- BostonHousing$rad[is.na(original$rad)]\n",
    "predicteds <- as.numeric(colnames(rad_pred)[apply(rad_pred, 1, which.max)])\n",
    "\n",
    "mean(actual2 != predicteds)\n"
   ]
  },
  {
   "cell_type": "markdown",
   "metadata": {},
   "source": [
    "### iii) mice包 multivariate imputation by chained equations \n",
    "\n",
    "mice()运用多种方式处理缺失值，complete()可以返回这多个结果"
   ]
  },
  {
   "cell_type": "code",
   "execution_count": 47,
   "metadata": {
    "collapsed": false,
    "scrolled": true
   },
   "outputs": [
    {
     "name": "stdout",
     "output_type": "stream",
     "text": [
      "\n",
      " iter imp variable\n",
      "  1   1  rad  ptratio\n",
      "  1   2  rad  ptratio\n",
      "  1   3  rad  ptratio\n",
      "  1   4  rad  ptratio\n",
      "  1   5  rad  ptratio\n",
      "  2   1  rad  ptratio\n",
      "  2   2  rad  ptratio\n",
      "  2   3  rad  ptratio\n",
      "  2   4  rad  ptratio\n",
      "  2   5  rad  ptratio\n",
      "  3   1  rad  ptratio\n",
      "  3   2  rad  ptratio\n",
      "  3   3  rad  ptratio\n",
      "  3   4  rad  ptratio\n",
      "  3   5  rad  ptratio\n",
      "  4   1  rad  ptratio\n",
      "  4   2  rad  ptratio\n",
      "  4   3  rad  ptratio\n",
      "  4   4  rad  ptratio\n",
      "  4   5  rad  ptratio\n",
      "  5   1  rad  ptratio\n",
      "  5   2  rad  ptratio\n",
      "  5   3  rad  ptratio\n",
      "  5   4  rad  ptratio\n",
      "  5   5  rad  ptratio\n"
     ]
    },
    {
     "data": {
      "text/html": [
       "FALSE"
      ],
      "text/latex": [
       "FALSE"
      ],
      "text/markdown": [
       "FALSE"
      ],
      "text/plain": [
       "[1] FALSE"
      ]
     },
     "metadata": {},
     "output_type": "display_data"
    }
   ],
   "source": [
    "library(mice)\n",
    "micemod <- mice(original[, !names(original) %in% \"medv\"],\n",
    "               method=\"rf\")   # baesd on random forests\n",
    "\n",
    "miceoutput <- complete(micemod)\n",
    "anyNA(miceoutput)"
   ]
  },
  {
   "cell_type": "markdown",
   "metadata": {},
   "source": [
    "计算accuracy of ptratio, 比使用rpart效果提升不少"
   ]
  },
  {
   "cell_type": "code",
   "execution_count": 50,
   "metadata": {
    "collapsed": false,
    "scrolled": true
   },
   "outputs": [
    {
     "data": {
      "text/html": [
       "<dl class=dl-horizontal>\n",
       "\t<dt>mae</dt>\n",
       "\t\t<dd>0.3475</dd>\n",
       "\t<dt>mse</dt>\n",
       "\t\t<dd>1.10625</dd>\n",
       "\t<dt>rmse</dt>\n",
       "\t\t<dd>1.05178419839813</dd>\n",
       "\t<dt>mape</dt>\n",
       "\t\t<dd>0.018155793909961</dd>\n",
       "</dl>\n"
      ],
      "text/latex": [
       "\\begin{description*}\n",
       "\\item[mae] 0.3475\n",
       "\\item[mse] 1.10625\n",
       "\\item[rmse] 1.05178419839813\n",
       "\\item[mape] 0.018155793909961\n",
       "\\end{description*}\n"
      ],
      "text/markdown": [
       "mae\n",
       ":   0.3475mse\n",
       ":   1.10625rmse\n",
       ":   1.05178419839813mape\n",
       ":   0.018155793909961\n",
       "\n"
      ],
      "text/plain": [
       "       mae        mse       rmse       mape \n",
       "0.34750000 1.10625000 1.05178420 0.01815579 "
      ]
     },
     "metadata": {},
     "output_type": "display_data"
    }
   ],
   "source": [
    "actuals <- BostonHousing$ptratio[is.na(original$ptratio)]\n",
    "predict_rf <- miceoutput[is.na(original$ptratio), \"ptratio\"]\n",
    "regr.eval(actuals, predict_rf)"
   ]
  },
  {
   "cell_type": "code",
   "execution_count": 52,
   "metadata": {
    "collapsed": false
   },
   "outputs": [
    {
     "data": {
      "text/html": [
       "0.075"
      ],
      "text/latex": [
       "0.075"
      ],
      "text/markdown": [
       "0.075"
      ],
      "text/plain": [
       "[1] 0.075"
      ]
     },
     "metadata": {},
     "output_type": "display_data"
    }
   ],
   "source": [
    "actuals <- BostonHousing$rad[is.na(original$rad)]\n",
    "predict_rf <- miceoutput[is.na(original$rad), \"rad\"]\n",
    "mean(actuals != predict_rf)"
   ]
  },
  {
   "cell_type": "markdown",
   "metadata": {},
   "source": [
    "以上内容来自于http://datascienceplus.com/missing-value-treatment/"
   ]
  },
  {
   "cell_type": "code",
   "execution_count": null,
   "metadata": {
    "collapsed": true
   },
   "outputs": [],
   "source": []
  }
 ],
 "metadata": {
  "anaconda-cloud": {},
  "kernelspec": {
   "display_name": "R 3.3",
   "language": "R",
   "name": "ir33"
  },
  "language_info": {
   "codemirror_mode": "r",
   "file_extension": ".r",
   "mimetype": "text/x-r-source",
   "name": "R",
   "pygments_lexer": "r",
   "version": "3.3.0"
  }
 },
 "nbformat": 4,
 "nbformat_minor": 0
}
