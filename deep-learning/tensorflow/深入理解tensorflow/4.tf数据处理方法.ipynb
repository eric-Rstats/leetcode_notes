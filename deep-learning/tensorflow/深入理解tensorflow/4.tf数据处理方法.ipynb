{
 "cells": [
  {
   "cell_type": "code",
   "execution_count": 1,
   "metadata": {},
   "outputs": [],
   "source": [
    "import tensorflow as tf\n",
    "import numpy as np\n",
    "import matplotlib.pyplot as plt"
   ]
  },
  {
   "cell_type": "code",
   "execution_count": null,
   "metadata": {},
   "outputs": [],
   "source": []
  },
  {
   "cell_type": "markdown",
   "metadata": {},
   "source": [
    "## 4.1 处理CIFAR-10数据集"
   ]
  },
  {
   "cell_type": "code",
   "execution_count": 4,
   "metadata": {},
   "outputs": [],
   "source": [
    "LABEL_BYTES = 1\n",
    "IMAGE_SIZE = 32\n",
    "IMAGE_DEPTH = 3\n",
    "\n",
    "# 图片数据为 32*32*3 = 3072字节\n",
    "\n",
    "IMAGE_BYTES = IMAGE_SIZE **2 * IMAGE_DEPTH\n",
    "\n",
    "# 共有十类标签\n",
    "NUM_CLASSES = 10"
   ]
  },
  {
   "cell_type": "code",
   "execution_count": 7,
   "metadata": {},
   "outputs": [],
   "source": [
    "def read_cifar10(data_file, batch_size):\n",
    "    \"\"\"从CIFAR-10数据文件中读取批数据\n",
    "    Parameters:\n",
    "      data_file: CIFAR-10 数据文件\n",
    "      batch_size: 批数据大小\n",
    "      \n",
    "    Returns:\n",
    "      images: 形如[batch_size, image_size, image_size, 3]的图像数据\n",
    "      labels: 形如[batch_size, NUM_CLASSES]的标签批数据\n",
    "    \n",
    "    \"\"\"\n",
    "    \n",
    "    # 一张图片3072字节,label 1字节，共3073字节\n",
    "    record_bytes = LABEL_BYTES + IMAGE_BYTES\n",
    "    # 创建文件名列表\n",
    "    data_files = tf.gfile.Glob(data_file)\n",
    "    # 创建文件名队列,shuffle=True表示\n",
    "    file_queue = tf.train.string_input_producer(data_files, shuffle=True)\n",
    "    # 创建二进制文件对应的Reader实例，按照记录大小从文件名队列中读取样例\n",
    "    reader = tf.FixedLengthRecordReader(record_bytes=record_bytes)\n",
    "    _, value = reader.read(file_queue)\n",
    "    \n",
    "    # 将样例拆分为类别标签和图片\n",
    "    record = tf.reshape(tf.decode_raw(value, tf.uint8), [record_bytes])\n",
    "    label = tf.cast(tf.slice(record, [LABEL_BYTES]), tf.int32)\n",
    "    # 将字符串转为图片张量\n",
    "    depth_major = tf.reshape(tf.slice(record, [LABEL_BYTES], [IMAGE_BYTES]),\n",
    "                            [IMAGE_DEPTH, IMAGE_SIZE, IMAGE_SIZE])\n",
    "    # 转化为height*width*depth\n",
    "    image = tf.cast(tf.transpose(depth_major, [1,2,0]), tf.float32)\n",
    "    \n",
    "    # 创建样例队列\n",
    "    example_queue = tf.RandomShuffleQueue(\n",
    "            capacity=16*batch_size,\n",
    "            min_after_dequeue=8*batch_size,\n",
    "            dtypes=[tf.float32, tf.int32],\n",
    "            shapes=[[IMAGE_SIZE, IMAGE_SIZE, IMAGE_DEPTH], [1]])\n",
    "    num_threds = 4\n",
    "    \n",
    "    # 创建样例队列的入队操作\n",
    "    example_enqueue_op = example_queue.enqueue([image, label])\n",
    "    # 将定义的4个现成全部添加到queue runner中\n",
    "    tf.train.add_queue_runner(tf.train.queue_runner(\n",
    "    example_queue, [example_enqueue_op] * num_threds))\n",
    "    \n",
    "    # 读取图片和标签\n",
    "    images, labels = example_queue.dequeue_many(batch_size)\n",
    "    labels = tf.reshape(labels, [batch_size, 1])\n",
    "    indices = tf.reshape(tf.range(0, batch_size, 1), [batch_size, 1])\n",
    "    labels = tf.sparse_to_dense(\n",
    "            tf.concat(values=[0, labels], axis=1),\n",
    "            [batch_size, NUM_CLASSES], 1.0, 0.0)\n",
    "    \n",
    "    # 展示images 和labels 的数据结构\n",
    "    assert len(imgaes.get_shape()) == 4\n",
    "    assert images.get_shape()[0] == batch_size\n",
    "    assert images.get_shape()[-1] == 3\n",
    "    assert len(labels.get_shape()) == 2\n",
    "    assert labels.get_shape()[0] == batch_size\n",
    "    assert labels.get_shape()[1] == NUM_CLASSES\n",
    "    \n",
    "    return images, labels"
   ]
  },
  {
   "cell_type": "code",
   "execution_count": null,
   "metadata": {},
   "outputs": [],
   "source": [
    "BATCH_SIZE = 24\n",
    "x = tf.placeholder(tf.float32,[BATCH_SIZE, IMAGE_SIZE, IMAGE_SIZE, IMAGE_DEPTH],'x')\n",
    "y = tf.placeholder(tf.int32, [BATCH_SIZE, 1],'y')\n",
    "\n",
    "with tf.Session() as sess:\n",
    "    tf.global_variables_initializer().run()\n",
    "    batch_xs, batch_ys = read_cifar10('/Users/yanghao/github/data/dl_data/cifar-10-python.tar.gz',BATCH_SIZE)\n",
    "    sess.run(train_op)"
   ]
  }
 ],
 "metadata": {
  "kernelspec": {
   "display_name": "Python 3",
   "language": "python",
   "name": "python3"
  },
  "language_info": {
   "codemirror_mode": {
    "name": "ipython",
    "version": 3
   },
   "file_extension": ".py",
   "mimetype": "text/x-python",
   "name": "python",
   "nbconvert_exporter": "python",
   "pygments_lexer": "ipython3",
   "version": "3.6.8"
  }
 },
 "nbformat": 4,
 "nbformat_minor": 2
}
