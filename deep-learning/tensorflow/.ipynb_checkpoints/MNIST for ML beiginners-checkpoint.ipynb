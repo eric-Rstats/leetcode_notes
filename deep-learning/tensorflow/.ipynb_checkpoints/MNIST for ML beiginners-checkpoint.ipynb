{
 "cells": [
  {
   "cell_type": "markdown",
   "metadata": {},
   "source": [
    "# MNIST 入门\n",
    "\n",
    "## The MNIST Data\n"
   ]
  },
  {
   "cell_type": "code",
   "execution_count": 5,
   "metadata": {
    "collapsed": false
   },
   "outputs": [
    {
     "name": "stdout",
     "output_type": "stream",
     "text": [
      "Extracting MNIST_data/train-images-idx3-ubyte.gz\n",
      "Extracting MNIST_data/train-labels-idx1-ubyte.gz\n",
      "Extracting MNIST_data/t10k-images-idx3-ubyte.gz\n",
      "Extracting MNIST_data/t10k-labels-idx1-ubyte.gz\n"
     ]
    }
   ],
   "source": [
    "from tensorflow.examples.tutorials.mnist import input_data\n",
    "mnist = input_data.read_data_sets(\"MNIST_data/\", one_hot=True)"
   ]
  },
  {
   "cell_type": "markdown",
   "metadata": {},
   "source": [
    "MINIST 数据被分为5500 train，10000test， 5000 validation；\n",
    "数据点包括：一张image，一个label\n",
    "\n",
    "每张图是 28 * 28 像素，可以理解为一个矩阵\n",
    "![](https://www.tensorflow.org/images/MNIST-Matrix.png)\n",
    "\n",
    "flatten the data into a vector 28*28=784;\n",
    "\n",
    "`mnist.train.images`是一个tensor，shape为[55000, 784] ；\n",
    "![](https://www.tensorflow.org/images/mnist-train-xs.png)\n",
    "\n",
    "使用one-hot-encoding；0到9十个数字，因此,mnist.train.labels是一个[55000, 10]的array。\n",
    "![](https://www.tensorflow.org/images/mnist-train-ys.png)\n",
    "\n",
    "## softmax regression\n",
    "softmax来做分类；\n",
    "$$evidence_i = \\sum_j W_{i,j}x_j + b_i$$\n",
    "$$y=softmax(evidence)$$\n",
    "\n",
    "用softmax作为最后输出层的激活函数，即\n",
    "$$p_i = softmax(x)_i = \\frac{exp(WX+b)}{\\sum_j exp(WX+b)}$$;\n",
    "\n",
    "是logistic function的推广，将输出转化为各个label上的概率值；文档中的图片给出了其原理：\n",
    "![](https://www.tensorflow.org/images/softmax-regression-scalargraph.png)\n",
    "![](https://www.tensorflow.org/images/softmax-regression-scalarequation.png)\n",
    "![](https://www.tensorflow.org/images/softmax-regression-vectorequation.png)"
   ]
  },
  {
   "cell_type": "markdown",
   "metadata": {},
   "source": [
    "## 具体实现\n",
    "矩阵计算十分耗时，tensorflow采取先将所有运算都事先生成好的方式，最后一步地用底层C++实现其运算。"
   ]
  },
  {
   "cell_type": "code",
   "execution_count": 1,
   "metadata": {
    "collapsed": true
   },
   "outputs": [],
   "source": [
    "import tensorflow as tf"
   ]
  },
  {
   "cell_type": "markdown",
   "metadata": {},
   "source": [
    "以下使用placeholder，标志一个占位符，在后面的回话中可以feed其一个值。此处想要input任何一个MNIST image; shape指定为[None, 784].(此处None表示任意长度)"
   ]
  },
  {
   "cell_type": "code",
   "execution_count": 2,
   "metadata": {
    "collapsed": true
   },
   "outputs": [],
   "source": [
    "x = tf.placeholder(tf.float32, shape= [None, 784])"
   ]
  },
  {
   "cell_type": "markdown",
   "metadata": {},
   "source": [
    "适用Variable来储存权重与偏置，因为他们需要被更新。"
   ]
  },
  {
   "cell_type": "code",
   "execution_count": 3,
   "metadata": {
    "collapsed": true
   },
   "outputs": [],
   "source": [
    "w = tf.Variable(tf.zeros([784, 10]), name = 'weights')\n",
    "b = tf.Variable(tf.zeros([10]), name = 'biases')\n",
    "\n",
    "y = tf.nn.softmax(tf.matmul(x, w) + b) # 就这样定义好了输出"
   ]
  },
  {
   "cell_type": "markdown",
   "metadata": {},
   "source": [
    "### train\n",
    "机器学习三要素：模型 策略 算法；\n",
    "模型是softmax 回归，策略是使用哪个loss function呢？算法是使用哪种迭代方式呢？\n",
    "\n",
    "交互熵 (cross-entropy): $h_{y^{'}}(y) = -\\sum_i y_i^{'} log(y_i)$\n",
    "\n",
    "其中$y^{,}$是实际label，$y$是我们计算出来的概率分布\n",
    "\n",
    "在model中要告诉它我们要使用交互熵作为loss function了"
   ]
  },
  {
   "cell_type": "code",
   "execution_count": 6,
   "metadata": {
    "collapsed": false
   },
   "outputs": [],
   "source": [
    "# y_表示实际的label\n",
    "y_ = tf.placeholder(tf.float32, [None, 10])\n",
    "\n",
    "# 定义一个op作为loss \n",
    "cross_entropy = tf.reduce_mean(-tf.reduce_sum(y_ * tf.log(y), reduction_indices=[1]))\n",
    "\n",
    "# 需要指定optimizer了, 学习率为0.5的梯度下降法\n",
    "train_step = tf.train.GradientDescentOptimizer(0.5).minimize(cross_entropy)\n",
    "\n",
    "sess = tf.InteractiveSession()\n",
    "\n",
    "# 初始化所有Variable\n",
    "tf.global_variables_initializer().run()\n",
    "\n",
    "# 训练1000次\n",
    "for _ in range(1000):\n",
    "    batch_xs, batch_ys = mnist.train.next_batch(100) # 每次拿出100个\n",
    "    sess.run(train_step, feed_dict = {x:batch_xs, y_:batch_ys})"
   ]
  },
  {
   "cell_type": "markdown",
   "metadata": {},
   "source": [
    "使用少量的随机抽取数据进入batch，是随机梯度下降。如果每一步都使用所有的数据，计算比较慢。\n",
    "\n",
    "### 评价我们的模型\n",
    "softmax函数输出的是分到10个label的概率值，即预测的分类应该是$argmax Y$\n"
   ]
  },
  {
   "cell_type": "code",
   "execution_count": 12,
   "metadata": {
    "collapsed": false
   },
   "outputs": [
    {
     "name": "stdout",
     "output_type": "stream",
     "text": [
      "0.9134\n"
     ]
    }
   ],
   "source": [
    "correct_prediction = tf.equal(tf.argmax(y, 1), tf.argmax(y_,1))\n",
    "\n",
    "accuracy = tf.reduce_mean(tf.cast(correct_prediction, tf.float32))\n",
    "\n",
    "print(sess.run(accuracy, feed_dict={x: mnist.test.images, y_: mnist.test.labels}))"
   ]
  },
  {
   "cell_type": "code",
   "execution_count": null,
   "metadata": {
    "collapsed": true
   },
   "outputs": [],
   "source": []
  },
  {
   "cell_type": "code",
   "execution_count": null,
   "metadata": {
    "collapsed": true
   },
   "outputs": [],
   "source": []
  },
  {
   "cell_type": "code",
   "execution_count": null,
   "metadata": {
    "collapsed": true
   },
   "outputs": [],
   "source": []
  },
  {
   "cell_type": "code",
   "execution_count": null,
   "metadata": {
    "collapsed": true
   },
   "outputs": [],
   "source": []
  },
  {
   "cell_type": "code",
   "execution_count": null,
   "metadata": {
    "collapsed": true
   },
   "outputs": [],
   "source": []
  }
 ],
 "metadata": {
  "kernelspec": {
   "display_name": "Python 2",
   "language": "python",
   "name": "python2"
  },
  "language_info": {
   "codemirror_mode": {
    "name": "ipython",
    "version": 2
   },
   "file_extension": ".py",
   "mimetype": "text/x-python",
   "name": "python",
   "nbconvert_exporter": "python",
   "pygments_lexer": "ipython2",
   "version": "2.7.5"
  },
  "toc": {
   "colors": {
    "hover_highlight": "#DAA520",
    "running_highlight": "#FF0000",
    "selected_highlight": "#FFD700"
   },
   "moveMenuLeft": true,
   "nav_menu": {
    "height": "121px",
    "width": "252px"
   },
   "navigate_menu": true,
   "number_sections": true,
   "sideBar": true,
   "threshold": 4,
   "toc_cell": false,
   "toc_section_display": "block",
   "toc_window_display": false,
   "widenNotebook": false
  }
 },
 "nbformat": 4,
 "nbformat_minor": 2
}
