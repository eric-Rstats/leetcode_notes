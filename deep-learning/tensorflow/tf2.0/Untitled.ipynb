{
 "cells": [
  {
   "cell_type": "code",
   "execution_count": 1,
   "metadata": {},
   "outputs": [
    {
     "data": {
      "text/plain": [
       "'2.1.0'"
      ]
     },
     "execution_count": 1,
     "metadata": {},
     "output_type": "execute_result"
    }
   ],
   "source": [
    "import tensorflow as tf\n",
    "tf.__version__"
   ]
  },
  {
   "cell_type": "code",
   "execution_count": 9,
   "metadata": {},
   "outputs": [],
   "source": [
    "def stoneGameIII(stoneValue):\n",
    "\n",
    "        n = len(stoneValue)\n",
    "        memo = dict()\n",
    "\n",
    "        # 以s[i]定义从i开始后续所有石子的得分总值\n",
    "        s = [0] * (n+1)\n",
    "        for i in range(n-1, -1, -1):\n",
    "            s[i] = stoneValue[i] + s[i+1]\n",
    "\n",
    "\n",
    "        def dfs(i):\n",
    "\n",
    "            if i in memo:\n",
    "                return memo[i]\n",
    "            if i >= n:\n",
    "                return 0\n",
    "            \n",
    "            best = 0\n",
    "            for x in range(3):\n",
    "                best = max(best, s[i]-dfs(i+x+1))\n",
    "            memo[i] = best\n",
    "            return best\n",
    "        \n",
    "        alice = dfs(0)\n",
    "        print(alice)\n",
    "        bob = s[0] - alice\n",
    "        print(s)\n",
    "        print(bob)\n",
    "        if alice > bob:return 'Alice'\n",
    "        elif alice < bob:return 'Bob'\n",
    "        else: return 'Tie'\n"
   ]
  },
  {
   "cell_type": "code",
   "execution_count": 10,
   "metadata": {},
   "outputs": [
    {
     "name": "stdout",
     "output_type": "stream",
     "text": [
      "0\n",
      "[-6, -5, -3, 0]\n",
      "-6\n"
     ]
    },
    {
     "data": {
      "text/plain": [
       "'Alice'"
      ]
     },
     "execution_count": 10,
     "metadata": {},
     "output_type": "execute_result"
    }
   ],
   "source": [
    "stoneGameIII([-1,-2,-3])"
   ]
  },
  {
   "cell_type": "code",
   "execution_count": null,
   "metadata": {},
   "outputs": [],
   "source": []
  }
 ],
 "metadata": {
  "kernelspec": {
   "display_name": "Python 3",
   "language": "python",
   "name": "python3"
  },
  "language_info": {
   "codemirror_mode": {
    "name": "ipython",
    "version": 3
   },
   "file_extension": ".py",
   "mimetype": "text/x-python",
   "name": "python",
   "nbconvert_exporter": "python",
   "pygments_lexer": "ipython3",
   "version": "3.6.8"
  }
 },
 "nbformat": 4,
 "nbformat_minor": 2
}
