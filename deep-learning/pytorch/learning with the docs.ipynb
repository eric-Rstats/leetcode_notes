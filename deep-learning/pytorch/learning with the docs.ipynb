{
 "cells": [
  {
   "cell_type": "markdown",
   "metadata": {},
   "source": [
    "# learning with the docs\n",
    "\n",
    "Docs文档中对每一个模块的讲解"
   ]
  },
  {
   "cell_type": "code",
   "execution_count": 20,
   "metadata": {
    "collapsed": false
   },
   "outputs": [],
   "source": [
    "import torch\n",
    "import torch.autograd as autograd\n",
    "import torch.nn as nn\n",
    "import torch.nn.functional as F\n",
    "from torch.autograd import Variable"
   ]
  },
  {
   "cell_type": "markdown",
   "metadata": {},
   "source": [
    "## 一、Autograd mechanics—— autograd中的机制\n",
    "\n",
    "Variable中有两个 flags `requires_grad` 和 `volatile`\n",
    "\n",
    "+ requires_grad\n",
    "operation中有一个Variablle有grad为T，则output的Variable就可以被计算grad；\n",
    "如果二者都不需要计算grad，其生成的output variable也不会在backward过程中被计算grad"
   ]
  },
  {
   "cell_type": "code",
   "execution_count": 21,
   "metadata": {
    "collapsed": false
   },
   "outputs": [
    {
     "data": {
      "text/plain": [
       "False"
      ]
     },
     "execution_count": 21,
     "metadata": {},
     "output_type": "execute_result"
    }
   ],
   "source": [
    "x= Variable(torch.randn(5, 5))\n",
    "y = Variable(torch.randn(5,5))\n",
    "z = Variable(torch.randn(5,5), requires_grad=True)\n",
    "\n",
    "x.requires_grad"
   ]
  },
  {
   "cell_type": "code",
   "execution_count": 22,
   "metadata": {
    "collapsed": false,
    "scrolled": true
   },
   "outputs": [
    {
     "data": {
      "text/plain": [
       "True"
      ]
     },
     "execution_count": 22,
     "metadata": {},
     "output_type": "execute_result"
    }
   ],
   "source": [
    "z.requires_grad"
   ]
  },
  {
   "cell_type": "code",
   "execution_count": 23,
   "metadata": {
    "collapsed": false
   },
   "outputs": [
    {
     "data": {
      "text/plain": [
       "False"
      ]
     },
     "execution_count": 23,
     "metadata": {},
     "output_type": "execute_result"
    }
   ],
   "source": [
    "a = x + y\n",
    "a.requires_grad"
   ]
  },
  {
   "cell_type": "code",
   "execution_count": 24,
   "metadata": {
    "collapsed": false
   },
   "outputs": [
    {
     "data": {
      "text/plain": [
       "True"
      ]
     },
     "execution_count": 24,
     "metadata": {},
     "output_type": "execute_result"
    }
   ],
   "source": [
    "b = z + x\n",
    "b.requires_grad  # b需要被计算梯度"
   ]
  },
  {
   "cell_type": "code",
   "execution_count": 25,
   "metadata": {
    "collapsed": false
   },
   "outputs": [],
   "source": [
    "import torchvision\n",
    "import torch.optim as optim\n",
    "model = torchvision.models.resnet18(pretrained=True)\n",
    "for param in model.parameters():\n",
    "    param.requires_grad = False\n",
    "# Replace the last fully-connected layer\n",
    "# Parameters of newly constructed modules have requires_grad=True by default\n",
    "model.fc = nn.Linear(512, 100)\n",
    "\n",
    "# Optimize only the classifier\n",
    "optimizer = optim.SGD(model.fc.parameters(), lr=1e-2, momentum=0.9)"
   ]
  },
  {
   "cell_type": "markdown",
   "metadata": {},
   "source": [
    "+ volatile\n",
    "当你确定不需要用backward的时候，它会使用尽可能小的内存，同时所有的require_grad都会被设置为False.\n",
    "volatile与requires_grad的区别在于二者的传播方式；只要有一个volatile为true，后面的子图都不必计算梯度了。"
   ]
  },
  {
   "cell_type": "code",
   "execution_count": 35,
   "metadata": {
    "collapsed": false
   },
   "outputs": [],
   "source": [
    " regular_input = Variable(torch.randn(5, 5))\n",
    "volatile_input = Variable(torch.randn(5, 5), volatile=True)\n",
    "model = torchvision.models.resnet18(pretrained=True)"
   ]
  },
  {
   "cell_type": "code",
   "execution_count": 27,
   "metadata": {
    "collapsed": false
   },
   "outputs": [
    {
     "data": {
      "text/plain": [
       "Variable containing:\n",
       "-0.4512  0.0196  1.0143 -1.3464 -0.6074\n",
       "-0.3315 -0.0032 -1.5006  1.1204 -1.9988\n",
       " 2.5679 -0.8157 -1.2020  1.5336 -0.7697\n",
       "-0.6934 -1.3897 -0.0491 -0.2404 -0.7632\n",
       "-0.7187 -0.5765 -0.5374  0.6227 -0.7102\n",
       "[torch.FloatTensor of size 5x5]"
      ]
     },
     "execution_count": 27,
     "metadata": {},
     "output_type": "execute_result"
    }
   ],
   "source": [
    "volatile_input"
   ]
  },
  {
   "cell_type": "raw",
   "metadata": {},
   "source": [
    ">>> regular_input = Variable(torch.randn(5, 5))\n",
    ">>> volatile_input = Variable(torch.randn(5, 5), volatile=True)\n",
    ">>> model = torchvision.models.resnet18(pretrained=True)\n",
    ">>> model(regular_input).requires_grad\n",
    "True\n",
    ">>> model(volatile_input).requires_grad\n",
    "False\n",
    ">>> model(volatile_input).volatile\n",
    "True\n",
    ">>> model(volatile_input).creator is None\n",
    "True"
   ]
  },
  {
   "cell_type": "markdown",
   "metadata": {},
   "source": [
    "### autograd 是怎么记录历史的呢?\n",
    "   每个Variable有一个.creator的属性，指向上一个产生它的函数；\n",
    "每当新生成一个新的Variable时，一个function就被实例化了，forward函数被执行，它的输出Variable的creator就指向这个function。\n",
    "\n",
    "计算图在每一次迭代过程中都会被重新创建"
   ]
  },
  {
   "cell_type": "markdown",
   "metadata": {},
   "source": [
    "### In-place operations on Variable\n",
    "Unless you’re operating under heavy memory pressure, you might never need to use them."
   ]
  },
  {
   "cell_type": "markdown",
   "metadata": {},
   "source": [
    "## Serialization semantics 序列化的语义\n",
    "\n",
    "### 1. 保存一个model\n",
    "\n",
    "+ (推荐的) 保存以及只载入模型参数\n"
   ]
  },
  {
   "cell_type": "raw",
   "metadata": {},
   "source": [
    "torch.save(the_model.state_dict(), PATH)\n",
    "the_model = TheModelClass(*args, **kwargs)\n",
    "the_model.load_state_dict(torch.load(PATH))"
   ]
  },
  {
   "cell_type": "markdown",
   "metadata": {},
   "source": [
    "+ 保存整个模型"
   ]
  },
  {
   "cell_type": "raw",
   "metadata": {},
   "source": [
    "torch.save(the_model, PATH)\n",
    "the_model = torch.load(PATH)"
   ]
  },
  {
   "cell_type": "markdown",
   "metadata": {},
   "source": [
    "## 文档\n",
    "\n",
    "### 1. Tensor\n"
   ]
  },
  {
   "cell_type": "code",
   "execution_count": 39,
   "metadata": {
    "collapsed": false
   },
   "outputs": [
    {
     "data": {
      "text/plain": [
       "\n",
       " 0.6338  2.5317\n",
       "-1.2868 -0.1617\n",
       "-1.5095 -0.1871\n",
       "[torch.FloatTensor of size 3x2]"
      ]
     },
     "execution_count": 39,
     "metadata": {},
     "output_type": "execute_result"
    }
   ],
   "source": [
    "x = torch.Tensor(torch.randn(3, 2))\n",
    "x"
   ]
  },
  {
   "cell_type": "code",
   "execution_count": 42,
   "metadata": {
    "collapsed": false
   },
   "outputs": [
    {
     "data": {
      "text/plain": [
       "True"
      ]
     },
     "execution_count": 42,
     "metadata": {},
     "output_type": "execute_result"
    }
   ],
   "source": [
    "torch.is_tensor(x)  # 是不是tensor"
   ]
  },
  {
   "cell_type": "code",
   "execution_count": 43,
   "metadata": {
    "collapsed": false
   },
   "outputs": [
    {
     "data": {
      "text/plain": [
       "False"
      ]
     },
     "execution_count": 43,
     "metadata": {},
     "output_type": "execute_result"
    }
   ],
   "source": [
    "torch.is_storage(x) # 是不是一个pytorch storage object"
   ]
  },
  {
   "cell_type": "code",
   "execution_count": 44,
   "metadata": {
    "collapsed": false
   },
   "outputs": [
    {
     "data": {
      "text/plain": [
       "6"
      ]
     },
     "execution_count": 44,
     "metadata": {},
     "output_type": "execute_result"
    }
   ],
   "source": [
    "# 计算一共有多少个元素\n",
    "torch.numel(x)"
   ]
  },
  {
   "cell_type": "markdown",
   "metadata": {},
   "source": [
    "**Creation Ops**"
   ]
  },
  {
   "cell_type": "code",
   "execution_count": 46,
   "metadata": {
    "collapsed": false
   },
   "outputs": [
    {
     "data": {
      "text/plain": [
       "\n",
       " 1  0\n",
       " 0  1\n",
       " 0  0\n",
       " 0  0\n",
       " 0  0\n",
       "[torch.FloatTensor of size 5x2]"
      ]
     },
     "execution_count": 46,
     "metadata": {},
     "output_type": "execute_result"
    }
   ],
   "source": [
    "torch.eye(5, 2)  # 5 行 2 列"
   ]
  },
  {
   "cell_type": "code",
   "execution_count": 49,
   "metadata": {
    "collapsed": false
   },
   "outputs": [
    {
     "data": {
      "text/plain": [
       "\n",
       " 1  0\n",
       " 0  1\n",
       " 0  0\n",
       " 0  0\n",
       " 0  0\n",
       "[torch.FloatTensor of size 5x2]"
      ]
     },
     "execution_count": 49,
     "metadata": {},
     "output_type": "execute_result"
    }
   ],
   "source": [
    "torch.eye(5, 2, out= x)\n",
    "x"
   ]
  },
  {
   "cell_type": "code",
   "execution_count": 55,
   "metadata": {
    "collapsed": false
   },
   "outputs": [
    {
     "data": {
      "text/plain": [
       "\n",
       " 1\n",
       " 2\n",
       " 3\n",
       "[torch.LongTensor of size 3]"
      ]
     },
     "execution_count": 55,
     "metadata": {},
     "output_type": "execute_result"
    }
   ],
   "source": [
    "import numpy as np\n",
    "a=np.array([1,2,3])\n",
    "x=torch.from_numpy(a)\n",
    "x"
   ]
  },
  {
   "cell_type": "code",
   "execution_count": 56,
   "metadata": {
    "collapsed": false
   },
   "outputs": [
    {
     "data": {
      "text/plain": [
       "array([100,   2,   3])"
      ]
     },
     "execution_count": 56,
     "metadata": {},
     "output_type": "execute_result"
    }
   ],
   "source": [
    "x[0] = 100\n",
    "a"
   ]
  },
  {
   "cell_type": "code",
   "execution_count": 58,
   "metadata": {
    "collapsed": false
   },
   "outputs": [
    {
     "data": {
      "text/plain": [
       "\n",
       "   1\n",
       "  12\n",
       "  23\n",
       "  34\n",
       "  45\n",
       "  56\n",
       "  67\n",
       "  78\n",
       "  89\n",
       " 100\n",
       "[torch.FloatTensor of size 10]"
      ]
     },
     "execution_count": 58,
     "metadata": {},
     "output_type": "execute_result"
    }
   ],
   "source": [
    "torch.linspace(start = 1, end = 100, steps = 10)  # steps表示在这个区间内等距抽样的个数"
   ]
  },
  {
   "cell_type": "markdown",
   "metadata": {},
   "source": [
    "$10^{start}到10^{end}之间$"
   ]
  },
  {
   "cell_type": "code",
   "execution_count": 59,
   "metadata": {
    "collapsed": false
   },
   "outputs": [
    {
     "data": {
      "text/plain": [
       "\n",
       "    10.0000\n",
       "    21.5443\n",
       "    46.4159\n",
       "   100.0000\n",
       "   215.4435\n",
       "   464.1587\n",
       "  1000.0000\n",
       "  2154.4343\n",
       "  4641.5898\n",
       " 10000.0000\n",
       "[torch.FloatTensor of size 10]"
      ]
     },
     "execution_count": 59,
     "metadata": {},
     "output_type": "execute_result"
    }
   ],
   "source": [
    "torch.logspace( start = 1, end = 4, steps = 10)"
   ]
  },
  {
   "cell_type": "code",
   "execution_count": 60,
   "metadata": {
    "collapsed": false
   },
   "outputs": [
    {
     "data": {
      "text/plain": [
       "\n",
       " 1  1  1  1  1\n",
       " 1  1  1  1  1\n",
       "[torch.FloatTensor of size 2x5]"
      ]
     },
     "execution_count": 60,
     "metadata": {},
     "output_type": "execute_result"
    }
   ],
   "source": [
    "torch.ones(2,5)"
   ]
  },
  {
   "cell_type": "code",
   "execution_count": 61,
   "metadata": {
    "collapsed": false
   },
   "outputs": [
    {
     "data": {
      "text/plain": [
       "\n",
       " 0.5443  0.2540  0.9704\n",
       " 0.2439  0.8733  0.8033\n",
       "[torch.FloatTensor of size 2x3]"
      ]
     },
     "execution_count": 61,
     "metadata": {},
     "output_type": "execute_result"
    }
   ],
   "source": [
    "# 随机数 【0,1)均匀分布\n",
    "torch.rand(2,3)"
   ]
  },
  {
   "cell_type": "code",
   "execution_count": 62,
   "metadata": {
    "collapsed": false
   },
   "outputs": [
    {
     "data": {
      "text/plain": [
       "\n",
       "-1.5329\n",
       " 0.4362\n",
       "-1.0002\n",
       "-0.7377\n",
       "[torch.FloatTensor of size 4]"
      ]
     },
     "execution_count": 62,
     "metadata": {},
     "output_type": "execute_result"
    }
   ],
   "source": [
    "# 标准正态分布\n",
    "torch.randn(4)"
   ]
  },
  {
   "cell_type": "code",
   "execution_count": 64,
   "metadata": {
    "collapsed": false
   },
   "outputs": [
    {
     "data": {
      "text/plain": [
       "\n",
       " 0\n",
       " 3\n",
       " 2\n",
       " 4\n",
       " 1\n",
       "[torch.LongTensor of size 5]"
      ]
     },
     "execution_count": 64,
     "metadata": {},
     "output_type": "execute_result"
    }
   ],
   "source": [
    "# 随机排列 0到n-1\n",
    "torch.randperm(5)"
   ]
  },
  {
   "cell_type": "code",
   "execution_count": 68,
   "metadata": {
    "collapsed": false
   },
   "outputs": [
    {
     "data": {
      "text/plain": [
       "\n",
       " 1\n",
       " 2\n",
       " 3\n",
       " 4\n",
       "[torch.FloatTensor of size 4]"
      ]
     },
     "execution_count": 68,
     "metadata": {},
     "output_type": "execute_result"
    }
   ],
   "source": [
    "torch.range(1, 4, step = 1)"
   ]
  },
  {
   "cell_type": "code",
   "execution_count": 69,
   "metadata": {
    "collapsed": false
   },
   "outputs": [
    {
     "data": {
      "text/plain": [
       "\n",
       " 0  0  0\n",
       " 0  0  0\n",
       "[torch.FloatTensor of size 2x3]"
      ]
     },
     "execution_count": 69,
     "metadata": {},
     "output_type": "execute_result"
    }
   ],
   "source": [
    "torch.zeros(2,3)"
   ]
  },
  {
   "cell_type": "markdown",
   "metadata": {},
   "source": [
    "**索引，切片，join， mutating**\n",
    "+ 拼接"
   ]
  },
  {
   "cell_type": "code",
   "execution_count": 72,
   "metadata": {
    "collapsed": false
   },
   "outputs": [
    {
     "data": {
      "text/plain": [
       "\n",
       "-0.7082 -2.0255 -1.4898\n",
       "-0.0942  0.8270 -0.0154\n",
       "[torch.FloatTensor of size 2x3]"
      ]
     },
     "execution_count": 72,
     "metadata": {},
     "output_type": "execute_result"
    }
   ],
   "source": [
    "x = torch.randn(2,3)\n",
    "x"
   ]
  },
  {
   "cell_type": "code",
   "execution_count": 74,
   "metadata": {
    "collapsed": false
   },
   "outputs": [
    {
     "data": {
      "text/plain": [
       "\n",
       "-0.7082 -2.0255 -1.4898\n",
       "-0.0942  0.8270 -0.0154\n",
       "-0.7082 -2.0255 -1.4898\n",
       "-0.0942  0.8270 -0.0154\n",
       "-0.7082 -2.0255 -1.4898\n",
       "-0.0942  0.8270 -0.0154\n",
       "[torch.FloatTensor of size 6x3]"
      ]
     },
     "execution_count": 74,
     "metadata": {},
     "output_type": "execute_result"
    }
   ],
   "source": [
    "torch.cat((x,x,x), 0) # rbind"
   ]
  },
  {
   "cell_type": "code",
   "execution_count": 75,
   "metadata": {
    "collapsed": false
   },
   "outputs": [
    {
     "data": {
      "text/plain": [
       "\n",
       "-0.7082 -2.0255 -1.4898 -0.7082 -2.0255 -1.4898 -0.7082 -2.0255 -1.4898\n",
       "-0.0942  0.8270 -0.0154 -0.0942  0.8270 -0.0154 -0.0942  0.8270 -0.0154\n",
       "[torch.FloatTensor of size 2x9]"
      ]
     },
     "execution_count": 75,
     "metadata": {},
     "output_type": "execute_result"
    }
   ],
   "source": [
    "torch.cat((x,x,x), 1)"
   ]
  },
  {
   "cell_type": "code",
   "execution_count": 78,
   "metadata": {
    "collapsed": false
   },
   "outputs": [
    {
     "data": {
      "text/plain": [
       "(\n",
       " -0.7082 -2.0255 -1.4898 -0.7082 -2.0255 -1.4898 -0.7082 -2.0255 -1.4898\n",
       " [torch.FloatTensor of size 1x9], \n",
       " -0.0942  0.8270 -0.0154 -0.0942  0.8270 -0.0154 -0.0942  0.8270 -0.0154\n",
       " [torch.FloatTensor of size 1x9])"
      ]
     },
     "execution_count": 78,
     "metadata": {},
     "output_type": "execute_result"
    }
   ],
   "source": [
    "y = torch.cat((x,x,x), 1)\n",
    "torch.chunk(y, 2)"
   ]
  },
  {
   "cell_type": "code",
   "execution_count": 79,
   "metadata": {
    "collapsed": false
   },
   "outputs": [
    {
     "data": {
      "text/plain": [
       "(\n",
       " -0.7082 -2.0255 -1.4898\n",
       " -0.0942  0.8270 -0.0154\n",
       " [torch.FloatTensor of size 2x3], \n",
       " -0.7082 -2.0255 -1.4898\n",
       " -0.0942  0.8270 -0.0154\n",
       " [torch.FloatTensor of size 2x3], \n",
       " -0.7082 -2.0255 -1.4898\n",
       " -0.0942  0.8270 -0.0154\n",
       " [torch.FloatTensor of size 2x3])"
      ]
     },
     "execution_count": 79,
     "metadata": {},
     "output_type": "execute_result"
    }
   ],
   "source": [
    "torch.chunk(y, 3, dim=1)"
   ]
  },
  {
   "cell_type": "code",
   "execution_count": null,
   "metadata": {
    "collapsed": true
   },
   "outputs": [],
   "source": []
  },
  {
   "cell_type": "code",
   "execution_count": null,
   "metadata": {
    "collapsed": true
   },
   "outputs": [],
   "source": []
  }
 ],
 "metadata": {
  "kernelspec": {
   "display_name": "Python 2",
   "language": "python",
   "name": "python2"
  },
  "language_info": {
   "codemirror_mode": {
    "name": "ipython",
    "version": 2
   },
   "file_extension": ".py",
   "mimetype": "text/x-python",
   "name": "python",
   "nbconvert_exporter": "python",
   "pygments_lexer": "ipython2",
   "version": "2.7.5"
  }
 },
 "nbformat": 4,
 "nbformat_minor": 2
}
