{
 "cells": [
  {
   "cell_type": "code",
   "execution_count": 2,
   "metadata": {},
   "outputs": [],
   "source": [
    "class Rational0:\n",
    "    def __init__(self, num,den=1):\n",
    "        self.num = num\n",
    "        self.den = den\n",
    "    def plus(self, another):\n",
    "        \"\"\"\n",
    "        加法\n",
    "        \"\"\"\n",
    "        den = self.den * another.den\n",
    "        num = (self.num * another.den) + (self.den * another.num)\n",
    "        return Rational0(num, den)\n",
    "    def my_print(self):\n",
    "        \"\"\"\n",
    "        打印函数\n",
    "        \"\"\"\n",
    "        print str(self.num), '/', str(self.den)"
   ]
  },
  {
   "cell_type": "code",
   "execution_count": 3,
   "metadata": {},
   "outputs": [
    {
     "data": {
      "text/plain": [
       "<__main__.Rational0 instance at 0x111368098>"
      ]
     },
     "execution_count": 3,
     "metadata": {},
     "output_type": "execute_result"
    }
   ],
   "source": [
    "a = Rational0(5,10)\n",
    "a"
   ]
  },
  {
   "cell_type": "code",
   "execution_count": 5,
   "metadata": {},
   "outputs": [
    {
     "name": "stdout",
     "output_type": "stream",
     "text": [
      "5 / 10\n"
     ]
    }
   ],
   "source": [
    "a.my_print()"
   ]
  },
  {
   "cell_type": "markdown",
   "metadata": {},
   "source": [
    "### 静态方法\n",
    "不需要使用类中实例，定义这种方法为静态方法，不需要使用self作为其参数\n",
    "\n",
    "+ 考虑分数的化简，以及分母不能为0\n"
   ]
  },
  {
   "cell_type": "code",
   "execution_count": 42,
   "metadata": {},
   "outputs": [],
   "source": [
    "class Rational:\n",
    "    @staticmethod\n",
    "    def _gcd(m, n):\n",
    "        if n==0:\n",
    "            m,n = n,m\n",
    "        while m != 0:\n",
    "            m,n = n % m, m\n",
    "        return n\n",
    "    \n",
    "    def __init__(self, num, den =1):\n",
    "        # 检查是否分子分母是否是整数\n",
    "        if not isinstance(num, int) or not isinstance(den, int):\n",
    "            raise TypeError\n",
    "        if den == 0:\n",
    "            raise ZeroDivisionError\n",
    "        # 正数还是负数\n",
    "        sign = 1\n",
    "        if num < 0:\n",
    "            num, sign = -num, -sign\n",
    "        if den < 0:\n",
    "            den, sign = -den, -sign\n",
    "        g = Rational._gcd(num, den)\n",
    "        self._num = sign * num // g# 下划线了，表示为内部属性了\n",
    "        self._den = den // g\n",
    "        \n",
    "    def __add__(self,another):\n",
    "        den = self._den * another._den\n",
    "        num = (self._num * another._den) + (self._den * another._num)\n",
    "        return Rational(num, den)\n",
    "    def __mul__(self,another):\n",
    "        return Rational(self._num * another._num, self._den * another._den)\n",
    "    \n",
    "    def __str__(self):\n",
    "        return str(self._num) + '/' + str(self._den)\n",
    "    \n",
    "    "
   ]
  },
  {
   "cell_type": "code",
   "execution_count": 28,
   "metadata": {},
   "outputs": [],
   "source": [
    "a=Rational(10,5)\n",
    "b=Rational(4,6)"
   ]
  },
  {
   "cell_type": "code",
   "execution_count": 29,
   "metadata": {},
   "outputs": [
    {
     "data": {
      "text/plain": [
       "8"
      ]
     },
     "execution_count": 29,
     "metadata": {},
     "output_type": "execute_result"
    }
   ],
   "source": [
    "a.__add__(b)._num"
   ]
  },
  {
   "cell_type": "code",
   "execution_count": 30,
   "metadata": {},
   "outputs": [
    {
     "data": {
      "text/plain": [
       "3"
      ]
     },
     "execution_count": 30,
     "metadata": {},
     "output_type": "execute_result"
    }
   ],
   "source": [
    "a.__add__(b)._den"
   ]
  },
  {
   "cell_type": "code",
   "execution_count": 31,
   "metadata": {},
   "outputs": [
    {
     "data": {
      "text/plain": [
       "True"
      ]
     },
     "execution_count": 31,
     "metadata": {},
     "output_type": "execute_result"
    }
   ],
   "source": [
    "isinstance(a, Rational)"
   ]
  },
  {
   "cell_type": "markdown",
   "metadata": {},
   "source": [
    "### 静态方法与类方法的区别"
   ]
  },
  {
   "cell_type": "code",
   "execution_count": 44,
   "metadata": {
    "collapsed": true
   },
   "outputs": [],
   "source": [
    "class Kls(object):\n",
    "    def __init__(self, data):\n",
    "        self.data = data\n",
    "    def printd(self):\n",
    "        print(self.data)\n",
    "    @staticmethod\n",
    "    def smethod(*arg):\n",
    "        print('Static:', arg)\n",
    "    @classmethod\n",
    "    def cmethod(*arg):\n",
    "        print('Class:', arg)"
   ]
  },
  {
   "cell_type": "code",
   "execution_count": 45,
   "metadata": {
    "collapsed": true
   },
   "outputs": [],
   "source": [
    "a = Kls(23)"
   ]
  },
  {
   "cell_type": "code",
   "execution_count": 46,
   "metadata": {},
   "outputs": [
    {
     "name": "stdout",
     "output_type": "stream",
     "text": [
      "('Static:', ('ndnaj',))\n"
     ]
    }
   ],
   "source": [
    "a.smethod('ndnaj')"
   ]
  },
  {
   "cell_type": "code",
   "execution_count": 47,
   "metadata": {},
   "outputs": [
    {
     "name": "stdout",
     "output_type": "stream",
     "text": [
      "('Class:', (<class '__main__.Kls'>, 'ndnaj'))\n"
     ]
    }
   ],
   "source": [
    "a.cmethod('ndnaj') # 类方法将这个类作为第一个输入了"
   ]
  },
  {
   "cell_type": "code",
   "execution_count": 48,
   "metadata": {},
   "outputs": [
    {
     "name": "stdout",
     "output_type": "stream",
     "text": [
      "('Class:', (<class '__main__.Kls'>,))\n"
     ]
    }
   ],
   "source": [
    "Kls.cmethod()"
   ]
  },
  {
   "cell_type": "code",
   "execution_count": 49,
   "metadata": {},
   "outputs": [
    {
     "name": "stdout",
     "output_type": "stream",
     "text": [
      "('Class:', (<class '__main__.Kls'>,))\n"
     ]
    }
   ],
   "source": [
    "a.cmethod()"
   ]
  },
  {
   "cell_type": "code",
   "execution_count": 51,
   "metadata": {},
   "outputs": [
    {
     "name": "stdout",
     "output_type": "stream",
     "text": [
      "('Static:', ())\n"
     ]
    }
   ],
   "source": [
    "Kls.smethod()"
   ]
  },
  {
   "cell_type": "code",
   "execution_count": 52,
   "metadata": {
    "collapsed": true
   },
   "outputs": [],
   "source": [
    "class Kls2(Kls):\n",
    "    def __init__(self,data):\n",
    "        self.data = data"
   ]
  },
  {
   "cell_type": "code",
   "execution_count": 53,
   "metadata": {
    "collapsed": true
   },
   "outputs": [],
   "source": [
    "b = Kls2(12)"
   ]
  },
  {
   "cell_type": "code",
   "execution_count": 54,
   "metadata": {},
   "outputs": [
    {
     "name": "stdout",
     "output_type": "stream",
     "text": [
      "('Static:', ())\n"
     ]
    }
   ],
   "source": [
    "b.smethod()"
   ]
  },
  {
   "cell_type": "code",
   "execution_count": 55,
   "metadata": {},
   "outputs": [
    {
     "name": "stdout",
     "output_type": "stream",
     "text": [
      "('Class:', (<class '__main__.Kls2'>,))\n"
     ]
    }
   ],
   "source": [
    "b.cmethod()"
   ]
  },
  {
   "cell_type": "code",
   "execution_count": null,
   "metadata": {
    "collapsed": true
   },
   "outputs": [],
   "source": []
  }
 ],
 "metadata": {
  "kernelspec": {
   "display_name": "Python 2",
   "language": "python",
   "name": "python2"
  },
  "language_info": {
   "codemirror_mode": {
    "name": "ipython",
    "version": 2
   },
   "file_extension": ".py",
   "mimetype": "text/x-python",
   "name": "python",
   "nbconvert_exporter": "python",
   "pygments_lexer": "ipython2",
   "version": "2.7.13"
  },
  "toc": {
   "colors": {
    "hover_highlight": "#DAA520",
    "navigate_num": "#000000",
    "navigate_text": "#333333",
    "running_highlight": "#FF0000",
    "selected_highlight": "#FFD700",
    "sidebar_border": "#EEEEEE",
    "wrapper_background": "#FFFFFF"
   },
   "moveMenuLeft": true,
   "nav_menu": {
    "height": "48px",
    "width": "252px"
   },
   "navigate_menu": true,
   "number_sections": true,
   "sideBar": true,
   "threshold": 4,
   "toc_cell": false,
   "toc_section_display": "block",
   "toc_window_display": false,
   "widenNotebook": false
  }
 },
 "nbformat": 4,
 "nbformat_minor": 2
}
