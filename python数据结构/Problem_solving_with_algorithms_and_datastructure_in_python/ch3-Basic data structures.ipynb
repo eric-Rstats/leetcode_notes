{
 "cells": [
  {
   "cell_type": "markdown",
   "metadata": {},
   "source": [
    "\n",
    "\n",
    "\n",
    "\n",
    "\n",
    "\n",
    "\n",
    "\n",
    "+----------# Basic Data Structures"
   ]
  },
  {
   "cell_type": "markdown",
   "metadata": {},
   "source": [
    "## What are Linear Structures\n",
    "\n",
    "堆栈，队列等例子就是线性结构；它的顺序由其如何进入和离开数据结构决定。它的位置与先它进入和后进入的元素位置有关。\n",
    "\n",
    "　　线性数据结构有两头，可以叫做左边和右边。它们的区别主要在于从哪一段进入或从哪一段删除。"
   ]
  },
  {
   "cell_type": "markdown",
   "metadata": {},
   "source": [
    "## 栈 -- 下推栈\n",
    "\n",
    "### 性质\n",
    "item的有序集合；它的添加与删除都发生在同一端，这一端称作是top.另外一端称作是base底部。\n",
    "\n",
    "越靠近底部的item显然是存在越久的。后进先出；理解为书堆，或者是盘子堆叠在一起\n",
    "![](http://interactivepython.org/courselib/static/pythonds/_images/bookstack2.png)\n",
    "\n",
    "栈的优秀性质：可以用来将序列颠倒；因为取元素的顺序和加元素的顺序正好是相反的。\n",
    "\n",
    "### 栈的抽象数据类型\n",
    "\n",
    "以下的一些基本功能:\n",
    "+ `Stack()`:创建一个新的空栈；不需要参数，返回一个空栈\n",
    "+ push(item): 添加元素item;无输出\n",
    "+ pop():删除top的元素；无输入，返回该元素，栈被修改了。\n",
    "+ peek(): 只是返回top元素\n",
    "+ isEmpty()： 查看栈中是不是为空。返回一个bool值\n",
    "+ size()： 计算栈中有多少个元素.\n",
    "\n",
    "### 用python来实现栈"
   ]
  },
  {
   "cell_type": "code",
   "execution_count": 1,
   "metadata": {
    "collapsed": true
   },
   "outputs": [],
   "source": [
    "# 定义一个类实现stack的基本功能\n",
    "class Stack:\n",
    "    # 用列表来存储其中元素\n",
    "    def __init__(self):\n",
    "        self.items = []\n",
    "        \n",
    "    def push(self, item):\n",
    "        self.items.append(item)\n",
    "        \n",
    "    def pop(self):\n",
    "        return self.items.pop()\n",
    "    \n",
    "    def peek(self):\n",
    "        return self.items[len(self.items) - 1]\n",
    "    \n",
    "    def size(self):\n",
    "        return len(self.items)\n",
    "    \n",
    "    def isEmpty(self):\n",
    "        return len(self.items) == 0"
   ]
  },
  {
   "cell_type": "code",
   "execution_count": 2,
   "metadata": {},
   "outputs": [
    {
     "data": {
      "text/plain": [
       "True"
      ]
     },
     "execution_count": 2,
     "metadata": {},
     "output_type": "execute_result"
    }
   ],
   "source": [
    "s = Stack()\n",
    "s.isEmpty()"
   ]
  },
  {
   "cell_type": "code",
   "execution_count": 5,
   "metadata": {},
   "outputs": [],
   "source": [
    "s.push('first')"
   ]
  },
  {
   "cell_type": "code",
   "execution_count": 6,
   "metadata": {},
   "outputs": [
    {
     "data": {
      "text/plain": [
       "['first', 'first']"
      ]
     },
     "execution_count": 6,
     "metadata": {},
     "output_type": "execute_result"
    }
   ],
   "source": [
    "s.items"
   ]
  },
  {
   "cell_type": "code",
   "execution_count": 7,
   "metadata": {},
   "outputs": [],
   "source": [
    "s.push('second')"
   ]
  },
  {
   "cell_type": "code",
   "execution_count": 8,
   "metadata": {},
   "outputs": [
    {
     "data": {
      "text/plain": [
       "'second'"
      ]
     },
     "execution_count": 8,
     "metadata": {},
     "output_type": "execute_result"
    }
   ],
   "source": [
    "s.peek()"
   ]
  },
  {
   "cell_type": "code",
   "execution_count": 9,
   "metadata": {},
   "outputs": [
    {
     "data": {
      "text/plain": [
       "3"
      ]
     },
     "execution_count": 9,
     "metadata": {},
     "output_type": "execute_result"
    }
   ],
   "source": [
    "s.size()"
   ]
  },
  {
   "cell_type": "code",
   "execution_count": 8,
   "metadata": {},
   "outputs": [
    {
     "data": {
      "text/plain": [
       "['first']"
      ]
     },
     "execution_count": 8,
     "metadata": {},
     "output_type": "execute_result"
    }
   ],
   "source": [
    "s.pop()  #删除最top的元素\n",
    "s.items"
   ]
  },
  {
   "cell_type": "markdown",
   "metadata": {},
   "source": [
    "**这里值得一提的是，我们用list的末尾作为stack的top，这样可以利用append和pop的时间复杂度为$O(1)$的特点，这样效率更高**"
   ]
  },
  {
   "cell_type": "code",
   "execution_count": 9,
   "metadata": {
    "collapsed": true
   },
   "outputs": [],
   "source": [
    "# 利用stack来进行字符串翻转\n",
    "\n",
    "def revstring(str):\n",
    "    # 使用哪一个函数呢?使用stack中的pop？\n",
    "    s = Stack()\n",
    "    for item in str:\n",
    "        s.push(item)\n",
    "    \n",
    "    output = ''\n",
    "    while not s.isEmpty():\n",
    "        output += s.pop()\n",
    "        \n",
    "    return output\n"
   ]
  },
  {
   "cell_type": "code",
   "execution_count": 10,
   "metadata": {},
   "outputs": [
    {
     "data": {
      "text/plain": [
       "'bsbas'"
      ]
     },
     "execution_count": 10,
     "metadata": {},
     "output_type": "execute_result"
    }
   ],
   "source": [
    "revstring('sabsb')"
   ]
  },
  {
   "cell_type": "code",
   "execution_count": 11,
   "metadata": {},
   "outputs": [
    {
     "data": {
      "text/plain": [
       "True"
      ]
     },
     "execution_count": 11,
     "metadata": {},
     "output_type": "execute_result"
    }
   ],
   "source": [
    "\n",
    "revstring('apple') == 'elppa'\n"
   ]
  },
  {
   "cell_type": "markdown",
   "metadata": {},
   "source": [
    "### 简单括号匹配\n",
    "阅读一串由括号组成的字符串，判断是否是左右balance的~\n",
    "![](http://interactivepython.org/courselib/static/pythonds/_images/simpleparcheck.png)"
   ]
  },
  {
   "cell_type": "code",
   "execution_count": 4,
   "metadata": {},
   "outputs": [
    {
     "name": "stdout",
     "output_type": "stream",
     "text": [
      "True\n",
      "False\n"
     ]
    }
   ],
   "source": [
    "def parChecker(symbolString):\n",
    "    balanced = True\n",
    "    s = Stack()\n",
    "    index = 0\n",
    "    while index < len(symbolString) and balanced:\n",
    "        symbol = symbolString[index] # 获取当前的字符串\n",
    "        if symbol == '(':\n",
    "            s.push(symbol)\n",
    "        else:\n",
    "            if s.isEmpty():\n",
    "                balanced = False\n",
    "            else:\n",
    "                s.pop() # 如果能够匹配上，就把( pop掉\n",
    "                \n",
    "        index += 1\n",
    "        \n",
    "    if balanced and s.isEmpty():\n",
    "        return True\n",
    "    else:\n",
    "        return False\n",
    "    \n",
    "print(parChecker('((()))'))\n",
    "print(parChecker('(()'))"
   ]
  },
  {
   "cell_type": "markdown",
   "metadata": {},
   "source": [
    "### 符号匹配\n"
   ]
  },
  {
   "cell_type": "code",
   "execution_count": 13,
   "metadata": {},
   "outputs": [
    {
     "name": "stdout",
     "output_type": "stream",
     "text": [
      "True\n",
      "False\n"
     ]
    }
   ],
   "source": [
    "def parChecker(symbolString):\n",
    "    s = Stack()\n",
    "    balanced = True\n",
    "    index = 0\n",
    "    while index < len(symbolString) and balanced:\n",
    "        symbol = symbolString[index]\n",
    "        if symbol in \"([{\":\n",
    "            s.push(symbol)\n",
    "        else:\n",
    "            if s.isEmpty():\n",
    "                balanced = False\n",
    "            else:\n",
    "                top = s.pop()\n",
    "                if not matches(top,symbol):\n",
    "                       balanced = False\n",
    "        index = index + 1\n",
    "    if balanced and s.isEmpty():\n",
    "        return True\n",
    "    else:\n",
    "        return False\n",
    "\n",
    "def matches(open,close):\n",
    "    opens = \"([{\"\n",
    "    closers = \")]}\"\n",
    "    return opens.index(open) == closers.index(close)\n",
    "\n",
    "\n",
    "print(parChecker('{{([][])}()}'))\n",
    "print(parChecker('[{()]'))\n"
   ]
  },
  {
   "cell_type": "markdown",
   "metadata": {},
   "source": [
    "### 十进制转化为二进制\n",
    "一个十进制的数不断/2, 商再/2，记录余数；用栈来存储，这样最后一个余数就可以先取出来\n",
    "![](http://interactivepython.org/courselib/static/pythonds/_images/dectobin.png)"
   ]
  },
  {
   "cell_type": "code",
   "execution_count": 5,
   "metadata": {},
   "outputs": [
    {
     "data": {
      "text/plain": [
       "1"
      ]
     },
     "execution_count": 5,
     "metadata": {},
     "output_type": "execute_result"
    }
   ],
   "source": [
    "10 % 3"
   ]
  },
  {
   "cell_type": "code",
   "execution_count": null,
   "metadata": {},
   "outputs": [],
   "source": [
    "def test(number):\n",
    "    \"\"\"\n",
    "    将十进制转化为二进制\n",
    "    \"\"\"\n",
    "    while number > 0:\n",
    "        yushu = number % 2 # 获取当前余数\n",
    "        "
   ]
  },
  {
   "cell_type": "code",
   "execution_count": 14,
   "metadata": {},
   "outputs": [
    {
     "name": "stdout",
     "output_type": "stream",
     "text": [
      "11000\n"
     ]
    }
   ],
   "source": [
    "def divideBy2(number):\n",
    "    remstack = Stack()\n",
    "    \n",
    "    while number > 0:\n",
    "        rem = number % 2\n",
    "        remstack.push(rem)\n",
    "        number = number / 2\n",
    "        \n",
    "    outstring = ''\n",
    "    while not remstack.isEmpty():\n",
    "        res = remstack.pop()\n",
    "        outstring += str(res)\n",
    "    \n",
    "    return outstring\n",
    "\n",
    "print divideBy2(24)  "
   ]
  },
  {
   "cell_type": "markdown",
   "metadata": {},
   "source": [
    "**对于16进制的话，就会需要额外的字符来编码**"
   ]
  },
  {
   "cell_type": "code",
   "execution_count": 18,
   "metadata": {},
   "outputs": [
    {
     "name": "stdout",
     "output_type": "stream",
     "text": [
      "11001\n",
      "7D0\n"
     ]
    }
   ],
   "source": [
    "def divide(number, base):\n",
    "    # base表示的是进制\n",
    "    \n",
    "    digits = '0123456789ABCDEF'\n",
    "    \n",
    "    remstack = Stack()\n",
    "    \n",
    "    while number > 0:\n",
    "        rem = number % base\n",
    "        remstack.push(rem)\n",
    "        number = number // base\n",
    "        \n",
    "    newstring = ''\n",
    "    while not remstack.isEmpty():\n",
    "        newstring += digits[remstack.pop()]\n",
    "        \n",
    "    return newstring\n",
    "\n",
    "print divide(25, 2)\n",
    "print divide(2000, 16)"
   ]
  },
  {
   "cell_type": "code",
   "execution_count": 20,
   "metadata": {},
   "outputs": [
    {
     "name": "stdout",
     "output_type": "stream",
     "text": [
      "100111\n"
     ]
    }
   ],
   "source": [
    "print divide(256, 3)"
   ]
  },
  {
   "cell_type": "code",
   "execution_count": 19,
   "metadata": {},
   "outputs": [
    {
     "name": "stdout",
     "output_type": "stream",
     "text": [
      "10\n"
     ]
    }
   ],
   "source": [
    "print divide(26, 26)"
   ]
  },
  {
   "cell_type": "markdown",
   "metadata": {},
   "source": []
  },
  {
   "cell_type": "code",
   "execution_count": 24,
   "metadata": {},
   "outputs": [
    {
     "data": {
      "text/plain": [
       "0"
      ]
     },
     "execution_count": 24,
     "metadata": {},
     "output_type": "execute_result"
    }
   ],
   "source": []
  },
  {
   "cell_type": "markdown",
   "metadata": {},
   "source": [
    "### 中缀表达式和后缀表达式\n",
    "\n",
    "#### 中缀表达式转后缀表达式 通用做法\n",
    "\n"
   ]
  },
  {
   "cell_type": "code",
   "execution_count": 6,
   "metadata": {
    "collapsed": true
   },
   "outputs": [],
   "source": [
    "from sklearn.model_selection import train_test_split"
   ]
  },
  {
   "cell_type": "code",
   "execution_count": 22,
   "metadata": {},
   "outputs": [
    {
     "name": "stdout",
     "output_type": "stream",
     "text": [
      "A B * C D * +\n",
      "A B + C * D E - F G + * -\n"
     ]
    }
   ],
   "source": [
    "def infixToPostfix(infixexpr):\n",
    "    prec = {}\n",
    "    prec[\"*\"] = 3\n",
    "    prec[\"/\"] = 3\n",
    "    prec[\"+\"] = 2\n",
    "    prec[\"-\"] = 2\n",
    "    prec[\"(\"] = 1\n",
    "    opStack = Stack()\n",
    "    postfixList = []\n",
    "    tokenList = infixexpr.split()\n",
    "\n",
    "    for token in tokenList:\n",
    "        if token in \"ABCDEFGHIJKLMNOPQRSTUVWXYZ\" or token in \"0123456789\":\n",
    "            postfixList.append(token)\n",
    "        elif token == '(':\n",
    "            opStack.push(token)\n",
    "        elif token == ')':\n",
    "            topToken = opStack.pop()\n",
    "            while topToken != '(':\n",
    "                postfixList.append(topToken)\n",
    "                topToken = opStack.pop()\n",
    "        else:\n",
    "            while (not opStack.isEmpty()) and \\\n",
    "               (prec[opStack.peek()] >= prec[token]):\n",
    "                  postfixList.append(opStack.pop())\n",
    "            opStack.push(token)\n",
    "\n",
    "    while not opStack.isEmpty():\n",
    "        postfixList.append(opStack.pop())\n",
    "    return \" \".join(postfixList)\n",
    "\n",
    "print(infixToPostfix(\"A * B + C * D\"))\n",
    "print(infixToPostfix(\"( A + B ) * C - ( D - E ) * ( F + G )\"))"
   ]
  },
  {
   "cell_type": "code",
   "execution_count": 23,
   "metadata": {},
   "outputs": [
    {
     "ename": "KeyError",
     "evalue": "'10'",
     "output_type": "error",
     "traceback": [
      "\u001b[0;31m---------------------------------------------------------------------------\u001b[0m",
      "\u001b[0;31mKeyError\u001b[0m                                  Traceback (most recent call last)",
      "\u001b[0;32m<ipython-input-23-a0eb18204d2e>\u001b[0m in \u001b[0;36m<module>\u001b[0;34m()\u001b[0m\n\u001b[0;32m----> 1\u001b[0;31m \u001b[0minfixToPostfix\u001b[0m\u001b[0;34m(\u001b[0m\u001b[0;34m'9 - 1 * 9 - 10 * 4 - 4 - 4 + 7 - 3 + 6'\u001b[0m\u001b[0;34m)\u001b[0m\u001b[0;34m\u001b[0m\u001b[0m\n\u001b[0m",
      "\u001b[0;32m<ipython-input-22-b00b99a3de96>\u001b[0m in \u001b[0;36minfixToPostfix\u001b[0;34m(infixexpr)\u001b[0m\n\u001b[1;32m     21\u001b[0m                 \u001b[0mtopToken\u001b[0m \u001b[0;34m=\u001b[0m \u001b[0mopStack\u001b[0m\u001b[0;34m.\u001b[0m\u001b[0mpop\u001b[0m\u001b[0;34m(\u001b[0m\u001b[0;34m)\u001b[0m\u001b[0;34m\u001b[0m\u001b[0m\n\u001b[1;32m     22\u001b[0m         \u001b[0;32melse\u001b[0m\u001b[0;34m:\u001b[0m\u001b[0;34m\u001b[0m\u001b[0m\n\u001b[0;32m---> 23\u001b[0;31m             \u001b[0;32mwhile\u001b[0m \u001b[0;34m(\u001b[0m\u001b[0;32mnot\u001b[0m \u001b[0mopStack\u001b[0m\u001b[0;34m.\u001b[0m\u001b[0misEmpty\u001b[0m\u001b[0;34m(\u001b[0m\u001b[0;34m)\u001b[0m\u001b[0;34m)\u001b[0m \u001b[0;32mand\u001b[0m                \u001b[0;34m(\u001b[0m\u001b[0mprec\u001b[0m\u001b[0;34m[\u001b[0m\u001b[0mopStack\u001b[0m\u001b[0;34m.\u001b[0m\u001b[0mpeek\u001b[0m\u001b[0;34m(\u001b[0m\u001b[0;34m)\u001b[0m\u001b[0;34m]\u001b[0m \u001b[0;34m>=\u001b[0m \u001b[0mprec\u001b[0m\u001b[0;34m[\u001b[0m\u001b[0mtoken\u001b[0m\u001b[0;34m]\u001b[0m\u001b[0;34m)\u001b[0m\u001b[0;34m:\u001b[0m\u001b[0;34m\u001b[0m\u001b[0m\n\u001b[0m\u001b[1;32m     24\u001b[0m                   \u001b[0mpostfixList\u001b[0m\u001b[0;34m.\u001b[0m\u001b[0mappend\u001b[0m\u001b[0;34m(\u001b[0m\u001b[0mopStack\u001b[0m\u001b[0;34m.\u001b[0m\u001b[0mpop\u001b[0m\u001b[0;34m(\u001b[0m\u001b[0;34m)\u001b[0m\u001b[0;34m)\u001b[0m\u001b[0;34m\u001b[0m\u001b[0m\n\u001b[1;32m     25\u001b[0m             \u001b[0mopStack\u001b[0m\u001b[0;34m.\u001b[0m\u001b[0mpush\u001b[0m\u001b[0;34m(\u001b[0m\u001b[0mtoken\u001b[0m\u001b[0;34m)\u001b[0m\u001b[0;34m\u001b[0m\u001b[0m\n",
      "\u001b[0;31mKeyError\u001b[0m: '10'"
     ]
    }
   ],
   "source": [
    "infixToPostfix('9 - 1 * 9 - 10 * 4 - 4 - 4 + 7 - 3 + 6')"
   ]
  },
  {
   "cell_type": "code",
   "execution_count": 17,
   "metadata": {},
   "outputs": [
    {
     "name": "stdout",
     "output_type": "stream",
     "text": [
      "-20\n"
     ]
    }
   ],
   "source": [
    "def postfixEval(postfixExpr):\n",
    "    operandStack = Stack()\n",
    "    tokenList = postfixExpr.split()\n",
    "\n",
    "    for token in tokenList:\n",
    "        if token in \"0123456789\":\n",
    "            operandStack.push(int(token))\n",
    "        else:\n",
    "            operand2 = operandStack.pop()\n",
    "            operand1 = operandStack.pop()\n",
    "            result = doMath(token,operand1,operand2)\n",
    "            operandStack.push(result)\n",
    "    return operandStack.pop()\n",
    "\n",
    "def doMath(op, op1, op2):\n",
    "    if op == \"*\":\n",
    "        return op1 * op2\n",
    "    elif op == \"/\":\n",
    "        return op1 / op2\n",
    "    elif op == \"+\":\n",
    "        return op1 + op2\n",
    "    else:\n",
    "        return op1 - op2\n",
    "\n",
    "print(postfixEval('3 7 - 1 - 3 + 3 6 * + 3 1 / 9 * - 9 -'))\n"
   ]
  },
  {
   "cell_type": "code",
   "execution_count": 18,
   "metadata": {
    "collapsed": true
   },
   "outputs": [],
   "source": [
    "def infixToPostfix(expr):\n",
    "    \"\"\"\n",
    "    定义一个函数将中缀表达式变为后缀表达式\n",
    "    \"\"\"\n",
    "    \n",
    "    prec = {}\n",
    "    prec['*'] = 2\n",
    "    prec['/'] = 2\n",
    "    prec['+'] = 1\n",
    "    prec['-'] = 1\n",
    "    outputStack = []\n",
    "    tokenList = [x for x in expr]\n",
    "    opStack = []\n",
    "    \n",
    "    for token in tokenList:\n",
    "        if token in '0123456789':\n",
    "            outputStack.append(token)\n",
    "        else:\n",
    "            while len(opStack) !=0 and prec[token] <= prec[opStack[-1]]:\n",
    "                topToken = opStack.pop()\n",
    "                outputStack.append(topToken)\n",
    "            opStack.append(token)\n",
    "    \n",
    "    while len(opStack) !=0:\n",
    "        outputStack.append(opStack.pop())\n",
    "    return outputStack\n"
   ]
  },
  {
   "cell_type": "code",
   "execution_count": 20,
   "metadata": {},
   "outputs": [
    {
     "data": {
      "text/plain": [
       "'919*-104*-4-4-7+3-6+'"
      ]
     },
     "execution_count": 20,
     "metadata": {},
     "output_type": "execute_result"
    }
   ],
   "source": [
    "''.join(infixToPostfix('9-1*9-10*4-4-4+7-3+6'))\n"
   ]
  },
  {
   "cell_type": "code",
   "execution_count": 46,
   "metadata": {},
   "outputs": [
    {
     "name": "stdout",
     "output_type": "stream",
     "text": [
      "1+2-3*9/3+1\n",
      "-5.0\n"
     ]
    }
   ],
   "source": [
    "##-----------对于一个不存在括号的表达式进行计算----------------\n",
    "\n",
    "\n",
    "# 考虑先将一个中缀表达式变为后缀表达式呢？\n",
    "operators = ['*','-','+','/']\n",
    "expression = raw_input() # 不存在空格\n",
    "tokenList = []\n",
    "data=''\n",
    "for token in expression:\n",
    "    if token in operators:\n",
    "        tokenList.append(data)\n",
    "        tokenList.append(token)\n",
    "        data = ''\n",
    "    else:\n",
    "        data = data + token\n",
    "if data != '':\n",
    "    tokenList.append(data)\n",
    "\n",
    "\n",
    "def infixToPostfix(expr):\n",
    "    \"\"\"\n",
    "    定义一个函数将中缀表达式变为后缀表达式\n",
    "    \"\"\"\n",
    "    \n",
    "    prec = {}\n",
    "    prec['*'] = 2\n",
    "    prec['/'] = 2\n",
    "    prec['+'] = 1\n",
    "    prec['-'] = 1\n",
    "    outputStack = []\n",
    "    #tokenList = [x for x in expr]\n",
    "    opStack = []\n",
    "    tokenList = expr\n",
    "    for token in tokenList:\n",
    "        if (not token in operators):\n",
    "            outputStack.append(token)\n",
    "        else:\n",
    "            while len(opStack) !=0 and prec[token] <= prec[opStack[len(opStack)-1]]:\n",
    "                topToken = opStack.pop()\n",
    "                outputStack.append(topToken)\n",
    "            opStack.append(token)\n",
    "    \n",
    "    while len(opStack) !=0:\n",
    "        outputStack.append(opStack.pop())\n",
    "    return outputStack\n",
    "\n",
    "def caculate(postfix):\n",
    "    \"\"\"\n",
    "    关于一个后缀表达式进行计算\n",
    "    \"\"\"\n",
    "    operationStack = []\n",
    "    tokenList = [x for x in postfix]\n",
    "    for token in tokenList:\n",
    "        if (not token in operators):\n",
    "            operationStack.append(int(token))\n",
    "        else:\n",
    "            op2 = operationStack.pop()\n",
    "            op1 = operationStack.pop()\n",
    "            result = doMath(token, op1, op2)\n",
    "            operationStack.append(result)\n",
    "            \n",
    "    return operationStack.pop()\n",
    "\n",
    "def doMath(op, op1, op2):\n",
    "    if op == '*':\n",
    "        return op1 * op2\n",
    "    elif op == '/':\n",
    "        return op1 / op2\n",
    "    elif op == '+':\n",
    "        return op1 + op2\n",
    "    else:\n",
    "        return op1 - op2\n",
    "    \n",
    "print caculate(infixToPostfix(tokenList))"
   ]
  },
  {
   "cell_type": "code",
   "execution_count": 35,
   "metadata": {},
   "outputs": [],
   "source": [
    "del tokenList"
   ]
  },
  {
   "cell_type": "code",
   "execution_count": 40,
   "metadata": {},
   "outputs": [
    {
     "data": {
      "text/plain": [
       "'919*-104*-4-4-7+3-5+'"
      ]
     },
     "execution_count": 40,
     "metadata": {},
     "output_type": "execute_result"
    }
   ],
   "source": [
    "''.join(infixToPostfix('9-1*9-10*4-4-4+7-3+5'))"
   ]
  },
  {
   "cell_type": "code",
   "execution_count": 47,
   "metadata": {},
   "outputs": [
    {
     "data": {
      "text/plain": [
       "3.0"
      ]
     },
     "execution_count": 47,
     "metadata": {},
     "output_type": "execute_result"
    }
   ],
   "source": [
    "9/3"
   ]
  },
  {
   "cell_type": "markdown",
   "metadata": {},
   "source": [
    "## 队列"
   ]
  },
  {
   "cell_type": "code",
   "execution_count": 8,
   "metadata": {
    "collapsed": true
   },
   "outputs": [],
   "source": [
    "class Queue:\n",
    "    def __init__(self):\n",
    "        self.items = []\n",
    "    def isEmpty(self):\n",
    "        return self.items == []\n",
    "\n",
    "    def enqueue(self, item):\n",
    "        self.items.insert(0,item)\n",
    "\n",
    "    def dequeue(self):\n",
    "        return self.items.pop()\n",
    "\n",
    "    def size(self):\n",
    "        return len(self.items)"
   ]
  },
  {
   "cell_type": "code",
   "execution_count": 9,
   "metadata": {
    "collapsed": true
   },
   "outputs": [],
   "source": [
    "# 烫山芋问题\n",
    "\n",
    "def Potato(nameList, num):\n",
    "    queue = Queue()\n",
    "    for name in nameList:\n",
    "        queue.enqueue(name)\n",
    "    \n",
    "    while queue.size() > 1:\n",
    "        for i in range(num):\n",
    "            queue.enqueue(queue.dequeue())\n",
    "        queue.dequeue()\n",
    "    \n",
    "    return queue.dequeue()\n",
    "\n"
   ]
  },
  {
   "cell_type": "code",
   "execution_count": 10,
   "metadata": {},
   "outputs": [
    {
     "data": {
      "text/plain": [
       "'Kent'"
      ]
     },
     "execution_count": 10,
     "metadata": {},
     "output_type": "execute_result"
    }
   ],
   "source": [
    "Potato([\"Bill\",\"David\",\"Susan\",\"Jane\",\"Kent\",\"Brad\"],8)"
   ]
  },
  {
   "cell_type": "markdown",
   "metadata": {},
   "source": [
    "### 双端队列"
   ]
  },
  {
   "cell_type": "code",
   "execution_count": 89,
   "metadata": {
    "collapsed": true
   },
   "outputs": [],
   "source": [
    "class Deque:\n",
    "    def __init__(self):\n",
    "        self.items=[]\n",
    "    def isEmpty(self):\n",
    "        return self.items == []\n",
    "    def addFront(self, item):\n",
    "        self.items.append(item)\n",
    "    def addRear(self, item):\n",
    "        self.items.insert(0, item)\n",
    "    def removeFront(self):\n",
    "        return self.items.pop()\n",
    "    def removeRear(self):\n",
    "        return self.items.pop(0)\n",
    "    def size(self):\n",
    "        return len(self.items)"
   ]
  },
  {
   "cell_type": "markdown",
   "metadata": {},
   "source": [
    "#### 回文数判断\n",
    "\n",
    "回文数的判断可以轻易地使用双端队列来完成。两端分别pop比较是否相同"
   ]
  },
  {
   "cell_type": "code",
   "execution_count": 90,
   "metadata": {
    "collapsed": true
   },
   "outputs": [],
   "source": [
    "def palchecker(aString):\n",
    "    \"\"\"\n",
    "    检查一个字符串是否是回文字符串\n",
    "    \"\"\"\n",
    "    chardeque = Deque()\n",
    "    for ch in aString:\n",
    "        chardeque.addRear(ch)\n",
    "    flag = True # 是否匹配\n",
    "    \n",
    "    while chardeque.size() > 1 and flag:\n",
    "        first = chardeque.removeFront()\n",
    "        last = chardeque.removeRear()\n",
    "        if first != last:\n",
    "            flag = False\n",
    "    return flag"
   ]
  },
  {
   "cell_type": "code",
   "execution_count": 92,
   "metadata": {},
   "outputs": [
    {
     "data": {
      "text/plain": [
       "(True, False)"
      ]
     },
     "execution_count": 92,
     "metadata": {},
     "output_type": "execute_result"
    }
   ],
   "source": [
    "palchecker('12344321'), palchecker('ABCDESAS')"
   ]
  },
  {
   "cell_type": "markdown",
   "metadata": {},
   "source": [
    "### 链表\n"
   ]
  },
  {
   "cell_type": "code",
   "execution_count": 93,
   "metadata": {
    "collapsed": true
   },
   "outputs": [],
   "source": [
    "class Node:\n",
    "    def __init__(self, initdata):\n",
    "        self.data = initdata\n",
    "        self.next = None\n",
    "    def getData(self):\n",
    "        return self.data\n",
    "    def getNext(self):\n",
    "        return self.next\n",
    "    def setData(self, newdata):\n",
    "        self.data = newdata\n",
    "    def setNext(self, newnext):\n",
    "        self.next = newnext\n"
   ]
  },
  {
   "cell_type": "code",
   "execution_count": 94,
   "metadata": {
    "collapsed": true
   },
   "outputs": [],
   "source": [
    "temp = Node(93)"
   ]
  },
  {
   "cell_type": "code",
   "execution_count": 95,
   "metadata": {},
   "outputs": [
    {
     "data": {
      "text/plain": [
       "93"
      ]
     },
     "execution_count": 95,
     "metadata": {},
     "output_type": "execute_result"
    }
   ],
   "source": [
    "temp.getData()"
   ]
  },
  {
   "cell_type": "code",
   "execution_count": null,
   "metadata": {
    "collapsed": true
   },
   "outputs": [],
   "source": [
    "# 无序链表\n",
    "class UnorderedList:\n",
    "    def __init__(self):\n",
    "        self.head = None\n",
    "    def isEmpty(self):\n",
    "        return self.head == None\n",
    "    def add(self, item):\n",
    "        temp = Node(item)\n",
    "        temp.setNext(self.head)\n",
    "        self.head = tmp\n",
    "    def size(self):\n",
    "        current = self.head\n",
    "        count = 0\n",
    "        while current != None:\n",
    "            current = current.getNext()\n",
    "            count = count + 1\n",
    "        return count\n",
    "    def search(self, item):\n",
    "        \"\"\"\n",
    "        搜索某一项item\n",
    "        \"\"\"\n",
    "        current = self.head\n",
    "        found = False\n",
    "        while current != None and not found:\n",
    "            if current.getData() == item:\n",
    "                found = True\n",
    "            else:\n",
    "                current = current.getNext()\n",
    "        return found\n",
    "    \n",
    "    def remove(self, item):\n",
    "        current = self.head\n",
    "        previous = None\n",
    "        found = False\n",
    "        while not found:\n",
    "            if current.getData() == item:\n",
    "                found = True\n",
    "            else:\n",
    "                previous = current\n",
    "                current = current.getNext()\n",
    "        if previous == None:\n",
    "            self.head = current.getNext()\n",
    "        else:\n",
    "            previous.setNext(current.getNext())\n",
    "            \n",
    "    "
   ]
  }
 ],
 "metadata": {
  "kernelspec": {
   "display_name": "Python 3",
   "language": "python",
   "name": "python3"
  },
  "language_info": {
   "codemirror_mode": {
    "name": "ipython",
    "version": 3
   },
   "file_extension": ".py",
   "mimetype": "text/x-python",
   "name": "python",
   "nbconvert_exporter": "python",
   "pygments_lexer": "ipython3",
   "version": "3.6.6"
  },
  "toc": {
   "colors": {
    "hover_highlight": "#DAA520",
    "navigate_num": "#000000",
    "navigate_text": "#333333",
    "running_highlight": "#FF0000",
    "selected_highlight": "#FFD700",
    "sidebar_border": "#EEEEEE",
    "wrapper_background": "#FFFFFF"
   },
   "moveMenuLeft": true,
   "nav_menu": {
    "height": "139px",
    "width": "252px"
   },
   "navigate_menu": true,
   "number_sections": true,
   "sideBar": true,
   "threshold": 4,
   "toc_cell": false,
   "toc_position": {
    "height": "727px",
    "left": "0px",
    "right": "auto",
    "top": "105px",
    "width": "196px"
   },
   "toc_section_display": "block",
   "toc_window_display": false,
   "widenNotebook": false
  }
 },
 "nbformat": 4,
 "nbformat_minor": 2
}
