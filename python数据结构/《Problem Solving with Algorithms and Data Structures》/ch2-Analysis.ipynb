{
 "cells": [
  {
   "cell_type": "markdown",
   "metadata": {},
   "source": [
    "# chapter2 Analysis\n",
    "\n",
    "## 如何衡量代码执行效率"
   ]
  },
  {
   "cell_type": "code",
   "execution_count": 1,
   "metadata": {
    "collapsed": true
   },
   "outputs": [],
   "source": [
    "import numpy as np"
   ]
  },
  {
   "cell_type": "markdown",
   "metadata": {},
   "source": [
    "一般使用时间复杂度来描述算法的复杂度和好坏，两段代码可能实现了同一个功能，但从耗费的时间的角度来衡量代码的好坏。"
   ]
  },
  {
   "cell_type": "code",
   "execution_count": 11,
   "metadata": {
    "code_folding": [],
    "collapsed": true
   },
   "outputs": [],
   "source": [
    "import time\n",
    "\n",
    "# 比较两个计算sum的函数之间的差异；\n",
    "\n",
    "def func1(n):\n",
    "    start = time.time()\n",
    "    \n",
    "    theSum = 0\n",
    "    for i in range(1, n+1):\n",
    "        theSum += i\n",
    "        \n",
    "    end = time.time()\n",
    "    \n",
    "    return theSum, end-start"
   ]
  },
  {
   "cell_type": "code",
   "execution_count": 14,
   "metadata": {
    "collapsed": false
   },
   "outputs": [
    {
     "name": "stdout",
     "output_type": "stream",
     "text": [
      "结果是 50005000 耗费的时间是  0.0018508 秒\n",
      "结果是 50005000 耗费的时间是  0.0010631 秒\n",
      "结果是 50005000 耗费的时间是  0.0010750 秒\n",
      "结果是 50005000 耗费的时间是  0.0010450 秒\n",
      "结果是 50005000 耗费的时间是  0.0010560 秒\n"
     ]
    }
   ],
   "source": [
    "for i in range(5):\n",
    "    print '结果是 %d 耗费的时间是 %10.7f 秒' % func1(10000)"
   ]
  },
  {
   "cell_type": "code",
   "execution_count": 15,
   "metadata": {
    "code_folding": [],
    "collapsed": false,
    "scrolled": true
   },
   "outputs": [
    {
     "name": "stdout",
     "output_type": "stream",
     "text": [
      "结果是 500000500000 耗费的时间是  0.0884221 秒\n",
      "结果是 500000500000 耗费的时间是  0.0523272 秒\n",
      "结果是 500000500000 耗费的时间是  0.0456190 秒\n",
      "结果是 500000500000 耗费的时间是  0.0430150 秒\n",
      "结果是 500000500000 耗费的时间是  0.0426409 秒\n"
     ]
    }
   ],
   "source": [
    "for i in range(5):\n",
    "    print '结果是 %d 耗费的时间是 %10.7f 秒' % func1(1000000)"
   ]
  },
  {
   "cell_type": "markdown",
   "metadata": {},
   "source": [
    "另外一个方式，直接用公式$\\sum_i = \\frac{n(n+1)}{2}$"
   ]
  },
  {
   "cell_type": "code",
   "execution_count": 16,
   "metadata": {
    "collapsed": false
   },
   "outputs": [
    {
     "name": "stdout",
     "output_type": "stream",
     "text": [
      "运算时间  0.0000062 秒\n",
      "运算时间  0.0000041 秒\n",
      "运算时间  0.0000019 秒\n",
      "运算时间  0.0000019 秒\n",
      "运算时间  0.0000021 秒\n"
     ]
    }
   ],
   "source": [
    "def myfunc2(n):\n",
    "    return n*(n+1)/2\n",
    "\n",
    "for i in range(5):\n",
    "    start = time.time()\n",
    "    myfunc2(1000000)\n",
    "    end = time.time()\n",
    "    print '运算时间 %10.7f 秒'%(end-start)"
   ]
  },
  {
   "cell_type": "markdown",
   "metadata": {},
   "source": [
    "## big O Notation\n",
    "为了用一般的形式衡量代码的运行效率，而不是使用时间这一手段；\n",
    "一句赋值语句复杂度为1\n",
    "\n",
    "这样，myfunc1的时间复杂度就为$O(n)$\n",
    "\n",
    "\n",
    "f(n) | Name \n",
    "----|------\n",
    "1 | constant \n",
    "$logn$ | Logarithmic\n",
    "n | Linear\n",
    "$nlogn$ | Log Linear\n",
    "$n^2$ | Quadratic\n",
    "$n^3$ | Cubic\n",
    "$2^n$ | Exponential"
   ]
  },
  {
   "cell_type": "code",
   "execution_count": 17,
   "metadata": {
    "collapsed": false
   },
   "outputs": [
    {
     "data": {
      "text/plain": [
       "1"
      ]
     },
     "execution_count": 17,
     "metadata": {},
     "output_type": "execute_result"
    }
   ],
   "source": [
    "# write 2 functions to find minimum number in a list\n",
    "\n",
    "def min1(l):\n",
    "    # l is a list\n",
    "    out = 0\n",
    "    for item in l:\n",
    "        if item < out:\n",
    "            out = item\n",
    "            \n",
    "    return out\n",
    "\n",
    "min([34,43,1,2,32,5,6])"
   ]
  },
  {
   "cell_type": "markdown",
   "metadata": {},
   "source": [
    "## 一个字符串颠倒顺序检测的例子\n",
    "\n",
    "### solution1：checking off\n",
    "检查string1中的字符是不是都在string2中出现   时间复杂度 $O(n^2)$"
   ]
  },
  {
   "cell_type": "code",
   "execution_count": 20,
   "metadata": {
    "collapsed": false
   },
   "outputs": [
    {
     "name": "stdout",
     "output_type": "stream",
     "text": [
      "True\n"
     ]
    }
   ],
   "source": [
    "def myfunc1(s1, s2):\n",
    "    alist = list(s2)\n",
    "    pos1 = 0\n",
    "    stillOK = True\n",
    "    \n",
    "    while pos1 < len(s1) and stillOK:\n",
    "        pos2 = 0\n",
    "        found = False\n",
    "        while pos2 < len(alist) and not found:\n",
    "            if s1[pos1] == alist[pos2]:\n",
    "                found = True\n",
    "            else:\n",
    "                pos2 = pos2 + 1\n",
    "        \n",
    "        if found:\n",
    "            alist[pos2] = None\n",
    "        else:\n",
    "            stillOK = False\n",
    "        \n",
    "        pos1 = pos1 + 1\n",
    "    \n",
    "    return stillOK\n",
    "\n",
    "print(myfunc1('abcd','dcba'))"
   ]
  },
  {
   "cell_type": "markdown",
   "metadata": {},
   "source": [
    "### solution2: sort and compare\n",
    "如果组成字符相同，那么sort完之后肯定是同样的字符   ，时间复杂度为 $O(n)$"
   ]
  },
  {
   "cell_type": "code",
   "execution_count": 22,
   "metadata": {
    "collapsed": false
   },
   "outputs": [
    {
     "name": "stdout",
     "output_type": "stream",
     "text": [
      "True\n"
     ]
    }
   ],
   "source": [
    "def myfunc2(s1, s2):\n",
    "    alist1 = list(s1)\n",
    "    alist2 = list(s2)\n",
    "    \n",
    "    alist1.sort()\n",
    "    alist2.sort()\n",
    "    \n",
    "    pos = 0\n",
    "    matches = True\n",
    "    \n",
    "    while pos < len(s1) and matches:\n",
    "        if alist1[pos] == alist2[pos]:\n",
    "            pos += 1\n",
    "        else:\n",
    "            matches = False\n",
    "    return matches\n",
    "\n",
    "print(myfunc2('abcde', 'bcade'))"
   ]
  },
  {
   "cell_type": "markdown",
   "metadata": {},
   "source": [
    "### solution3： Brute Force暴力破解\n",
    "先对s1生成所有可能的字符串，再查看是否会出现s2；显然这不是一个好的方法\n",
    "\n",
    "### solution4: count and compare\n",
    "由于是重排，则所有字母出现的频率是相同的, 时间复杂度$O(n)$"
   ]
  },
  {
   "cell_type": "code",
   "execution_count": 33,
   "metadata": {
    "collapsed": false
   },
   "outputs": [
    {
     "name": "stdout",
     "output_type": "stream",
     "text": [
      "True\n"
     ]
    }
   ],
   "source": [
    "def myfunc4(s1, s2):\n",
    "    c1 = [0]*26\n",
    "    c2 = [0]*26\n",
    "    \n",
    "    for item in s1:\n",
    "        pos = ord(item) - ord('a') # 通过ASCII码返回该index值\n",
    "        c1[pos] += 1\n",
    "        \n",
    "    for item in s2:\n",
    "        pos = ord(item) - ord('a')\n",
    "        c2[pos] += 1\n",
    "\n",
    "    stillOK = True\n",
    "    j = 0\n",
    "    while j <26 and stillOK:\n",
    "        if c1[j]==c2[j]:\n",
    "            j +=1\n",
    "        else:\n",
    "            stillOK = False\n",
    "        \n",
    "    return stillOK\n",
    "  \n",
    "print(myfunc4('apple','pleap'))"
   ]
  },
  {
   "cell_type": "markdown",
   "metadata": {},
   "source": [
    "## 内置数据结构的性能\n",
    "这一章介绍了内置数据结构中各种运算的性能差异\n",
    "\n",
    "### lists列表\n",
    "\n",
    "+ index 和 赋值 时间复杂度都是$O(1)$\n",
    "\n",
    "+ append的时间复杂度为$O(1)$，但是连接函数的时间复杂度为$O(k)$,k是列表的大小"
   ]
  },
  {
   "cell_type": "code",
   "execution_count": 34,
   "metadata": {
    "collapsed": true
   },
   "outputs": [],
   "source": [
    "def test1():\n",
    "    l = []\n",
    "    for i in range(1000):\n",
    "        l = l + [i]\n",
    "\n",
    "def test2():\n",
    "    l = []\n",
    "    for i in range(1000):\n",
    "        l.append(i)\n",
    "        \n",
    "def test3():\n",
    "    l = [ i for i in range(1000)]\n",
    "    \n",
    "def test4():\n",
    "    l = list(range(1000))\n",
    "        "
   ]
  },
  {
   "cell_type": "code",
   "execution_count": 43,
   "metadata": {
    "collapsed": false
   },
   "outputs": [
    {
     "name": "stdout",
     "output_type": "stream",
     "text": [
      "('concat ', 1.3345329761505127, 'milliseconds')\n",
      "('append ', 0.06378293037414551, 'milliseconds')\n",
      "('comprehension ', 0.03006291389465332, 'milliseconds')\n",
      "('list range ', 0.00851297378540039, 'milliseconds')\n"
     ]
    }
   ],
   "source": [
    "# use timer module to test these functions;\n",
    "# 它能保证所有的函数都在一个相同的环境下运行\n",
    "from timeit import Timer\n",
    "t1 = Timer(\"test1()\", \"from __main__ import test1\")\n",
    "print(\"concat \",t1.timeit(number=1000), \"milliseconds\")\n",
    "t2 = Timer(\"test2()\", \"from __main__ import test2\")\n",
    "print(\"append \",t2.timeit(number=1000), \"milliseconds\")\n",
    "t3 = Timer(\"test3()\", \"from __main__ import test3\")\n",
    "print(\"comprehension \",t3.timeit(number=1000), \"milliseconds\")\n",
    "t4 = Timer(\"test4()\", \"from __main__ import test4\")\n",
    "print(\"list range \",t4.timeit(number=1000), \"milliseconds\")"
   ]
  },
  {
   "cell_type": "markdown",
   "metadata": {},
   "source": [
    "操作 | 耗费时间 \n",
    "----|------\n",
    "index [] |\tO(1)\n",
    "index assignment\t|O(1)\n",
    "append\t|O(1)\n",
    "pop()\t|O(1)\n",
    "pop(i)\t|O(n)\n",
    "insert(i,item)\t|O(n)\n",
    "del operator\t|O(n)\n",
    "iteration\t|O(n)\n",
    "contains (in)\t|O(n)\n",
    "get slice [x:y]\t|O(k)\n",
    "del slice\t|O(n)\n",
    "set slice\t|O(n+k)\n",
    "reverse\t|O(n)\n",
    "concatenate\t|O(k)\n",
    "sort\t| O(n log n)\n",
    "multiply\t| O(nk)"
   ]
  },
  {
   "cell_type": "code",
   "execution_count": 51,
   "metadata": {
    "collapsed": false
   },
   "outputs": [
    {
     "ename": "NameError",
     "evalue": "name 'reverse' is not defined",
     "output_type": "error",
     "traceback": [
      "\u001b[0;31m---------------------------------------------------------------------------\u001b[0m",
      "\u001b[0;31mNameError\u001b[0m                                 Traceback (most recent call last)",
      "\u001b[0;32m<ipython-input-51-59a0eef278f3>\u001b[0m in \u001b[0;36m<module>\u001b[0;34m()\u001b[0m\n\u001b[1;32m      1\u001b[0m \u001b[0mx\u001b[0m\u001b[0;34m=\u001b[0m\u001b[0;34m[\u001b[0m\u001b[0;36m1\u001b[0m\u001b[0;34m,\u001b[0m\u001b[0;36m2\u001b[0m\u001b[0;34m,\u001b[0m\u001b[0;36m3\u001b[0m\u001b[0;34m]\u001b[0m\u001b[0;34m\u001b[0m\u001b[0m\n\u001b[0;32m----> 2\u001b[0;31m \u001b[0mreverse\u001b[0m\u001b[0;34m(\u001b[0m\u001b[0mx\u001b[0m\u001b[0;34m)\u001b[0m\u001b[0;34m\u001b[0m\u001b[0m\n\u001b[0m",
      "\u001b[0;31mNameError\u001b[0m: name 'reverse' is not defined"
     ]
    }
   ],
   "source": [
    "x=[1,2,3]\n",
    "reverse(x)"
   ]
  }
 ],
 "metadata": {
  "kernelspec": {
   "display_name": "Python 2",
   "language": "python",
   "name": "python2"
  },
  "language_info": {
   "codemirror_mode": {
    "name": "ipython",
    "version": 2
   },
   "file_extension": ".py",
   "mimetype": "text/x-python",
   "name": "python",
   "nbconvert_exporter": "python",
   "pygments_lexer": "ipython2",
   "version": "2.7.5"
  },
  "toc": {
   "colors": {
    "hover_highlight": "#DAA520",
    "running_highlight": "#FF0000",
    "selected_highlight": "#FFD700"
   },
   "moveMenuLeft": true,
   "nav_menu": {
    "height": "194px",
    "width": "252px"
   },
   "navigate_menu": true,
   "number_sections": true,
   "sideBar": true,
   "threshold": 4,
   "toc_cell": false,
   "toc_position": {
    "height": "704px",
    "left": "0px",
    "right": "auto",
    "top": "105px",
    "width": "185px"
   },
   "toc_section_display": "block",
   "toc_window_display": true,
   "widenNotebook": false
  }
 },
 "nbformat": 4,
 "nbformat_minor": 2
}
