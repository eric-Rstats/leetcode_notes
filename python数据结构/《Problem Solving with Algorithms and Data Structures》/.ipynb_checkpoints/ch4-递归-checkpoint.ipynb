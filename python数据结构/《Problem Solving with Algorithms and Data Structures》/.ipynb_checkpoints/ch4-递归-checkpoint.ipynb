{
 "cells": [
  {
   "cell_type": "markdown",
   "metadata": {},
   "source": [
    "# 递归\n",
    "\n",
    "## 递归的三定律\n",
    "\n",
    "+ 1. 递归算法必须具有基本情况\n",
    "+ 2. 递归算法必须改变其状态并向基本情况靠近\n",
    "+ 3. 递归算法必须以递归的方式调用自身\n",
    "\n",
    "## 将整数转换为任意进制字符串\n",
    "\n"
   ]
  },
  {
   "cell_type": "code",
   "execution_count": 1,
   "metadata": {},
   "outputs": [],
   "source": [
    "def toStr(n, base):\n",
    "    converString = '0123456789ABCDEF'\n",
    "    if n < base:\n",
    "        return converString[n]\n",
    "    else:\n",
    "        return toStr(n//base, base) + converString[n%base]"
   ]
  },
  {
   "cell_type": "code",
   "execution_count": 2,
   "metadata": {},
   "outputs": [
    {
     "data": {
      "text/plain": [
       "'8F'"
      ]
     },
     "execution_count": 2,
     "metadata": {},
     "output_type": "execute_result"
    }
   ],
   "source": [
    "toStr(143, 16)"
   ]
  },
  {
   "cell_type": "markdown",
   "metadata": {},
   "source": [
    "## 栈帧：实现递归\n"
   ]
  },
  {
   "cell_type": "code",
   "execution_count": 3,
   "metadata": {},
   "outputs": [],
   "source": [
    "# 定义一个类实现stack的基本功能\n",
    "class Stack:\n",
    "    # 用列表来存储其中元素\n",
    "    def __init__(self):\n",
    "        self.items = []\n",
    "        \n",
    "    def push(self, item):\n",
    "        self.items.append(item)\n",
    "        \n",
    "    def pop(self):\n",
    "        return self.items.pop()\n",
    "    \n",
    "    def peek(self):\n",
    "        return self.items[len(self.items) - 1]\n",
    "    \n",
    "    def size(self):\n",
    "        return len(self.items)\n",
    "    \n",
    "    def isEmpty(self):\n",
    "        return len(self.items) == 0"
   ]
  },
  {
   "cell_type": "code",
   "execution_count": 6,
   "metadata": {},
   "outputs": [],
   "source": [
    "rStack = Stack()\n",
    "\n",
    "def toStr(n, base):\n",
    "    convertString = '0123456789ABCDEF'\n",
    "    while n > 0:\n",
    "        if n < base:\n",
    "            rStack.push(convertString[n])\n",
    "        else:\n",
    "            rStack.push(convertString[n % base])\n",
    "            \n",
    "        n = n // base\n",
    "        \n",
    "    res = ''\n",
    "    while not rStack.isEmpty():\n",
    "        res = res + str(rStack.pop())\n",
    "    return res"
   ]
  },
  {
   "cell_type": "code",
   "execution_count": 7,
   "metadata": {},
   "outputs": [
    {
     "data": {
      "text/plain": [
       "'5AD'"
      ]
     },
     "execution_count": 7,
     "metadata": {},
     "output_type": "execute_result"
    }
   ],
   "source": [
    "toStr(1453, 16)"
   ]
  },
  {
   "cell_type": "markdown",
   "metadata": {},
   "source": [
    "## 可视化递归\n",
    "\n"
   ]
  },
  {
   "cell_type": "code",
   "execution_count": 2,
   "metadata": {},
   "outputs": [],
   "source": [
    "import turtle"
   ]
  },
  {
   "cell_type": "code",
   "execution_count": 3,
   "metadata": {},
   "outputs": [],
   "source": [
    "myTurtle = turtle.Turtle()\n",
    "myWin = turtle.Screen()\n",
    "\n",
    "def drawSpiral(myTurtle, lineLen):\n",
    "    if lineLen > 0:\n",
    "        myTurtle.forward(lineLen)\n",
    "        myTurtle.right(90)\n",
    "        drawSpiral(myTurtle,lineLen-5)\n",
    "\n",
    "drawSpiral(myTurtle,100)\n",
    "myWin.exitonclick()"
   ]
  },
  {
   "cell_type": "code",
   "execution_count": 2,
   "metadata": {},
   "outputs": [],
   "source": [
    "import turtle\n",
    "\n",
    "def tree(branchLen,t):\n",
    "    if branchLen > 5:\n",
    "        t.forward(branchLen)\n",
    "        t.right(20)\n",
    "        tree(branchLen-15,t)\n",
    "        t.left(40)\n",
    "        tree(branchLen-15,t)\n",
    "        t.right(20)\n",
    "        t.backward(branchLen)\n",
    "\n",
    "def main():\n",
    "    t = turtle.Turtle()\n",
    "    myWin = turtle.Screen()\n",
    "    t.left(90)\n",
    "    t.up()\n",
    "    t.backward(100)\n",
    "    t.down()\n",
    "    t.color(\"green\")\n",
    "    tree(75,t)\n",
    "    myWin.exitonclick()\n",
    "\n",
    "main()"
   ]
  },
  {
   "cell_type": "markdown",
   "metadata": {},
   "source": [
    "## 谢尔宾斯基三角形\n",
    "\n"
   ]
  },
  {
   "cell_type": "code",
   "execution_count": 1,
   "metadata": {},
   "outputs": [],
   "source": [
    "import turtle\n",
    "\n",
    "def drawTriangle(points,color,myTurtle):\n",
    "    myTurtle.fillcolor(color)\n",
    "    myTurtle.up()\n",
    "    myTurtle.goto(points[0][0],points[0][1])\n",
    "    myTurtle.down()\n",
    "    myTurtle.begin_fill()\n",
    "    myTurtle.goto(points[1][0],points[1][1])\n",
    "    myTurtle.goto(points[2][0],points[2][1])\n",
    "    myTurtle.goto(points[0][0],points[0][1])\n",
    "    myTurtle.end_fill()\n",
    "\n",
    "def getMid(p1,p2):\n",
    "    return ( (p1[0]+p2[0]) / 2, (p1[1] + p2[1]) / 2)\n",
    "\n",
    "def sierpinski(points,degree,myTurtle):\n",
    "    colormap = ['blue','red','green','white','yellow',\n",
    "                'violet','orange']\n",
    "    drawTriangle(points,colormap[degree],myTurtle)\n",
    "    if degree > 0:\n",
    "        sierpinski([points[0],\n",
    "                        getMid(points[0], points[1]),\n",
    "                        getMid(points[0], points[2])],\n",
    "                   degree-1, myTurtle)\n",
    "        sierpinski([points[1],\n",
    "                        getMid(points[0], points[1]),\n",
    "                        getMid(points[1], points[2])],\n",
    "                   degree-1, myTurtle)\n",
    "        sierpinski([points[2],\n",
    "                        getMid(points[2], points[1]),\n",
    "                        getMid(points[0], points[2])],\n",
    "                   degree-1, myTurtle)\n",
    "\n",
    "def main():\n",
    "   myTurtle = turtle.Turtle()\n",
    "   myWin = turtle.Screen()\n",
    "   myPoints = [[-100,-50],[0,100],[100,-50]]\n",
    "   sierpinski(myPoints,3,myTurtle)\n",
    "   myWin.exitonclick()\n",
    "\n",
    "main()"
   ]
  },
  {
   "cell_type": "markdown",
   "metadata": {},
   "source": [
    "## 动态规划\n",
    "\n",
    "\n",
    "![动态规划](https://facert.gitbooks.io/python-data-structure-cn/4.%E9%80%92%E5%BD%92/4.12.%E5%8A%A8%E6%80%81%E8%A7%84%E5%88%92/assets/4.12.%E5%8A%A8%E6%80%81%E8%A7%84%E5%88%92.1.png)\n",
    "\n"
   ]
  },
  {
   "cell_type": "markdown",
   "metadata": {},
   "source": [
    "### 缓存技术"
   ]
  },
  {
   "cell_type": "code",
   "execution_count": 1,
   "metadata": {},
   "outputs": [],
   "source": [
    "def recDC(coinValueList, change, knownResults):\n",
    "    \"\"\"\n",
    "    Params:\n",
    "    ______\n",
    "    coinValueList: 币种的面值列表\n",
    "    change:需要找零的总面值\n",
    "    knownResults:已知的找零面值需要的金币个数\n",
    "    \n",
    "    Returns:\n",
    "    _______\n",
    "    numcoins: 最小找零个数\n",
    "    \"\"\"\n",
    "    mincoins = change\n",
    "    if change in coinValueList:\n",
    "        # 如果需要找零的就是已知币，即只需要一个币\n",
    "        knownResults[change] = 1\n",
    "        return 1\n",
    "    elif knownResults[change] > 0:\n",
    "        # 如果之前存储过，就直接返回\n",
    "        return knownResults[change]\n",
    "    else:\n",
    "        # 否则需要计算实际需要多少个找零\n",
    "        for i in [c for c in coinValueList if c <= change]:\n",
    "            numcoins = 1 + recDC(coinValueList, change-i, knownResults)\n",
    "            \n",
    "            if numcoins < mincoins:\n",
    "                mincoins = numcoins\n",
    "                knownResults[change] = mincoins\n",
    "    return mincoins"
   ]
  },
  {
   "cell_type": "code",
   "execution_count": 2,
   "metadata": {},
   "outputs": [
    {
     "data": {
      "text/plain": [
       "6"
      ]
     },
     "execution_count": 2,
     "metadata": {},
     "output_type": "execute_result"
    }
   ],
   "source": [
    "recDC([1,5,10,25],63,[0]*64)"
   ]
  },
  {
   "cell_type": "markdown",
   "metadata": {},
   "source": [
    "###  动态规划方式\n",
    "\n",
    "\n",
    "+ 一个一分钱加上 11-1 = 10分（1） 的最小硬币数\n",
    "+ 一个五分钱加上 11-5 = 6分（2）的最小硬币数\n",
    "+ 一个十分钱加上 11-10 = 1 分（1）最小硬币数\n",
    "\n",
    "选项 1 或 3 总共需要两个硬币，这是 11 美分的最小硬币数。\n",
    "\n",
    "![](https://facert.gitbooks.io/python-data-structure-cn/4.%E9%80%92%E5%BD%92/4.12.%E5%8A%A8%E6%80%81%E8%A7%84%E5%88%92/assets/4.12.%E5%8A%A8%E6%80%81%E8%A7%84%E5%88%92.figure6.png)"
   ]
  },
  {
   "cell_type": "code",
   "execution_count": 3,
   "metadata": {},
   "outputs": [],
   "source": [
    "def dpMakeChange(coinValueList, change, minCoins):\n",
    "    \"\"\"\n",
    "    Params:\n",
    "    ______\n",
    "    coinValueList: 各种币值的列表\n",
    "    change:需要找零的总价格\n",
    "    minCoins:列表，存储了各种面值的最小找零个数;初始化的时候应该是都为0\n",
    "    \n",
    "    Returns:\n",
    "    _______\n",
    "    minCoins:列表，存储了各种面值的最小找零个数\n",
    "    \"\"\"\n",
    "    for cents in range(change + 1):\n",
    "        coinCounts = cents\n",
    "        for j in [c for c in coinValueList if c <= cents]:\n",
    "            if minCoins[cents-j]+1 < coinCounts:\n",
    "                # 如果一个已有的基础币j加上剩余的零钱需要的个数小于当前个数，那么说明当前个数不是最优\n",
    "                coinCounts = minCoins[cents-j]+1\n",
    "        minCoins[cents] = coinCounts\n",
    "    return minCoins[change]"
   ]
  },
  {
   "cell_type": "code",
   "execution_count": 8,
   "metadata": {},
   "outputs": [
    {
     "data": {
      "text/plain": [
       "4"
      ]
     },
     "execution_count": 8,
     "metadata": {},
     "output_type": "execute_result"
    }
   ],
   "source": [
    "dpMakeChange([2,5,10], 35, [0]*36)"
   ]
  },
  {
   "cell_type": "markdown",
   "metadata": {},
   "source": [
    "上述方法只返回最小找零个数，但是没有返回具体使用的找零币值"
   ]
  },
  {
   "cell_type": "code",
   "execution_count": null,
   "metadata": {},
   "outputs": [],
   "source": [
    "def dpMakeChange(coinValueList, change, minCoins, coinsUsed):\n",
    "    \"\"\"\n",
    "    Params:\n",
    "    ______\n",
    "    coinValueList: 各种币值的列表\n",
    "    change:需要找零的总价格\n",
    "    minCoins:列表，存储了各种面值的最小找零个数;初始化的时候应该是都为0\n",
    "    coinsUsed:找零使用的币\n",
    "    \n",
    "    Returns:\n",
    "    _______\n",
    "    minCoins:列表，存储了各种面值的最小找零个数\n",
    "    \"\"\"\n",
    "    for cents in range(change+1):\n",
    "        coinCounts = cents\n",
    "        newCoin = 1\n",
    "        \n",
    "        for j in [c for c in coinValueList if c <= cents]:\n",
    "            if minCoins[cents-j] + 1 < coinCounts:\n",
    "                coinCounts = minCoins[cents-j]+1\n",
    "                newCoin = j\n",
    "        minCoins[cents] = coinCounts\n",
    "        coinsUsed[cents] = newCoin\n",
    "        \n",
    "    return minCoins[change]\n",
    "\n",
    "def printCoins(coinUsed, change):\n",
    "    coin = change\n",
    "    while coin > 0:\n",
    "        thisCoin = coinsUsed[coin]\n",
    "        print(thisCoin)\n",
    "        coin = coin - thisCoin\n",
    "        \n",
    "def "
   ]
  }
 ],
 "metadata": {
  "kernelspec": {
   "display_name": "Python 3",
   "language": "python",
   "name": "python3"
  },
  "language_info": {
   "codemirror_mode": {
    "name": "ipython",
    "version": 3
   },
   "file_extension": ".py",
   "mimetype": "text/x-python",
   "name": "python",
   "nbconvert_exporter": "python",
   "pygments_lexer": "ipython3",
   "version": "3.6.6"
  }
 },
 "nbformat": 4,
 "nbformat_minor": 2
}
