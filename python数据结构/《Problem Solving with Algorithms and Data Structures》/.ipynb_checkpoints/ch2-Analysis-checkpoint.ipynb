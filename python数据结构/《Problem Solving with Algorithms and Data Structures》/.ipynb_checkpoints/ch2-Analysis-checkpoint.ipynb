{
 "cells": [
  {
   "cell_type": "markdown",
   "metadata": {
    "deletable": true,
    "editable": true
   },
   "source": [
    "# chapter2 Analysis\n",
    "\n",
    "## 如何衡量代码执行效率"
   ]
  },
  {
   "cell_type": "code",
   "execution_count": 1,
   "metadata": {
    "collapsed": true,
    "deletable": true,
    "editable": true
   },
   "outputs": [],
   "source": [
    "import numpy as np"
   ]
  },
  {
   "cell_type": "markdown",
   "metadata": {
    "deletable": true,
    "editable": true
   },
   "source": [
    "一般使用时间复杂度来描述算法的复杂度和好坏，两段代码可能实现了同一个功能，但从耗费的时间的角度来衡量代码的好坏。"
   ]
  },
  {
   "cell_type": "code",
   "execution_count": 1,
   "metadata": {
    "code_folding": [],
    "collapsed": true,
    "deletable": true,
    "editable": true
   },
   "outputs": [],
   "source": [
    "import time\n",
    "\n",
    "# 比较两个计算sum的函数之间的差异；\n",
    "\n",
    "def func1(n):\n",
    "    start = time.time()\n",
    "    \n",
    "    theSum = 0\n",
    "    for i in range(1, n+1):\n",
    "        theSum += i\n",
    "        \n",
    "    end = time.time()\n",
    "    \n",
    "    return theSum, end-start"
   ]
  },
  {
   "cell_type": "code",
   "execution_count": 2,
   "metadata": {
    "collapsed": false,
    "deletable": true,
    "editable": true
   },
   "outputs": [
    {
     "name": "stdout",
     "output_type": "stream",
     "text": [
      "结果是 50005000 耗费的时间是  0.0010340 秒\n",
      "结果是 50005000 耗费的时间是  0.0007303 秒\n",
      "结果是 50005000 耗费的时间是  0.0007308 秒\n",
      "结果是 50005000 耗费的时间是  0.0007880 秒\n",
      "结果是 50005000 耗费的时间是  0.0007288 秒\n"
     ]
    }
   ],
   "source": [
    "for i in range(5):\n",
    "    print('结果是 %d 耗费的时间是 %10.7f 秒' % func1(10000))"
   ]
  },
  {
   "cell_type": "code",
   "execution_count": 3,
   "metadata": {
    "code_folding": [],
    "collapsed": false,
    "deletable": true,
    "editable": true,
    "scrolled": true
   },
   "outputs": [
    {
     "name": "stdout",
     "output_type": "stream",
     "text": [
      "结果是 500000500000 耗费的时间是  0.0865140 秒\n",
      "结果是 500000500000 耗费的时间是  0.0987501 秒\n",
      "结果是 500000500000 耗费的时间是  0.0995760 秒\n",
      "结果是 500000500000 耗费的时间是  0.0933840 秒\n",
      "结果是 500000500000 耗费的时间是  0.0712540 秒\n"
     ]
    }
   ],
   "source": [
    "for i in range(5):\n",
    "    print('结果是 %d 耗费的时间是 %10.7f 秒' % func1(1000000))"
   ]
  },
  {
   "cell_type": "markdown",
   "metadata": {
    "deletable": true,
    "editable": true
   },
   "source": [
    "另外一个方式，直接用公式$\\sum_i = \\frac{n(n+1)}{2}$"
   ]
  },
  {
   "cell_type": "code",
   "execution_count": 4,
   "metadata": {
    "collapsed": false,
    "deletable": true,
    "editable": true
   },
   "outputs": [
    {
     "name": "stdout",
     "output_type": "stream",
     "text": [
      "运算时间  0.0000021 秒\n",
      "运算时间  0.0000019 秒\n",
      "运算时间  0.0000010 秒\n",
      "运算时间  0.0000019 秒\n",
      "运算时间  0.0000010 秒\n"
     ]
    }
   ],
   "source": [
    "def myfunc2(n):\n",
    "    return n*(n+1)/2\n",
    "\n",
    "for i in range(5):\n",
    "    start = time.time()\n",
    "    myfunc2(1000000)\n",
    "    end = time.time()\n",
    "    print('运算时间 %10.7f 秒'%(end-start))"
   ]
  },
  {
   "cell_type": "markdown",
   "metadata": {
    "deletable": true,
    "editable": true
   },
   "source": [
    "## big O Notation\n",
    "为了用一般的形式衡量代码的运行效率，而不是使用时间这一手段；\n",
    "一句赋值语句复杂度为1\n",
    "\n",
    "这样，myfunc1的时间复杂度就为$O(n)$\n",
    "\n",
    "\n",
    "f(n) | Name \n",
    "----|------\n",
    "1 | constant \n",
    "$logn$ | Logarithmic\n",
    "n | Linear\n",
    "$nlogn$ | Log Linear\n",
    "$n^2$ | Quadratic\n",
    "$n^3$ | Cubic\n",
    "$2^n$ | Exponential"
   ]
  },
  {
   "cell_type": "code",
   "execution_count": 6,
   "metadata": {
    "collapsed": false,
    "deletable": true,
    "editable": true
   },
   "outputs": [
    {
     "data": {
      "text/plain": [
       "1"
      ]
     },
     "execution_count": 6,
     "metadata": {},
     "output_type": "execute_result"
    }
   ],
   "source": [
    "# write 2 functions to find minimum number in a list\n",
    "\n",
    "def min1(l):\n",
    "    # l is a list\n",
    "    out = 0\n",
    "    for item in l:\n",
    "        if item < out:\n",
    "            out = item\n",
    "            \n",
    "    return out\n",
    "\n",
    "min([34,43,1,2,32,5,6])"
   ]
  },
  {
   "cell_type": "markdown",
   "metadata": {
    "deletable": true,
    "editable": true
   },
   "source": [
    "## 一个字符串颠倒顺序检测的例子\n",
    "\n",
    "### solution1：checking off\n",
    "检查string1中的字符是不是都在string2中出现   时间复杂度 $O(n^2)$"
   ]
  },
  {
   "cell_type": "code",
   "execution_count": 7,
   "metadata": {
    "collapsed": false,
    "deletable": true,
    "editable": true
   },
   "outputs": [
    {
     "name": "stdout",
     "output_type": "stream",
     "text": [
      "True\n"
     ]
    }
   ],
   "source": [
    "def myfunc1(s1, s2):\n",
    "    alist = list(s2)\n",
    "    pos1 = 0\n",
    "    stillOK = True\n",
    "    \n",
    "    while pos1 < len(s1) and stillOK:\n",
    "        pos2 = 0\n",
    "        found = False\n",
    "        while pos2 < len(alist) and not found:\n",
    "            if s1[pos1] == alist[pos2]:\n",
    "                found = True\n",
    "            else:\n",
    "                pos2 = pos2 + 1\n",
    "        \n",
    "        if found:\n",
    "            alist[pos2] = None\n",
    "        else:\n",
    "            stillOK = False\n",
    "        \n",
    "        pos1 = pos1 + 1\n",
    "    \n",
    "    return stillOK\n",
    "\n",
    "print(myfunc1('abcd','dcba'))"
   ]
  },
  {
   "cell_type": "markdown",
   "metadata": {
    "deletable": true,
    "editable": true
   },
   "source": [
    "### solution2: sort and compare\n",
    "如果组成字符相同，那么sort完之后肯定是同样的字符   ，时间复杂度为 $O(n)$"
   ]
  },
  {
   "cell_type": "code",
   "execution_count": 8,
   "metadata": {
    "collapsed": false,
    "deletable": true,
    "editable": true
   },
   "outputs": [
    {
     "name": "stdout",
     "output_type": "stream",
     "text": [
      "True\n"
     ]
    }
   ],
   "source": [
    "def myfunc2(s1, s2):\n",
    "    alist1 = list(s1)\n",
    "    alist2 = list(s2)\n",
    "    \n",
    "    alist1.sort()\n",
    "    alist2.sort()\n",
    "    \n",
    "    pos = 0\n",
    "    matches = True\n",
    "    \n",
    "    while pos < len(s1) and matches:\n",
    "        if alist1[pos] == alist2[pos]:\n",
    "            pos += 1\n",
    "        else:\n",
    "            matches = False\n",
    "    return matches\n",
    "\n",
    "print(myfunc2('abcde', 'bcade'))"
   ]
  },
  {
   "cell_type": "markdown",
   "metadata": {
    "deletable": true,
    "editable": true
   },
   "source": [
    "### solution3： Brute Force暴力破解\n",
    "先对s1生成所有可能的字符串，再查看是否会出现s2；显然这不是一个好的方法\n",
    "\n",
    "### solution4: count and compare\n",
    "由于是重排，则所有字母出现的频率是相同的, 时间复杂度$O(n)$"
   ]
  },
  {
   "cell_type": "code",
   "execution_count": 9,
   "metadata": {
    "collapsed": false,
    "deletable": true,
    "editable": true
   },
   "outputs": [
    {
     "name": "stdout",
     "output_type": "stream",
     "text": [
      "True\n"
     ]
    }
   ],
   "source": [
    "def myfunc4(s1, s2):\n",
    "    c1 = [0]*26\n",
    "    c2 = [0]*26\n",
    "    \n",
    "    for item in s1:\n",
    "        pos = ord(item) - ord('a') # 通过ASCII码返回该index值\n",
    "        c1[pos] += 1\n",
    "        \n",
    "    for item in s2:\n",
    "        pos = ord(item) - ord('a')\n",
    "        c2[pos] += 1\n",
    "\n",
    "    stillOK = True\n",
    "    j = 0\n",
    "    while j <26 and stillOK:\n",
    "        if c1[j]==c2[j]:\n",
    "            j +=1\n",
    "        else:\n",
    "            stillOK = False\n",
    "        \n",
    "    return stillOK\n",
    "  \n",
    "print(myfunc4('apple','pleap'))"
   ]
  },
  {
   "cell_type": "markdown",
   "metadata": {
    "deletable": true,
    "editable": true
   },
   "source": [
    "## 内置数据结构的性能\n",
    "这一章介绍了内置数据结构中各种运算的性能差异\n",
    "\n",
    "### lists列表\n",
    "\n",
    "+ index 和 赋值 时间复杂度都是$O(1)$\n",
    "\n",
    "+ append的时间复杂度为$O(1)$，但是连接函数的时间复杂度为$O(k)$,k是列表的大小"
   ]
  },
  {
   "cell_type": "code",
   "execution_count": 5,
   "metadata": {
    "collapsed": true,
    "deletable": true,
    "editable": true
   },
   "outputs": [],
   "source": [
    "def test1():\n",
    "    l = []\n",
    "    for i in range(1000):\n",
    "        l = l + [i]\n",
    "\n",
    "def test2():\n",
    "    l = []\n",
    "    for i in range(1000):\n",
    "        l.append(i)\n",
    "        \n",
    "def test3():\n",
    "    l = [ i for i in range(1000)]\n",
    "    \n",
    "def test4():\n",
    "    l = list(range(1000))\n",
    "        "
   ]
  },
  {
   "cell_type": "code",
   "execution_count": 6,
   "metadata": {
    "collapsed": false,
    "deletable": true,
    "editable": true
   },
   "outputs": [
    {
     "name": "stdout",
     "output_type": "stream",
     "text": [
      "concat  1.2119950179985608 milliseconds\n",
      "append  0.08078084000590025 milliseconds\n",
      "comprehension  0.03509966700221412 milliseconds\n",
      "list range  0.014638794003985822 milliseconds\n"
     ]
    }
   ],
   "source": [
    "# use timer module to test these functions;\n",
    "# 它能保证所有的函数都在一个相同的环境下运行\n",
    "from timeit import Timer\n",
    "t1 = Timer(\"test1()\", \"from __main__ import test1\")\n",
    "print(\"concat \",t1.timeit(number=1000), \"milliseconds\")\n",
    "t2 = Timer(\"test2()\", \"from __main__ import test2\")\n",
    "print(\"append \",t2.timeit(number=1000), \"milliseconds\")\n",
    "t3 = Timer(\"test3()\", \"from __main__ import test3\")\n",
    "print(\"comprehension \",t3.timeit(number=1000), \"milliseconds\")\n",
    "t4 = Timer(\"test4()\", \"from __main__ import test4\")\n",
    "print(\"list range \",t4.timeit(number=1000), \"milliseconds\")"
   ]
  },
  {
   "cell_type": "markdown",
   "metadata": {
    "deletable": true,
    "editable": true
   },
   "source": [
    "操作 | 耗费时间 \n",
    "----|------\n",
    "index [] |\tO(1)\n",
    "index assignment\t|O(1)\n",
    "append\t|O(1)\n",
    "pop()\t|O(1)\n",
    "pop(i)\t|O(n)\n",
    "insert(i,item)\t|O(n)\n",
    "del operator\t|O(n)\n",
    "iteration\t|O(n)\n",
    "contains (in)\t|O(n)\n",
    "get slice [x:y]\t|O(k)\n",
    "del slice\t|O(n)\n",
    "set slice\t|O(n+k)\n",
    "reverse\t|O(n)\n",
    "concatenate\t|O(k)\n",
    "sort\t| O(n log n)\n",
    "multiply\t| O(nk)"
   ]
  },
  {
   "cell_type": "code",
   "execution_count": 13,
   "metadata": {
    "collapsed": false,
    "deletable": true,
    "editable": true
   },
   "outputs": [
    {
     "data": {
      "text/plain": [
       "[3, 2, 1]"
      ]
     },
     "execution_count": 13,
     "metadata": {},
     "output_type": "execute_result"
    }
   ],
   "source": [
    "x=[1,2,3]\n",
    "x.reverse()\n",
    "x"
   ]
  },
  {
   "cell_type": "markdown",
   "metadata": {},
   "source": [
    "**从上述表格中可以看出，pop从列表中删除最后一个元素的时间复杂度为1，即不会随着列表长度的上升而增加时间开销，而pop(i)表示从其中索引为i处删除元素，其时间复杂度为$O(n)$**"
   ]
  },
  {
   "cell_type": "code",
   "execution_count": 16,
   "metadata": {
    "collapsed": false
   },
   "outputs": [
    {
     "data": {
      "text/plain": [
       "30.723511934280396"
      ]
     },
     "execution_count": 16,
     "metadata": {},
     "output_type": "execute_result"
    }
   ],
   "source": [
    "import timeit\n",
    "popzero = timeit.Timer('x.pop(0)',\n",
    "                      'from __main__ import x')\n",
    "popend = timeit.Timer('x.pop()',\n",
    "                     'from __main__ import x')\n",
    "\n",
    "x = range(20000000)\n",
    "popzero.timeit(number = 1000) # 跑一千次"
   ]
  },
  {
   "cell_type": "code",
   "execution_count": 17,
   "metadata": {
    "collapsed": false
   },
   "outputs": [
    {
     "data": {
      "text/plain": [
       "0.0004260540008544922"
      ]
     },
     "execution_count": 17,
     "metadata": {},
     "output_type": "execute_result"
    }
   ],
   "source": [
    "popend.timeit(number = 1000) #跑一千次"
   ]
  },
  {
   "cell_type": "markdown",
   "metadata": {},
   "source": [
    "**可以看出pop()耗费时间极少！！**"
   ]
  },
  {
   "cell_type": "markdown",
   "metadata": {},
   "source": [
    "### Dict字典\n",
    "|operation\t| Big-O Efficiency\n",
    "|--------|-----------\n",
    "|copy\t|O(n)\n",
    "|get item\t|O(1)\n",
    "|set item\t|O(1)\n",
    "|delete item\t|O(1)\n",
    "|contains (in)\t|O(1)\n",
    "|iteration|\tO(n)\n",
    "\n",
    "列表中 contains的操作时间复杂度为$O(n)$，而字典中只有$O(1)$，下面我们来比较一下："
   ]
  },
  {
   "cell_type": "code",
   "execution_count": 25,
   "metadata": {
    "code_folding": [],
    "collapsed": false
   },
   "outputs": [
    {
     "name": "stdout",
     "output_type": "stream",
     "text": [
      "10000,      0.114,      0.001\n",
      "30000,      0.220,      0.001\n",
      "50000,      0.345,      0.001\n",
      "70000,      0.505,      0.001\n",
      "90000,      0.633,      0.001\n",
      "110000,      0.797,      0.001\n",
      "130000,      0.925,      0.001\n",
      "150000,      1.068,      0.001\n",
      "170000,      1.197,      0.001\n",
      "190000,      1.374,      0.001\n",
      "210000,      1.577,      0.001\n",
      "230000,      1.709,      0.001\n",
      "250000,      1.898,      0.001\n",
      "270000,      2.064,      0.001\n",
      "290000,      2.162,      0.001\n",
      "310000,      2.475,      0.001\n",
      "330000,      2.571,      0.001\n",
      "350000,      2.766,      0.001\n",
      "370000,      2.967,      0.001\n",
      "390000,      3.077,      0.001\n",
      "410000,      3.247,      0.001\n",
      "430000,      3.333,      0.001\n",
      "450000,      3.622,      0.001\n",
      "470000,      3.692,      0.001\n",
      "490000,      3.976,      0.001\n",
      "510000,      4.066,      0.001\n",
      "530000,      4.343,      0.001\n",
      "550000,      4.379,      0.001\n",
      "570000,      4.479,      0.001\n",
      "590000,      4.698,      0.001\n",
      "610000,      4.977,      0.001\n",
      "630000,      5.048,      0.001\n",
      "650000,      5.073,      0.001\n",
      "670000,      5.379,      0.001\n",
      "690000,      5.184,      0.001\n",
      "710000,      5.679,      0.001\n",
      "730000,      5.942,      0.001\n",
      "750000,      5.919,      0.001\n",
      "770000,      6.068,      0.001\n",
      "790000,      6.350,      0.001\n",
      "810000,      6.601,      0.001\n",
      "830000,      6.756,      0.001\n",
      "850000,      6.926,      0.001\n",
      "870000,      6.976,      0.001\n",
      "890000,      7.167,      0.001\n",
      "910000,      7.086,      0.001\n",
      "930000,      7.194,      0.001\n",
      "950000,      7.739,      0.001\n",
      "970000,      7.843,      0.001\n",
      "990000,      7.945,      0.001\n"
     ]
    }
   ],
   "source": [
    "import random\n",
    "for i in range(10000, 1000001, 20000):\n",
    "    t = timeit.Timer('random.randrange(%d)in x' %i,\n",
    "                        'from __main__ import random, x')\n",
    "    x = range(i)\n",
    "    lst_time = t.timeit(number = 1000)\n",
    "    x = {j: None for j in range(i)}\n",
    "    d_time = t.timeit(number = 1000)\n",
    "    print '%d, %10.3f, %10.3f' % (i, lst_time, d_time)"
   ]
  },
  {
   "cell_type": "markdown",
   "metadata": {},
   "source": [
    "**由此可以看出list中 in 的操作耗时随着表的长度增加而递增，而字典中时间复杂度为$O(1)$**\n",
    "\n",
    "### summary\n",
    "从上面这些分析中可以看出dict由于其内部的hash值匹配，所以时间复杂度较低；\n",
    "同时列表操作中 append, index, pop这些的复杂度为1\n",
    "\n",
    "### 作业\n",
    "\n",
    "+ 1. 设计一个试验。来验证list 中 index的时间复杂度是 $O(1)$"
   ]
  },
  {
   "cell_type": "code",
   "execution_count": 33,
   "metadata": {
    "collapsed": false
   },
   "outputs": [
    {
     "name": "stdout",
     "output_type": "stream",
     "text": [
      "     0.001\n",
      "     0.000\n",
      "     0.000\n",
      "     0.000\n",
      "     0.000\n",
      "     0.000\n",
      "     0.000\n",
      "     0.000\n",
      "     0.000\n",
      "     0.000\n",
      "     0.000\n",
      "     0.000\n",
      "     0.000\n",
      "     0.000\n",
      "     0.000\n",
      "     0.000\n",
      "     0.000\n",
      "     0.000\n",
      "     0.000\n",
      "     0.000\n",
      "     0.000\n",
      "     0.000\n",
      "     0.000\n",
      "     0.000\n",
      "     0.000\n",
      "     0.000\n",
      "     0.000\n",
      "     0.000\n",
      "     0.000\n",
      "     0.000\n",
      "     0.000\n",
      "     0.000\n",
      "     0.000\n",
      "     0.000\n",
      "     0.000\n",
      "     0.000\n",
      "     0.000\n",
      "     0.000\n",
      "     0.000\n",
      "     0.000\n",
      "     0.000\n",
      "     0.000\n",
      "     0.000\n",
      "     0.000\n",
      "     0.000\n",
      "     0.000\n",
      "     0.000\n",
      "     0.000\n",
      "     0.000\n",
      "     0.000\n",
      "     0.000\n",
      "     0.000\n",
      "     0.000\n",
      "     0.000\n",
      "     0.000\n",
      "     0.000\n",
      "     0.000\n",
      "     0.000\n",
      "     0.000\n",
      "     0.000\n",
      "     0.000\n",
      "     0.000\n",
      "     0.000\n",
      "     0.000\n",
      "     0.000\n",
      "     0.000\n",
      "     0.000\n",
      "     0.000\n",
      "     0.000\n",
      "     0.000\n",
      "     0.000\n",
      "     0.000\n",
      "     0.000\n",
      "     0.000\n",
      "     0.000\n",
      "     0.000\n",
      "     0.000\n",
      "     0.000\n",
      "     0.000\n",
      "     0.000\n",
      "     0.000\n",
      "     0.000\n",
      "     0.000\n",
      "     0.000\n",
      "     0.000\n",
      "     0.000\n",
      "     0.000\n",
      "     0.000\n",
      "     0.000\n",
      "     0.000\n",
      "     0.000\n",
      "     0.000\n",
      "     0.000\n",
      "     0.000\n",
      "     0.000\n",
      "     0.000\n",
      "     0.000\n",
      "     0.000\n",
      "     0.000\n",
      "     0.000\n"
     ]
    }
   ],
   "source": [
    "for i in range(100000, 200000, 1000):\n",
    "    t = timeit.Timer('x[5]',\n",
    "                     'from __main__ import x')\n",
    "    x = range(i)\n",
    "    time = t.timeit(number = 1000)\n",
    "    print '%10.3f' % time"
   ]
  },
  {
   "cell_type": "markdown",
   "metadata": {},
   "source": [
    "+ 2. 作业2：验证字典中 get和set的时间复杂度为$O(1)$"
   ]
  },
  {
   "cell_type": "code",
   "execution_count": 41,
   "metadata": {
    "collapsed": false
   },
   "outputs": [
    {
     "name": "stdout",
     "output_type": "stream",
     "text": [
      "     0.002\n",
      "     0.001\n",
      "     0.001\n",
      "     0.001\n",
      "     0.001\n",
      "     0.001\n",
      "     0.001\n",
      "     0.001\n",
      "     0.001\n",
      "     0.001\n",
      "     0.001\n",
      "     0.001\n",
      "     0.001\n",
      "     0.001\n",
      "     0.001\n",
      "     0.001\n",
      "     0.001\n",
      "     0.001\n",
      "     0.001\n",
      "     0.001\n",
      "     0.001\n",
      "     0.001\n",
      "     0.001\n",
      "     0.001\n",
      "     0.001\n",
      "     0.001\n",
      "     0.001\n",
      "     0.001\n",
      "     0.001\n",
      "     0.001\n",
      "     0.001\n",
      "     0.001\n",
      "     0.001\n",
      "     0.001\n",
      "     0.001\n",
      "     0.001\n",
      "     0.001\n",
      "     0.001\n",
      "     0.001\n",
      "     0.001\n",
      "     0.001\n",
      "     0.001\n",
      "     0.001\n",
      "     0.001\n",
      "     0.001\n",
      "     0.001\n",
      "     0.001\n",
      "     0.001\n",
      "     0.001\n",
      "     0.001\n"
     ]
    }
   ],
   "source": [
    "# timeit可以保证在一个独立的环境下进行测试\n",
    "for i in range(10000, 1000001, 20000):\n",
    "    \n",
    "    t = timeit.Timer('d.get(random.randrange(i))',\n",
    "                    'from __main__ import i,d,random')\n",
    "    d = {j:j ** 2 for j in range(i)}\n",
    "    time = t.timeit(number = 1000)\n",
    "    print '%10.3f' %time"
   ]
  },
  {
   "cell_type": "code",
   "execution_count": 42,
   "metadata": {
    "collapsed": false
   },
   "outputs": [
    {
     "name": "stdout",
     "output_type": "stream",
     "text": [
      "     0.001\n",
      "     0.001\n",
      "     0.001\n",
      "     0.001\n",
      "     0.001\n",
      "     0.001\n",
      "     0.001\n",
      "     0.001\n",
      "     0.001\n",
      "     0.001\n",
      "     0.001\n",
      "     0.001\n",
      "     0.001\n",
      "     0.001\n",
      "     0.001\n",
      "     0.001\n",
      "     0.001\n",
      "     0.001\n",
      "     0.001\n",
      "     0.001\n",
      "     0.001\n",
      "     0.001\n",
      "     0.001\n",
      "     0.001\n",
      "     0.001\n",
      "     0.001\n",
      "     0.001\n",
      "     0.001\n",
      "     0.001\n",
      "     0.001\n",
      "     0.001\n",
      "     0.001\n",
      "     0.001\n",
      "     0.001\n",
      "     0.001\n",
      "     0.001\n",
      "     0.001\n",
      "     0.001\n",
      "     0.001\n",
      "     0.001\n",
      "     0.001\n",
      "     0.001\n",
      "     0.001\n",
      "     0.001\n",
      "     0.001\n",
      "     0.001\n",
      "     0.001\n",
      "     0.001\n",
      "     0.001\n",
      "     0.001\n"
     ]
    }
   ],
   "source": [
    "for i in range(10000, 1000001, 20000):\n",
    "    \n",
    "    t = timeit.Timer('d.setdefault(random.randrange(i), 12)',\n",
    "                    'from __main__ import i,d,random')\n",
    "    d = {j:j ** 2 for j in range(i)}\n",
    "    time = t.timeit(number = 1000)\n",
    "    print '%10.3f' %time"
   ]
  },
  {
   "cell_type": "markdown",
   "metadata": {},
   "source": [
    "+ 作业3：list和dictionary中的del操作比较"
   ]
  },
  {
   "cell_type": "code",
   "execution_count": 49,
   "metadata": {
    "collapsed": false
   },
   "outputs": [
    {
     "name": "stdout",
     "output_type": "stream",
     "text": [
      "     0.008      0.110\n",
      "     0.009      0.177\n",
      "     0.013      0.249\n",
      "     0.019      0.329\n",
      "     0.025      1.037\n",
      "     0.032      1.405\n",
      "     0.038      2.097\n",
      "     0.044      2.881\n",
      "     0.051      3.624\n",
      "     0.057      6.009\n",
      "     0.064      6.815\n",
      "     0.069      7.567\n",
      "     0.075      8.508\n",
      "     0.082      9.346\n",
      "     0.088     10.075\n",
      "     0.094     10.997\n",
      "     0.101     11.573\n",
      "     0.106     14.107\n",
      "     0.114     15.079\n",
      "     0.120     16.100\n",
      "     0.127     16.869\n",
      "     0.133     17.835\n",
      "     0.140     18.849\n",
      "     0.161     19.565\n",
      "     0.151     20.547\n",
      "     0.158     21.446\n",
      "     0.163     22.215\n",
      "     0.171     23.225\n",
      "     0.177     24.110\n",
      "     0.183     24.891\n",
      "     0.189     25.906\n",
      "     0.196     26.756\n",
      "     0.202     27.419\n",
      "     0.211     28.434\n",
      "     0.218     29.184\n",
      "     0.223     32.214\n",
      "     0.234     32.594\n",
      "     0.296     33.456\n",
      "     0.322     33.197\n",
      "     0.289     33.602\n",
      "     0.420     34.464\n",
      "     0.428     34.160\n"
     ]
    },
    {
     "ename": "KeyboardInterrupt",
     "evalue": "",
     "output_type": "error",
     "traceback": [
      "\u001b[0;31m---------------------------------------------------------------------------\u001b[0m",
      "\u001b[0;31mKeyboardInterrupt\u001b[0m                         Traceback (most recent call last)",
      "\u001b[0;32m<ipython-input-49-7309eeff131c>\u001b[0m in \u001b[0;36m<module>\u001b[0;34m()\u001b[0m\n\u001b[1;32m      8\u001b[0m \u001b[0;34m\u001b[0m\u001b[0m\n\u001b[1;32m      9\u001b[0m     \u001b[0mout1\u001b[0m \u001b[0;34m=\u001b[0m \u001b[0mt1\u001b[0m\u001b[0;34m.\u001b[0m\u001b[0mtimeit\u001b[0m\u001b[0;34m(\u001b[0m\u001b[0mnumber\u001b[0m\u001b[0;34m=\u001b[0m \u001b[0;36m1000\u001b[0m\u001b[0;34m)\u001b[0m\u001b[0;34m\u001b[0m\u001b[0m\n\u001b[0;32m---> 10\u001b[0;31m     \u001b[0mout2\u001b[0m \u001b[0;34m=\u001b[0m \u001b[0mt2\u001b[0m\u001b[0;34m.\u001b[0m\u001b[0mtimeit\u001b[0m\u001b[0;34m(\u001b[0m\u001b[0mnumber\u001b[0m \u001b[0;34m=\u001b[0m \u001b[0;36m1000\u001b[0m\u001b[0;34m)\u001b[0m\u001b[0;34m\u001b[0m\u001b[0m\n\u001b[0m\u001b[1;32m     11\u001b[0m     \u001b[0;32mprint\u001b[0m \u001b[0;34m'%10.3f %10.3f'\u001b[0m \u001b[0;34m%\u001b[0m\u001b[0;34m(\u001b[0m\u001b[0mout1\u001b[0m\u001b[0;34m,\u001b[0m \u001b[0mout2\u001b[0m\u001b[0;34m)\u001b[0m\u001b[0;34m\u001b[0m\u001b[0m\n",
      "\u001b[0;32m/usr/lib64/python2.7/timeit.pyc\u001b[0m in \u001b[0;36mtimeit\u001b[0;34m(self, number)\u001b[0m\n\u001b[1;32m    193\u001b[0m         \u001b[0mgc\u001b[0m\u001b[0;34m.\u001b[0m\u001b[0mdisable\u001b[0m\u001b[0;34m(\u001b[0m\u001b[0;34m)\u001b[0m\u001b[0;34m\u001b[0m\u001b[0m\n\u001b[1;32m    194\u001b[0m         \u001b[0;32mtry\u001b[0m\u001b[0;34m:\u001b[0m\u001b[0;34m\u001b[0m\u001b[0m\n\u001b[0;32m--> 195\u001b[0;31m             \u001b[0mtiming\u001b[0m \u001b[0;34m=\u001b[0m \u001b[0mself\u001b[0m\u001b[0;34m.\u001b[0m\u001b[0minner\u001b[0m\u001b[0;34m(\u001b[0m\u001b[0mit\u001b[0m\u001b[0;34m,\u001b[0m \u001b[0mself\u001b[0m\u001b[0;34m.\u001b[0m\u001b[0mtimer\u001b[0m\u001b[0;34m)\u001b[0m\u001b[0;34m\u001b[0m\u001b[0m\n\u001b[0m\u001b[1;32m    196\u001b[0m         \u001b[0;32mfinally\u001b[0m\u001b[0;34m:\u001b[0m\u001b[0;34m\u001b[0m\u001b[0m\n\u001b[1;32m    197\u001b[0m             \u001b[0;32mif\u001b[0m \u001b[0mgcold\u001b[0m\u001b[0;34m:\u001b[0m\u001b[0;34m\u001b[0m\u001b[0m\n",
      "\u001b[0;32m/usr/lib64/python2.7/timeit.pyc\u001b[0m in \u001b[0;36minner\u001b[0;34m(_it, _timer)\u001b[0m\n",
      "\u001b[0;31mKeyboardInterrupt\u001b[0m: "
     ]
    }
   ],
   "source": [
    "for i in range(10000, 1000001, 20000):\n",
    "    t1 = timeit.Timer('del x[5]',\n",
    "                     'from __main__ import  x, random')\n",
    "    t2 = timeit.Timer('del y[y.keys()[1]]',\n",
    "                     'from __main__ import i, y, random')\n",
    "    x = range(i)\n",
    "    y = {j: None for j in range(i)}\n",
    "    \n",
    "    out1 = t1.timeit(number= 1000)\n",
    "    out2 = t2.timeit(number = 1000)\n",
    "    print '%10.3f %10.3f' %(out1, out2)"
   ]
  },
  {
   "cell_type": "code",
   "execution_count": null,
   "metadata": {
    "collapsed": true
   },
   "outputs": [],
   "source": []
  },
  {
   "cell_type": "code",
   "execution_count": null,
   "metadata": {
    "collapsed": true
   },
   "outputs": [],
   "source": []
  },
  {
   "cell_type": "code",
   "execution_count": null,
   "metadata": {
    "collapsed": true
   },
   "outputs": [],
   "source": []
  },
  {
   "cell_type": "code",
   "execution_count": null,
   "metadata": {
    "collapsed": true
   },
   "outputs": [],
   "source": []
  },
  {
   "cell_type": "code",
   "execution_count": null,
   "metadata": {
    "collapsed": true
   },
   "outputs": [],
   "source": []
  },
  {
   "cell_type": "code",
   "execution_count": null,
   "metadata": {
    "collapsed": true
   },
   "outputs": [],
   "source": []
  },
  {
   "cell_type": "code",
   "execution_count": null,
   "metadata": {
    "collapsed": true
   },
   "outputs": [],
   "source": []
  },
  {
   "cell_type": "code",
   "execution_count": null,
   "metadata": {
    "collapsed": true
   },
   "outputs": [],
   "source": []
  },
  {
   "cell_type": "code",
   "execution_count": null,
   "metadata": {
    "collapsed": true
   },
   "outputs": [],
   "source": []
  },
  {
   "cell_type": "code",
   "execution_count": null,
   "metadata": {
    "collapsed": true
   },
   "outputs": [],
   "source": []
  }
 ],
 "metadata": {
  "kernelspec": {
   "display_name": "Python 3",
   "language": "python",
   "name": "python3"
  },
  "language_info": {
   "codemirror_mode": {
    "name": "ipython",
    "version": 3
   },
   "file_extension": ".py",
   "mimetype": "text/x-python",
   "name": "python",
   "nbconvert_exporter": "python",
   "pygments_lexer": "ipython3",
   "version": "3.6.6"
  },
  "toc": {
   "colors": {
    "hover_highlight": "#DAA520",
    "running_highlight": "#FF0000",
    "selected_highlight": "#FFD700"
   },
   "moveMenuLeft": true,
   "nav_menu": {
    "height": "194px",
    "width": "252px"
   },
   "navigate_menu": true,
   "number_sections": true,
   "sideBar": true,
   "threshold": 4,
   "toc_cell": false,
   "toc_position": {
    "height": "721px",
    "left": "0px",
    "right": "auto",
    "top": "105px",
    "width": "148px"
   },
   "toc_section_display": "block",
   "toc_window_display": true,
   "widenNotebook": false
  }
 },
 "nbformat": 4,
 "nbformat_minor": 2
}
