{
 "cells": [
  {
   "cell_type": "markdown",
   "metadata": {
    "toc": "true"
   },
   "source": [
    "# Table of Contents\n",
    " <p><div class=\"lev1 toc-item\"><a href=\"#solving-problem-using-python-with-data-structure\" data-toc-modified-id=\"solving-problem-using-python-with-data-structure-1\"><span class=\"toc-item-num\">1&nbsp;&nbsp;</span>solving problem using python with data structure</a></div><div class=\"lev2 toc-item\"><a href=\"#复习python基础----内生数据类型\" data-toc-modified-id=\"复习python基础----内生数据类型-11\"><span class=\"toc-item-num\">1.1&nbsp;&nbsp;</span>复习python基础 -- 内生数据类型</a></div><div class=\"lev3 toc-item\"><a href=\"#list\" data-toc-modified-id=\"list-111\"><span class=\"toc-item-num\">1.1.1&nbsp;&nbsp;</span>list</a></div><div class=\"lev3 toc-item\"><a href=\"#range\" data-toc-modified-id=\"range-112\"><span class=\"toc-item-num\">1.1.2&nbsp;&nbsp;</span>range</a></div><div class=\"lev3 toc-item\"><a href=\"#string字符串\" data-toc-modified-id=\"string字符串-113\"><span class=\"toc-item-num\">1.1.3&nbsp;&nbsp;</span>string字符串</a></div><div class=\"lev3 toc-item\"><a href=\"#元组\" data-toc-modified-id=\"元组-114\"><span class=\"toc-item-num\">1.1.4&nbsp;&nbsp;</span>元组</a></div><div class=\"lev3 toc-item\"><a href=\"#set\" data-toc-modified-id=\"set-115\"><span class=\"toc-item-num\">1.1.5&nbsp;&nbsp;</span>set</a></div><div class=\"lev3 toc-item\"><a href=\"#字典\" data-toc-modified-id=\"字典-116\"><span class=\"toc-item-num\">1.1.6&nbsp;&nbsp;</span>字典</a></div><div class=\"lev2 toc-item\"><a href=\"#Input-and-output\" data-toc-modified-id=\"Input-and-output-12\"><span class=\"toc-item-num\">1.2&nbsp;&nbsp;</span>Input and output</a></div><div class=\"lev3 toc-item\"><a href=\"#format-the-print\" data-toc-modified-id=\"format-the-print-121\"><span class=\"toc-item-num\">1.2.1&nbsp;&nbsp;</span>format the print</a></div><div class=\"lev2 toc-item\"><a href=\"#控制流\" data-toc-modified-id=\"控制流-13\"><span class=\"toc-item-num\">1.3&nbsp;&nbsp;</span>控制流</a></div><div class=\"lev3 toc-item\"><a href=\"#while\" data-toc-modified-id=\"while-131\"><span class=\"toc-item-num\">1.3.1&nbsp;&nbsp;</span>while</a></div><div class=\"lev3 toc-item\"><a href=\"#for循环\" data-toc-modified-id=\"for循环-132\"><span class=\"toc-item-num\">1.3.2&nbsp;&nbsp;</span>for循环</a></div><div class=\"lev3 toc-item\"><a href=\"#判断语句\" data-toc-modified-id=\"判断语句-133\"><span class=\"toc-item-num\">1.3.3&nbsp;&nbsp;</span>判断语句</a></div><div class=\"lev2 toc-item\"><a href=\"#异常处理\" data-toc-modified-id=\"异常处理-14\"><span class=\"toc-item-num\">1.4&nbsp;&nbsp;</span>异常处理</a></div><div class=\"lev2 toc-item\"><a href=\"#自定义函数\" data-toc-modified-id=\"自定义函数-15\"><span class=\"toc-item-num\">1.5&nbsp;&nbsp;</span>自定义函数</a></div><div class=\"lev2 toc-item\"><a href=\"#面向对象的编程\" data-toc-modified-id=\"面向对象的编程-16\"><span class=\"toc-item-num\">1.6&nbsp;&nbsp;</span>面向对象的编程</a></div><div class=\"lev3 toc-item\"><a href=\"#定义类\" data-toc-modified-id=\"定义类-161\"><span class=\"toc-item-num\">1.6.1&nbsp;&nbsp;</span>定义类</a></div><div class=\"lev3 toc-item\"><a href=\"#继承\" data-toc-modified-id=\"继承-162\"><span class=\"toc-item-num\">1.6.2&nbsp;&nbsp;</span>继承</a></div>"
   ]
  },
  {
   "cell_type": "markdown",
   "metadata": {},
   "source": [
    "# solving problem using python with data structure\n",
    "\n",
    "## 复习python基础 -- 内生数据类型\n",
    "\n",
    "### list"
   ]
  },
  {
   "cell_type": "code",
   "execution_count": 1,
   "metadata": {
    "collapsed": true
   },
   "outputs": [],
   "source": [
    "import numpy as np"
   ]
  },
  {
   "cell_type": "code",
   "execution_count": 2,
   "metadata": {},
   "outputs": [
    {
     "data": {
      "text/plain": [
       "[1, 2, 3, 'a', 'sa', 6]"
      ]
     },
     "execution_count": 2,
     "metadata": {},
     "output_type": "execute_result"
    }
   ],
   "source": [
    "x = [1, 2, 3, 'a', 'sa',6]\n",
    "x"
   ]
  },
  {
   "cell_type": "code",
   "execution_count": 3,
   "metadata": {},
   "outputs": [
    {
     "data": {
      "text/plain": [
       "6"
      ]
     },
     "execution_count": 3,
     "metadata": {},
     "output_type": "execute_result"
    }
   ],
   "source": [
    "len(x)"
   ]
  },
  {
   "cell_type": "code",
   "execution_count": 4,
   "metadata": {},
   "outputs": [
    {
     "data": {
      "text/plain": [
       "1"
      ]
     },
     "execution_count": 4,
     "metadata": {},
     "output_type": "execute_result"
    }
   ],
   "source": [
    "x[0]"
   ]
  },
  {
   "cell_type": "code",
   "execution_count": 11,
   "metadata": {},
   "outputs": [],
   "source": [
    "x.append('sha')  # 添加一个元素在最后"
   ]
  },
  {
   "cell_type": "code",
   "execution_count": 12,
   "metadata": {},
   "outputs": [
    {
     "data": {
      "text/plain": [
       "[1, 2, 3, 6, 'a', 'sa', 'sha', 'sha']"
      ]
     },
     "execution_count": 12,
     "metadata": {},
     "output_type": "execute_result"
    }
   ],
   "source": [
    "x"
   ]
  },
  {
   "cell_type": "code",
   "execution_count": 13,
   "metadata": {},
   "outputs": [
    {
     "data": {
      "text/plain": [
       "'sha'"
      ]
     },
     "execution_count": 13,
     "metadata": {},
     "output_type": "execute_result"
    }
   ],
   "source": [
    "# 剔除掉最后一个, 同时会返回这个值\n",
    "x.pop()"
   ]
  },
  {
   "cell_type": "code",
   "execution_count": 14,
   "metadata": {},
   "outputs": [
    {
     "data": {
      "text/plain": [
       "[1, 2, 3, 6, 'a', 'sa', 'sha']"
      ]
     },
     "execution_count": 14,
     "metadata": {},
     "output_type": "execute_result"
    }
   ],
   "source": [
    "x"
   ]
  },
  {
   "cell_type": "code",
   "execution_count": 15,
   "metadata": {},
   "outputs": [
    {
     "data": {
      "text/plain": [
       "1"
      ]
     },
     "execution_count": 15,
     "metadata": {},
     "output_type": "execute_result"
    }
   ],
   "source": [
    "# pop掉某一个index处的\n",
    "x.pop(0)"
   ]
  },
  {
   "cell_type": "code",
   "execution_count": 16,
   "metadata": {},
   "outputs": [
    {
     "data": {
      "text/plain": [
       "[2, 3, 6, 'a', 'sa', 'sha']"
      ]
     },
     "execution_count": 16,
     "metadata": {},
     "output_type": "execute_result"
    }
   ],
   "source": [
    "x"
   ]
  },
  {
   "cell_type": "code",
   "execution_count": 20,
   "metadata": {
    "collapsed": true
   },
   "outputs": [],
   "source": [
    "# 在某一个索引位置处插入一个元素\n",
    "x.insert(0, 'first')"
   ]
  },
  {
   "cell_type": "code",
   "execution_count": 21,
   "metadata": {},
   "outputs": [
    {
     "data": {
      "text/plain": [
       "['first', 2, 3, 6, 'a', 'sa', 'sha']"
      ]
     },
     "execution_count": 21,
     "metadata": {},
     "output_type": "execute_result"
    }
   ],
   "source": [
    "x"
   ]
  },
  {
   "cell_type": "code",
   "execution_count": 22,
   "metadata": {
    "collapsed": true
   },
   "outputs": [],
   "source": [
    "# reverse the list , 作用于自身\n",
    "x.reverse()"
   ]
  },
  {
   "cell_type": "code",
   "execution_count": 23,
   "metadata": {},
   "outputs": [
    {
     "data": {
      "text/plain": [
       "['sha', 'sa', 'a', 6, 3, 2, 'first']"
      ]
     },
     "execution_count": 23,
     "metadata": {},
     "output_type": "execute_result"
    }
   ],
   "source": [
    "x"
   ]
  },
  {
   "cell_type": "code",
   "execution_count": 25,
   "metadata": {},
   "outputs": [],
   "source": [
    "# del 与 pop的区别，在于del 操作完之后不返回\n",
    "del x[0]"
   ]
  },
  {
   "cell_type": "code",
   "execution_count": 26,
   "metadata": {},
   "outputs": [
    {
     "data": {
      "text/plain": [
       "['sa', 'a', 6, 3, 2, 'first']"
      ]
     },
     "execution_count": 26,
     "metadata": {},
     "output_type": "execute_result"
    }
   ],
   "source": [
    "x"
   ]
  },
  {
   "cell_type": "code",
   "execution_count": 27,
   "metadata": {},
   "outputs": [
    {
     "data": {
      "text/plain": [
       "1"
      ]
     },
     "execution_count": 27,
     "metadata": {},
     "output_type": "execute_result"
    }
   ],
   "source": [
    "# index: 返回第一次出现该元素的index\n",
    "x = [1,2,2,3,4,5,5,6]\n",
    "x.index(2)"
   ]
  },
  {
   "cell_type": "code",
   "execution_count": 28,
   "metadata": {},
   "outputs": [
    {
     "data": {
      "text/plain": [
       "5"
      ]
     },
     "execution_count": 28,
     "metadata": {},
     "output_type": "execute_result"
    }
   ],
   "source": [
    "x.index(5)"
   ]
  },
  {
   "cell_type": "code",
   "execution_count": 29,
   "metadata": {},
   "outputs": [
    {
     "data": {
      "text/plain": [
       "2"
      ]
     },
     "execution_count": 29,
     "metadata": {},
     "output_type": "execute_result"
    }
   ],
   "source": [
    "# count ： 查看该元素出现多少次呢？\n",
    "x.count(5)"
   ]
  },
  {
   "cell_type": "code",
   "execution_count": 30,
   "metadata": {
    "collapsed": true
   },
   "outputs": [],
   "source": [
    "# remove : remove 该元素第一次出现的位置\n",
    "x.remove(2)"
   ]
  },
  {
   "cell_type": "code",
   "execution_count": 31,
   "metadata": {
    "scrolled": true
   },
   "outputs": [
    {
     "data": {
      "text/plain": [
       "[1, 2, 3, 4, 5, 5, 6]"
      ]
     },
     "execution_count": 31,
     "metadata": {},
     "output_type": "execute_result"
    }
   ],
   "source": [
    "x"
   ]
  },
  {
   "cell_type": "markdown",
   "metadata": {},
   "source": [
    "### range\n",
    "在python2.7中range是直接返回一个列表？而在python3中必须使用list()"
   ]
  },
  {
   "cell_type": "code",
   "execution_count": 32,
   "metadata": {},
   "outputs": [
    {
     "data": {
      "text/plain": [
       "[0, 1, 2, 3, 4, 5, 6, 7, 8, 9]"
      ]
     },
     "execution_count": 32,
     "metadata": {},
     "output_type": "execute_result"
    }
   ],
   "source": [
    "range(10)"
   ]
  },
  {
   "cell_type": "code",
   "execution_count": 34,
   "metadata": {},
   "outputs": [
    {
     "data": {
      "text/plain": [
       "[5, 6, 7, 8, 9]"
      ]
     },
     "execution_count": 34,
     "metadata": {},
     "output_type": "execute_result"
    }
   ],
   "source": [
    "range(5,10) #有头无尾"
   ]
  },
  {
   "cell_type": "code",
   "execution_count": 35,
   "metadata": {},
   "outputs": [
    {
     "data": {
      "text/plain": [
       "[1, 3, 5, 7, 9]"
      ]
     },
     "execution_count": 35,
     "metadata": {},
     "output_type": "execute_result"
    }
   ],
   "source": [
    "range(1,10,2)"
   ]
  },
  {
   "cell_type": "markdown",
   "metadata": {},
   "source": [
    "### string字符串"
   ]
  },
  {
   "cell_type": "code",
   "execution_count": 1,
   "metadata": {},
   "outputs": [
    {
     "data": {
      "text/plain": [
       "'David is American'"
      ]
     },
     "execution_count": 1,
     "metadata": {},
     "output_type": "execute_result"
    }
   ],
   "source": [
    "s = 'David is American'\n",
    "s"
   ]
  },
  {
   "cell_type": "code",
   "execution_count": 2,
   "metadata": {},
   "outputs": [
    {
     "data": {
      "text/plain": [
       "'Dav'"
      ]
     },
     "execution_count": 2,
     "metadata": {},
     "output_type": "execute_result"
    }
   ],
   "source": [
    "s[0:3]"
   ]
  },
  {
   "cell_type": "code",
   "execution_count": 3,
   "metadata": {},
   "outputs": [
    {
     "data": {
      "text/plain": [
       "'David is AmericanDavid is American'"
      ]
     },
     "execution_count": 3,
     "metadata": {},
     "output_type": "execute_result"
    }
   ],
   "source": [
    "s * 2"
   ]
  },
  {
   "cell_type": "code",
   "execution_count": 4,
   "metadata": {},
   "outputs": [
    {
     "data": {
      "text/plain": [
       "'David is AmericanDavid is American'"
      ]
     },
     "execution_count": 4,
     "metadata": {},
     "output_type": "execute_result"
    }
   ],
   "source": [
    "s + s"
   ]
  },
  {
   "cell_type": "code",
   "execution_count": 5,
   "metadata": {},
   "outputs": [
    {
     "data": {
      "text/plain": [
       "'DAVID IS AMERICAN'"
      ]
     },
     "execution_count": 5,
     "metadata": {},
     "output_type": "execute_result"
    }
   ],
   "source": [
    "# 大写\n",
    "s.upper()"
   ]
  },
  {
   "cell_type": "code",
   "execution_count": 6,
   "metadata": {},
   "outputs": [
    {
     "data": {
      "text/plain": [
       "'da'"
      ]
     },
     "execution_count": 6,
     "metadata": {},
     "output_type": "execute_result"
    }
   ],
   "source": [
    "# 小写\n",
    "'Da'.lower()"
   ]
  },
  {
   "cell_type": "code",
   "execution_count": 8,
   "metadata": {},
   "outputs": [
    {
     "data": {
      "text/plain": [
       "' David is American  '"
      ]
     },
     "execution_count": 8,
     "metadata": {},
     "output_type": "execute_result"
    }
   ],
   "source": [
    "s.center(20)"
   ]
  },
  {
   "cell_type": "code",
   "execution_count": 9,
   "metadata": {},
   "outputs": [
    {
     "data": {
      "text/plain": [
       "3"
      ]
     },
     "execution_count": 9,
     "metadata": {},
     "output_type": "execute_result"
    }
   ],
   "source": [
    "# 字符出现多少次\n",
    "s.count('i')"
   ]
  },
  {
   "cell_type": "code",
   "execution_count": 12,
   "metadata": {},
   "outputs": [
    {
     "data": {
      "text/plain": [
       "'David is American   '"
      ]
     },
     "execution_count": 12,
     "metadata": {},
     "output_type": "execute_result"
    }
   ],
   "source": [
    "# 左对齐\n",
    "s.ljust(20)"
   ]
  },
  {
   "cell_type": "code",
   "execution_count": 15,
   "metadata": {},
   "outputs": [
    {
     "data": {
      "text/plain": [
       "'           David is American'"
      ]
     },
     "execution_count": 15,
     "metadata": {},
     "output_type": "execute_result"
    }
   ],
   "source": [
    "# 右对齐\n",
    "s.rjust(28)"
   ]
  },
  {
   "cell_type": "code",
   "execution_count": 16,
   "metadata": {},
   "outputs": [
    {
     "data": {
      "text/plain": [
       "3"
      ]
     },
     "execution_count": 16,
     "metadata": {},
     "output_type": "execute_result"
    }
   ],
   "source": [
    "# 字符第一次出现的位置\n",
    "s.find('i')"
   ]
  },
  {
   "cell_type": "code",
   "execution_count": 17,
   "metadata": {},
   "outputs": [
    {
     "data": {
      "text/plain": [
       "['David', 'is', 'American']"
      ]
     },
     "execution_count": 17,
     "metadata": {},
     "output_type": "execute_result"
    }
   ],
   "source": [
    "# 按照某一个字符拆分字符串，默认是空格\n",
    "s.split()"
   ]
  },
  {
   "cell_type": "code",
   "execution_count": 18,
   "metadata": {},
   "outputs": [
    {
     "data": {
      "text/plain": [
       "['Dav', 'd ', 's Amer', 'can']"
      ]
     },
     "execution_count": 18,
     "metadata": {},
     "output_type": "execute_result"
    }
   ],
   "source": [
    "s.split('i')"
   ]
  },
  {
   "cell_type": "markdown",
   "metadata": {},
   "source": [
    "**list是可变对象,但string不是**"
   ]
  },
  {
   "cell_type": "code",
   "execution_count": 20,
   "metadata": {},
   "outputs": [
    {
     "data": {
      "text/plain": [
       "[0, 1, 2, 3, 4, 5, 6, 7, 8, 9]"
      ]
     },
     "execution_count": 20,
     "metadata": {},
     "output_type": "execute_result"
    }
   ],
   "source": [
    "x = range(10)\n",
    "x"
   ]
  },
  {
   "cell_type": "code",
   "execution_count": 21,
   "metadata": {},
   "outputs": [
    {
     "data": {
      "text/plain": [
       "['fir', 1, 2, 3, 4, 5, 6, 7, 8, 9]"
      ]
     },
     "execution_count": 21,
     "metadata": {},
     "output_type": "execute_result"
    }
   ],
   "source": [
    "x[0] = 'fir'\n",
    "x"
   ]
  },
  {
   "cell_type": "raw",
   "metadata": {},
   "source": [
    "s[0] = 's' #就不行"
   ]
  },
  {
   "cell_type": "markdown",
   "metadata": {},
   "source": [
    "### 元组\n",
    "它是不可变的"
   ]
  },
  {
   "cell_type": "code",
   "execution_count": 25,
   "metadata": {},
   "outputs": [
    {
     "data": {
      "text/plain": [
       "(1, 2, 'list', 1)"
      ]
     },
     "execution_count": 25,
     "metadata": {},
     "output_type": "execute_result"
    }
   ],
   "source": [
    "t = (1, 2, 'list',1)\n",
    "t"
   ]
  },
  {
   "cell_type": "code",
   "execution_count": 26,
   "metadata": {},
   "outputs": [
    {
     "data": {
      "text/plain": [
       "2"
      ]
     },
     "execution_count": 26,
     "metadata": {},
     "output_type": "execute_result"
    }
   ],
   "source": [
    "t.count(1)"
   ]
  },
  {
   "cell_type": "code",
   "execution_count": 27,
   "metadata": {},
   "outputs": [
    {
     "data": {
      "text/plain": [
       "0"
      ]
     },
     "execution_count": 27,
     "metadata": {},
     "output_type": "execute_result"
    }
   ],
   "source": [
    "t.index(1)"
   ]
  },
  {
   "cell_type": "markdown",
   "metadata": {
    "collapsed": true
   },
   "source": [
    "### set\n",
    "无序的列表，无重复元素"
   ]
  },
  {
   "cell_type": "code",
   "execution_count": 28,
   "metadata": {},
   "outputs": [
    {
     "data": {
      "text/plain": [
       "{1, 2, 3, 'as'}"
      ]
     },
     "execution_count": 28,
     "metadata": {},
     "output_type": "execute_result"
    }
   ],
   "source": [
    "myset = {1,2,3,2, 'as'}\n",
    "myset"
   ]
  },
  {
   "cell_type": "code",
   "execution_count": 29,
   "metadata": {},
   "outputs": [
    {
     "data": {
      "text/plain": [
       "4"
      ]
     },
     "execution_count": 29,
     "metadata": {},
     "output_type": "execute_result"
    }
   ],
   "source": [
    "len(myset)"
   ]
  },
  {
   "cell_type": "code",
   "execution_count": 30,
   "metadata": {},
   "outputs": [
    {
     "data": {
      "text/plain": [
       "True"
      ]
     },
     "execution_count": 30,
     "metadata": {},
     "output_type": "execute_result"
    }
   ],
   "source": [
    "1 in myset"
   ]
  },
  {
   "cell_type": "code",
   "execution_count": 33,
   "metadata": {},
   "outputs": [
    {
     "data": {
      "text/plain": [
       "{1, 2, 3, 4, 20}"
      ]
     },
     "execution_count": 33,
     "metadata": {},
     "output_type": "execute_result"
    }
   ],
   "source": [
    "s1 = set(range(1,10))\n",
    "s2 = {2,4,3,1,4,2,2,4,20}\n",
    "s2"
   ]
  },
  {
   "cell_type": "code",
   "execution_count": 34,
   "metadata": {},
   "outputs": [
    {
     "data": {
      "text/plain": [
       "{1, 2, 3, 4, 5, 6, 7, 8, 9}"
      ]
     },
     "execution_count": 34,
     "metadata": {},
     "output_type": "execute_result"
    }
   ],
   "source": [
    "s1"
   ]
  },
  {
   "cell_type": "code",
   "execution_count": 35,
   "metadata": {},
   "outputs": [
    {
     "data": {
      "text/plain": [
       "{1, 2, 3, 4, 5, 6, 7, 8, 9, 20}"
      ]
     },
     "execution_count": 35,
     "metadata": {},
     "output_type": "execute_result"
    }
   ],
   "source": [
    "# 并集\n",
    "s1 | s2"
   ]
  },
  {
   "cell_type": "code",
   "execution_count": 36,
   "metadata": {},
   "outputs": [
    {
     "data": {
      "text/plain": [
       "{1, 2, 3, 4}"
      ]
     },
     "execution_count": 36,
     "metadata": {},
     "output_type": "execute_result"
    }
   ],
   "source": [
    "# 交集\n",
    "s1 & s2"
   ]
  },
  {
   "cell_type": "code",
   "execution_count": 37,
   "metadata": {},
   "outputs": [
    {
     "data": {
      "text/plain": [
       "{5, 6, 7, 8, 9}"
      ]
     },
     "execution_count": 37,
     "metadata": {},
     "output_type": "execute_result"
    }
   ],
   "source": [
    "# 差集\n",
    "s1 - s2"
   ]
  },
  {
   "cell_type": "code",
   "execution_count": 39,
   "metadata": {},
   "outputs": [
    {
     "data": {
      "text/plain": [
       "False"
      ]
     },
     "execution_count": 39,
     "metadata": {},
     "output_type": "execute_result"
    }
   ],
   "source": [
    "# 查看左边是否是右边的子集\n",
    "s2 <= s1"
   ]
  },
  {
   "cell_type": "code",
   "execution_count": 40,
   "metadata": {},
   "outputs": [
    {
     "data": {
      "text/plain": [
       "{1, 2, 3, 4, 5, 6, 7, 8, 9, 20}"
      ]
     },
     "execution_count": 40,
     "metadata": {},
     "output_type": "execute_result"
    }
   ],
   "source": [
    "s1.union(s2)"
   ]
  },
  {
   "cell_type": "code",
   "execution_count": 41,
   "metadata": {},
   "outputs": [
    {
     "data": {
      "text/plain": [
       "{1, 2, 3, 4}"
      ]
     },
     "execution_count": 41,
     "metadata": {},
     "output_type": "execute_result"
    }
   ],
   "source": [
    "s1.intersection(s2)"
   ]
  },
  {
   "cell_type": "code",
   "execution_count": 42,
   "metadata": {},
   "outputs": [
    {
     "data": {
      "text/plain": [
       "{5, 6, 7, 8, 9}"
      ]
     },
     "execution_count": 42,
     "metadata": {},
     "output_type": "execute_result"
    }
   ],
   "source": [
    "s1.difference(s2)"
   ]
  },
  {
   "cell_type": "code",
   "execution_count": 45,
   "metadata": {},
   "outputs": [
    {
     "data": {
      "text/plain": [
       "False"
      ]
     },
     "execution_count": 45,
     "metadata": {},
     "output_type": "execute_result"
    }
   ],
   "source": [
    "s2.issubset(s1)"
   ]
  },
  {
   "cell_type": "code",
   "execution_count": 46,
   "metadata": {},
   "outputs": [
    {
     "data": {
      "text/plain": [
       "{1, 2, 3, 4, 20}"
      ]
     },
     "execution_count": 46,
     "metadata": {},
     "output_type": "execute_result"
    }
   ],
   "source": [
    "s2"
   ]
  },
  {
   "cell_type": "code",
   "execution_count": 47,
   "metadata": {
    "collapsed": true
   },
   "outputs": [],
   "source": [
    "s2.add('asa')"
   ]
  },
  {
   "cell_type": "code",
   "execution_count": 48,
   "metadata": {},
   "outputs": [
    {
     "data": {
      "text/plain": [
       "{1, 2, 3, 4, 20, 'asa'}"
      ]
     },
     "execution_count": 48,
     "metadata": {},
     "output_type": "execute_result"
    }
   ],
   "source": [
    "s2"
   ]
  },
  {
   "cell_type": "code",
   "execution_count": 50,
   "metadata": {},
   "outputs": [
    {
     "data": {
      "text/plain": [
       "1"
      ]
     },
     "execution_count": 50,
     "metadata": {},
     "output_type": "execute_result"
    }
   ],
   "source": [
    "s2.pop() # 为什么是remove任意的?"
   ]
  },
  {
   "cell_type": "code",
   "execution_count": 51,
   "metadata": {},
   "outputs": [
    {
     "data": {
      "text/plain": [
       "{2, 3, 4, 20, 'asa'}"
      ]
     },
     "execution_count": 51,
     "metadata": {},
     "output_type": "execute_result"
    }
   ],
   "source": [
    "s2"
   ]
  },
  {
   "cell_type": "code",
   "execution_count": 52,
   "metadata": {
    "collapsed": true
   },
   "outputs": [],
   "source": [
    "s2.remove('asa')"
   ]
  },
  {
   "cell_type": "code",
   "execution_count": 53,
   "metadata": {},
   "outputs": [
    {
     "data": {
      "text/plain": [
       "{2, 3, 4, 20}"
      ]
     },
     "execution_count": 53,
     "metadata": {},
     "output_type": "execute_result"
    }
   ],
   "source": [
    "s2"
   ]
  },
  {
   "cell_type": "code",
   "execution_count": 54,
   "metadata": {
    "collapsed": true
   },
   "outputs": [],
   "source": [
    "# clear 将所有元素都剔除掉\n",
    "s2.clear()"
   ]
  },
  {
   "cell_type": "code",
   "execution_count": 55,
   "metadata": {},
   "outputs": [
    {
     "data": {
      "text/plain": [
       "set()"
      ]
     },
     "execution_count": 55,
     "metadata": {},
     "output_type": "execute_result"
    }
   ],
   "source": [
    "s2"
   ]
  },
  {
   "cell_type": "markdown",
   "metadata": {},
   "source": [
    "### 字典\n"
   ]
  },
  {
   "cell_type": "code",
   "execution_count": 59,
   "metadata": {},
   "outputs": [
    {
     "data": {
      "text/plain": [
       "{'IO': 'sa', 'asa': 'asasa'}"
      ]
     },
     "execution_count": 59,
     "metadata": {},
     "output_type": "execute_result"
    }
   ],
   "source": [
    "capital = {'IO':'sa', 'asa':'asasa'}\n",
    "capital"
   ]
  },
  {
   "cell_type": "code",
   "execution_count": 60,
   "metadata": {},
   "outputs": [
    {
     "data": {
      "text/plain": [
       "['asa', 'IO']"
      ]
     },
     "execution_count": 60,
     "metadata": {},
     "output_type": "execute_result"
    }
   ],
   "source": [
    "capital.keys()"
   ]
  },
  {
   "cell_type": "code",
   "execution_count": 61,
   "metadata": {},
   "outputs": [
    {
     "data": {
      "text/plain": [
       "['asasa', 'sa']"
      ]
     },
     "execution_count": 61,
     "metadata": {},
     "output_type": "execute_result"
    }
   ],
   "source": [
    "capital.values()"
   ]
  },
  {
   "cell_type": "code",
   "execution_count": 62,
   "metadata": {},
   "outputs": [
    {
     "data": {
      "text/plain": [
       "[('asa', 'asasa'), ('IO', 'sa')]"
      ]
     },
     "execution_count": 62,
     "metadata": {},
     "output_type": "execute_result"
    }
   ],
   "source": [
    "capital.items()"
   ]
  },
  {
   "cell_type": "code",
   "execution_count": 63,
   "metadata": {},
   "outputs": [
    {
     "data": {
      "text/plain": [
       "'asasa'"
      ]
     },
     "execution_count": 63,
     "metadata": {},
     "output_type": "execute_result"
    }
   ],
   "source": [
    "capital.get('asa') #get 某一个key的value"
   ]
  },
  {
   "cell_type": "code",
   "execution_count": 64,
   "metadata": {
    "collapsed": true
   },
   "outputs": [],
   "source": [
    "capital"
   ]
  },
  {
   "cell_type": "markdown",
   "metadata": {},
   "source": [
    "## Input and output"
   ]
  },
  {
   "cell_type": "code",
   "execution_count": 68,
   "metadata": {},
   "outputs": [
    {
     "name": "stdout",
     "output_type": "stream",
     "text": [
      " hellp najkn\n"
     ]
    }
   ],
   "source": [
    "print(' hellp najkn')"
   ]
  },
  {
   "cell_type": "markdown",
   "metadata": {},
   "source": [
    "### format the print\n",
    "%s 字符串 %d 整型 %i  %u unsigned integer %f 浮点数 %e %E科学计数法\n",
    "%c 字符 %%"
   ]
  },
  {
   "cell_type": "code",
   "execution_count": 77,
   "metadata": {},
   "outputs": [
    {
     "name": "stdout",
     "output_type": "stream",
     "text": [
      "2.345454554\n"
     ]
    }
   ],
   "source": [
    "price = 24\n",
    "item = 'pen'\n",
    "ff = 2.345454554\n",
    "\n",
    "print(ff)"
   ]
  },
  {
   "cell_type": "code",
   "execution_count": 79,
   "metadata": {},
   "outputs": [
    {
     "name": "stdout",
     "output_type": "stream",
     "text": [
      "the cost of pen is 24 yuan\n"
     ]
    }
   ],
   "source": [
    "print 'the cost of %s is %d yuan' % (item, price)"
   ]
  },
  {
   "cell_type": "code",
   "execution_count": 80,
   "metadata": {},
   "outputs": [
    {
     "name": "stdout",
     "output_type": "stream",
     "text": [
      "二位有效数字 2.35\n"
     ]
    }
   ],
   "source": [
    "print '二位有效数字 %.2f' % ff"
   ]
  },
  {
   "cell_type": "code",
   "execution_count": 81,
   "metadata": {},
   "outputs": [
    {
     "name": "stdout",
     "output_type": "stream",
     "text": [
      "科学计数 2.345455e+00\n"
     ]
    }
   ],
   "source": [
    "print '科学计数 %e' % ff"
   ]
  },
  {
   "cell_type": "code",
   "execution_count": 82,
   "metadata": {},
   "outputs": [
    {
     "name": "stdout",
     "output_type": "stream",
     "text": [
      "科学计数 2.345455E+00\n"
     ]
    }
   ],
   "source": [
    "print '科学计数 %E' % ff"
   ]
  },
  {
   "cell_type": "code",
   "execution_count": 83,
   "metadata": {},
   "outputs": [
    {
     "name": "stdout",
     "output_type": "stream",
     "text": [
      "科学计数 2.34545\n"
     ]
    }
   ],
   "source": [
    "print '科学计数 %g' % ff"
   ]
  },
  {
   "cell_type": "code",
   "execution_count": 86,
   "metadata": {},
   "outputs": [
    {
     "name": "stdout",
     "output_type": "stream",
     "text": [
      "科学计数 2.345454554\n"
     ]
    }
   ],
   "source": [
    "print '科学计数 %s' % ff"
   ]
  },
  {
   "cell_type": "code",
   "execution_count": 94,
   "metadata": {},
   "outputs": [
    {
     "name": "stdout",
     "output_type": "stream",
     "text": [
      "left justified field width 20 asnjknaknaksjn      \n"
     ]
    }
   ],
   "source": [
    "ls = 'asnjknaknaksjn'\n",
    "print 'left justified field width 20 %-20s' % ls"
   ]
  },
  {
   "cell_type": "code",
   "execution_count": 89,
   "metadata": {},
   "outputs": [
    {
     "name": "stdout",
     "output_type": "stream",
     "text": [
      "left justified field width 20 12718937918739817398713987127389\n"
     ]
    }
   ],
   "source": [
    "print 'left justified field width 20 %-20d' % 12718937918739817398713987127389"
   ]
  },
  {
   "cell_type": "code",
   "execution_count": 95,
   "metadata": {},
   "outputs": [
    {
     "name": "stdout",
     "output_type": "stream",
     "text": [
      "right justified field width 20       asnjknaknaksjn\n"
     ]
    }
   ],
   "source": [
    "print 'right justified field width 20 %+20s' % ls"
   ]
  },
  {
   "cell_type": "code",
   "execution_count": 92,
   "metadata": {},
   "outputs": [
    {
     "name": "stdout",
     "output_type": "stream",
     "text": [
      "left justified field width 20 00000000000000000127\n"
     ]
    }
   ],
   "source": [
    "print 'left justified field width 20 %020d' % 127"
   ]
  },
  {
   "cell_type": "code",
   "execution_count": 98,
   "metadata": {},
   "outputs": [
    {
     "name": "stdout",
     "output_type": "stream",
     "text": [
      "left justified field width 20 127.00              \n"
     ]
    }
   ],
   "source": [
    "print 'left justified field width 20 %-20.2f' % 127"
   ]
  },
  {
   "cell_type": "code",
   "execution_count": 101,
   "metadata": {},
   "outputs": [
    {
     "name": "stdout",
     "output_type": "stream",
     "text": [
      "字典中a作为key的value是 1\n"
     ]
    }
   ],
   "source": [
    "d = {'a':1, 'b':2}\n",
    "print '字典中a作为key的value是 %(a)d' %d"
   ]
  },
  {
   "cell_type": "markdown",
   "metadata": {},
   "source": [
    "## 控制流\n",
    "算法中有两种重要的控制结构: 迭代和选择\n",
    "\n",
    "### while"
   ]
  },
  {
   "cell_type": "code",
   "execution_count": 102,
   "metadata": {},
   "outputs": [
    {
     "name": "stdout",
     "output_type": "stream",
     "text": [
      "hello world\n",
      "hello world\n",
      "hello world\n",
      "hello world\n"
     ]
    }
   ],
   "source": [
    "counter = 1\n",
    "while counter < 5:\n",
    "    print 'hello world'\n",
    "    counter += 1"
   ]
  },
  {
   "cell_type": "markdown",
   "metadata": {},
   "source": [
    "### for循环"
   ]
  },
  {
   "cell_type": "code",
   "execution_count": 103,
   "metadata": {},
   "outputs": [
    {
     "name": "stdout",
     "output_type": "stream",
     "text": [
      "第 0 个元素的平方是 0\n",
      "第 1 个元素的平方是 1\n",
      "第 2 个元素的平方是 4\n",
      "第 3 个元素的平方是 9\n",
      "第 4 个元素的平方是 16\n"
     ]
    }
   ],
   "source": [
    "for i in range(5):\n",
    "    print '第 %d 个元素的平方是 %d' % (i, i ** 2)"
   ]
  },
  {
   "cell_type": "code",
   "execution_count": 104,
   "metadata": {},
   "outputs": [
    {
     "data": {
      "text/plain": [
       "[0, 1, 4, 9, 16]"
      ]
     },
     "execution_count": 104,
     "metadata": {},
     "output_type": "execute_result"
    }
   ],
   "source": [
    "# 列表生成式\n",
    "[i ** 2 for i in range(5)]"
   ]
  },
  {
   "cell_type": "markdown",
   "metadata": {},
   "source": [
    "### 判断语句"
   ]
  },
  {
   "cell_type": "code",
   "execution_count": 105,
   "metadata": {},
   "outputs": [
    {
     "name": "stdout",
     "output_type": "stream",
     "text": [
      "56 是不及格\n",
      "50 是不及格\n",
      "90 是及格\n",
      "69 是及格\n",
      "46 是不及格\n",
      "89 是及格\n"
     ]
    }
   ],
   "source": [
    "score = [56, 50, 90, 69, 46, 89]\n",
    "\n",
    "for item in score:\n",
    "    if item < 60:\n",
    "        print '%d 是不及格' % item\n",
    "    else:\n",
    "        print '%d 是及格' % item"
   ]
  },
  {
   "cell_type": "code",
   "execution_count": 106,
   "metadata": {},
   "outputs": [
    {
     "name": "stdout",
     "output_type": "stream",
     "text": [
      "D\n",
      "D\n",
      "A\n",
      "C\n",
      "F\n",
      "A\n"
     ]
    }
   ],
   "source": [
    "for item in score:\n",
    "    if item < 50:\n",
    "        print 'F'\n",
    "    elif item < 60:\n",
    "        print 'D'\n",
    "    elif item < 70:\n",
    "        print 'C'\n",
    "    elif item < 80:\n",
    "        print 'B'\n",
    "    else:\n",
    "        print 'A'"
   ]
  },
  {
   "cell_type": "code",
   "execution_count": 107,
   "metadata": {},
   "outputs": [
    {
     "data": {
      "text/plain": [
       "[1, 9, 25, 49, 81]"
      ]
     },
     "execution_count": 107,
     "metadata": {},
     "output_type": "execute_result"
    }
   ],
   "source": [
    "# 列表生成式\n",
    "[x * x for x in range(10) if x%2 !=0]"
   ]
  },
  {
   "cell_type": "code",
   "execution_count": 108,
   "metadata": {},
   "outputs": [
    {
     "data": {
      "text/plain": [
       "[2,\n",
       " 3,\n",
       " 4,\n",
       " 3,\n",
       " 4,\n",
       " 5,\n",
       " 4,\n",
       " 5,\n",
       " 6,\n",
       " 5,\n",
       " 6,\n",
       " 7,\n",
       " 6,\n",
       " 7,\n",
       " 8,\n",
       " 7,\n",
       " 8,\n",
       " 9,\n",
       " 8,\n",
       " 9,\n",
       " 10,\n",
       " 9,\n",
       " 10,\n",
       " 11,\n",
       " 10,\n",
       " 11,\n",
       " 12,\n",
       " 11,\n",
       " 12,\n",
       " 13]"
      ]
     },
     "execution_count": 108,
     "metadata": {},
     "output_type": "execute_result"
    }
   ],
   "source": [
    "[m + n for m in range(10) for n in [2,3,4]]"
   ]
  },
  {
   "cell_type": "markdown",
   "metadata": {},
   "source": [
    "## 异常处理"
   ]
  },
  {
   "cell_type": "code",
   "execution_count": 116,
   "metadata": {},
   "outputs": [
    {
     "name": "stdout",
     "output_type": "stream",
     "text": [
      "Bad Value for square root\n",
      "Using absolute value instead\n",
      "1.0\n"
     ]
    }
   ],
   "source": [
    "import math\n",
    "try:\n",
    "    print(math.sqrt(-1))\n",
    "except:\n",
    "        print(\"Bad Value for square root\")\n",
    "        print(\"Using absolute value instead\")\n",
    "        print(math.sqrt(abs(-1)))\n"
   ]
  },
  {
   "cell_type": "raw",
   "metadata": {},
   "source": [
    ">>> if anumber < 0:\n",
    "...    raise RuntimeError(\"You can't use a negative number\")\n",
    "... else:\n",
    "...    print(math.sqrt(anumber))\n",
    "...\n",
    "Traceback (most recent call last):\n",
    "  File \"<stdin>\", line 2, in <module>\n",
    "RuntimeError: You can't use a negative number"
   ]
  },
  {
   "cell_type": "markdown",
   "metadata": {},
   "source": [
    "## 自定义函数"
   ]
  },
  {
   "cell_type": "code",
   "execution_count": 117,
   "metadata": {},
   "outputs": [
    {
     "data": {
      "text/plain": [
       "1000000"
      ]
     },
     "execution_count": 117,
     "metadata": {},
     "output_type": "execute_result"
    }
   ],
   "source": [
    "def myfunc(x):\n",
    "    return x ** 6\n",
    "\n",
    "myfunc(10)"
   ]
  },
  {
   "cell_type": "markdown",
   "metadata": {},
   "source": [
    "## 面向对象的编程\n",
    "\n",
    "### 定义类\n",
    "![](http://interactivepython.org/courselib/static/pythonds/_images/fraction1.png)"
   ]
  },
  {
   "cell_type": "code",
   "execution_count": 118,
   "metadata": {
    "collapsed": true
   },
   "outputs": [],
   "source": [
    "class Fraction:\n",
    "    # 每一个类都必须有一个构造函数\n",
    "    \n",
    "    def __init__(self, top, bottom):\n",
    "        self.fenzi = top\n",
    "        self.fenmu = bottom"
   ]
  },
  {
   "cell_type": "code",
   "execution_count": 119,
   "metadata": {},
   "outputs": [
    {
     "data": {
      "text/plain": [
       "3"
      ]
     },
     "execution_count": 119,
     "metadata": {},
     "output_type": "execute_result"
    }
   ],
   "source": [
    "test = Fraction(3,5)  #就是表示3/5\n",
    "test.fenzi"
   ]
  },
  {
   "cell_type": "code",
   "execution_count": 120,
   "metadata": {},
   "outputs": [
    {
     "data": {
      "text/plain": [
       "5"
      ]
     },
     "execution_count": 120,
     "metadata": {},
     "output_type": "execute_result"
    }
   ],
   "source": [
    "test.fenmu"
   ]
  },
  {
   "cell_type": "code",
   "execution_count": 121,
   "metadata": {},
   "outputs": [
    {
     "name": "stdout",
     "output_type": "stream",
     "text": [
      "<__main__.Fraction instance at 0x2ce6cf8>\n"
     ]
    }
   ],
   "source": [
    "print(test)  # test是Fraction这个类的一个实例化对象"
   ]
  },
  {
   "cell_type": "code",
   "execution_count": 129,
   "metadata": {},
   "outputs": [
    {
     "name": "stdout",
     "output_type": "stream",
     "text": [
      "2 / 4\n"
     ]
    }
   ],
   "source": [
    "class Fraction:\n",
    "    # 每一个类都必须有一个构造函数\n",
    "    \n",
    "    def __init__(self, top, bottom):\n",
    "        self.fenzi = top\n",
    "        self.fenmu = bottom\n",
    "        \n",
    "    def show(self):\n",
    "        print self.fenzi,'/' ,self.fenmu\n",
    "    \n",
    "test = Fraction(2,4)\n",
    "test.show()"
   ]
  },
  {
   "cell_type": "code",
   "execution_count": 133,
   "metadata": {},
   "outputs": [
    {
     "data": {
      "text/plain": [
       "'2/4'"
      ]
     },
     "execution_count": 133,
     "metadata": {},
     "output_type": "execute_result"
    }
   ],
   "source": [
    "class Fraction:\n",
    "    # 每一个类都必须有一个构造函数\n",
    "    \n",
    "    def __init__(self, top, bottom):\n",
    "        self.fenzi = top\n",
    "        self.fenmu = bottom\n",
    "        \n",
    "    def show(self):\n",
    "        print self.fenzi,'/' ,self.fenmu\n",
    "    \n",
    "    def __str__(self):\n",
    "        return str(self.fenzi) + '/' + str(self.fenmu)\n",
    "test = Fraction(2,4)\n",
    "test.__str__()"
   ]
  },
  {
   "cell_type": "markdown",
   "metadata": {},
   "source": [
    "**__开头结尾的函数,就可以直接调用**"
   ]
  },
  {
   "cell_type": "code",
   "execution_count": 134,
   "metadata": {},
   "outputs": [
    {
     "data": {
      "text/plain": [
       "'2/4'"
      ]
     },
     "execution_count": 134,
     "metadata": {},
     "output_type": "execute_result"
    }
   ],
   "source": [
    "str(test)"
   ]
  },
  {
   "cell_type": "code",
   "execution_count": 136,
   "metadata": {},
   "outputs": [
    {
     "data": {
      "text/plain": [
       "'5/6'"
      ]
     },
     "execution_count": 136,
     "metadata": {},
     "output_type": "execute_result"
    }
   ],
   "source": [
    "class Fraction:\n",
    "    # 每一个类都必须有一个构造函数\n",
    "    \n",
    "    def __init__(self, top, bottom):\n",
    "        self.fenzi = top\n",
    "        self.fenmu = bottom\n",
    "        \n",
    "    def show(self):\n",
    "        print self.fenzi,'/' ,self.fenmu\n",
    "    \n",
    "    def __str__(self):\n",
    "        return str(self.fenzi) + '/' + str(self.fenmu)\n",
    "    \n",
    "    def __add__(self, other):\n",
    "        res1 = self.fenmu * other.fenmu\n",
    "        res2 = self.fenzi * other.fenmu + other.fenzi * self.fenmu\n",
    "        return Fraction(res2, res1)\n",
    "    \n",
    "s1 = Fraction(1,3)\n",
    "s2 = Fraction(1,2)\n",
    "\n",
    "str(s1 + s2)"
   ]
  },
  {
   "cell_type": "code",
   "execution_count": 144,
   "metadata": {},
   "outputs": [
    {
     "data": {
      "text/plain": [
       "2"
      ]
     },
     "execution_count": 144,
     "metadata": {},
     "output_type": "execute_result"
    }
   ],
   "source": [
    "# 考虑计算最大公约数，从而使得outpur都是简化的分数\n",
    "# 定义计算最大公约数的函数\n",
    "def gcd(m,n):\n",
    "    while m % n !=0:\n",
    "        oldm = m\n",
    "        oldn = n\n",
    "        \n",
    "        m = oldn\n",
    "        n = oldm % oldn\n",
    "    return n\n",
    "\n",
    "gcd(26, 4)"
   ]
  },
  {
   "cell_type": "code",
   "execution_count": 146,
   "metadata": {},
   "outputs": [
    {
     "name": "stdout",
     "output_type": "stream",
     "text": [
      "1/2\n"
     ]
    }
   ],
   "source": [
    "class Fraction:\n",
    "    # 每一个类都必须有一个构造函数\n",
    "    \n",
    "    def __init__(self, top, bottom):\n",
    "        common = gcd(bottom, top)\n",
    "        self.fenzi = top/common\n",
    "        self.fenmu = bottom/common\n",
    "        \n",
    "    def show(self):\n",
    "        print self.fenzi,'/' ,self.fenmu\n",
    "    \n",
    "    def __str__(self):\n",
    "        return str(self.fenzi) + '/' + str(self.fenmu)\n",
    "    \n",
    "    def __add__(self, other):\n",
    "        res1 = self.fenmu * other.fenmu\n",
    "        res2 = self.fenzi * other.fenmu + other.fenzi * self.fenmu\n",
    "        return Fraction(res2, res1)\n",
    "\n",
    "s1 = Fraction(2,4)\n",
    "print(s1)"
   ]
  },
  {
   "cell_type": "code",
   "execution_count": 148,
   "metadata": {},
   "outputs": [
    {
     "name": "stdout",
     "output_type": "stream",
     "text": [
      "5/4\n"
     ]
    }
   ],
   "source": [
    "s2 = Fraction(3,4)\n",
    "print s1 + s2"
   ]
  },
  {
   "cell_type": "code",
   "execution_count": 149,
   "metadata": {},
   "outputs": [
    {
     "data": {
      "text/plain": [
       "True"
      ]
     },
     "execution_count": 149,
     "metadata": {},
     "output_type": "execute_result"
    }
   ],
   "source": [
    "class Fraction:\n",
    "    # 每一个类都必须有一个构造函数\n",
    "    \n",
    "    def __init__(self, top, bottom):\n",
    "        common = gcd(bottom, top)\n",
    "        self.fenzi = top/common\n",
    "        self.fenmu = bottom/common\n",
    "        \n",
    "    def show(self):\n",
    "        print self.fenzi,'/' ,self.fenmu\n",
    "    \n",
    "    def __str__(self):\n",
    "        return str(self.fenzi) + '/' + str(self.fenmu)\n",
    "    \n",
    "    def __add__(self, other):\n",
    "        res1 = self.fenmu * other.fenmu\n",
    "        res2 = self.fenzi * other.fenmu + other.fenzi * self.fenmu\n",
    "        return Fraction(res2, res1)\n",
    "    \n",
    "    def __eq__(self, other):\n",
    "        # 两个分数相等的话，他们之间的交叉乘积是相等的\n",
    "        res1 = self.fenzi * other.fenmu\n",
    "        res2 = self.fenmu * other.fenzi\n",
    "        return res1 == res2\n",
    "    \n",
    "s1 = Fraction(1,2)\n",
    "s2 = Fraction(2,4)\n",
    "s1 == s2"
   ]
  },
  {
   "cell_type": "code",
   "execution_count": 139,
   "metadata": {},
   "outputs": [
    {
     "data": {
      "text/plain": [
       "1"
      ]
     },
     "execution_count": 139,
     "metadata": {},
     "output_type": "execute_result"
    }
   ],
   "source": [
    "# self check , 把加减乘除运算都加上去写完整\n",
    "class Fraction:\n",
    "    # 每一个类都必须有一个构造函数\n",
    "    \n",
    "    def __init__(self, top, bottom):\n",
    "        common = gcd(bottom, top)\n",
    "        self.fenzi = top/common\n",
    "        self.fenmu = bottom/common\n",
    "        \n",
    "    def show(self):\n",
    "        print self.fenzi,'/' ,self.fenmu\n",
    "    \n",
    "    def __str__(self):\n",
    "        return str(self.fenzi) + '/' + str(self.fenmu)\n",
    "    \n",
    "    def __add__(self, other):\n",
    "        res1 = self.fenmu * other.fenmu\n",
    "        res2 = self.fenzi * other.fenmu + other.fenzi * self.fenmu\n",
    "        return Fraction(res2, res1)\n",
    "    \n",
    "    def __eq__(self, other):\n",
    "        # 两个分数相等的话，他们之间的交叉乘积是相等的\n",
    "        res1 = self.fenzi * other.fenmu\n",
    "        res2 = self.fenmu * other.fenzi\n",
    "        return res1 == res2\n",
    "    \n",
    "    def __"
   ]
  },
  {
   "cell_type": "markdown",
   "metadata": {},
   "source": [
    "### 继承\n",
    "内生的数据类型本身就是一种数据结构，他们也有其父类\n",
    "![](http://interactivepython.org/courselib/static/pythonds/_images/inheritance1.png)\n",
    "\n",
    "list,string,tuple是有序集合；继承的好处在于父类定义的函数方法可以被继承。\n",
    "\n",
    "逻辑门:\n",
    "![](http://interactivepython.org/courselib/static/pythonds/_images/truthtable.png)"
   ]
  },
  {
   "cell_type": "code",
   "execution_count": 152,
   "metadata": {
    "collapsed": true
   },
   "outputs": [],
   "source": [
    "class LogicGate:\n",
    "    \n",
    "    def __init__(self, n):\n",
    "        self.label = n\n",
    "        self.output = None\n",
    "        \n",
    "    def getLabel(self):\n",
    "        return self.label\n",
    "    \n",
    "    def getOutput(self):\n",
    "        return self.output\n",
    "    \n",
    "## 定义子类\n",
    "class BinaryGate(LogicGate): # 表示继承自LogicGate\n",
    "    \n",
    "    def __init__(self, n):\n",
    "        LogicGate.__init__(self, n) #super(UnaryGate,self).__init__(n)\n",
    "        \n",
    "        self.pinA = None\n",
    "        self.pinB = None\n",
    "        \n",
    "    def getPinA(self):\n",
    "        return int(input(\"Enter Pin A input for gate \"+ self.getLabel()+\"-->\"))\n",
    "\n",
    "    def getPinB(self):\n",
    "        return int(input(\"Enter Pin B input for gate \"+ self.getLabel()+\"-->\"))\n",
    "    \n",
    "class UnaryGate(LogicGate):\n",
    "\n",
    "    def __init__(self,n):\n",
    "        LogicGate.__init__(self,n)\n",
    "\n",
    "        self.pin = None\n",
    "\n",
    "    def getPin(self):\n",
    "        return int(input(\"Enter Pin input for gate \"+ self.getLabel()+\"-->\"))\n",
    "    \n",
    "class AndGate(BinaryGate):\n",
    "\n",
    "    def __init__(self,n):\n",
    "        BinaryGate.__init__(self,n)\n",
    "\n",
    "    def performGateLogic(self):\n",
    "\n",
    "        a = self.getPinA()\n",
    "        b = self.getPinB()\n",
    "        if a==1 and b==1:\n",
    "            return 1\n",
    "        else:\n",
    "            return 0"
   ]
  },
  {
   "cell_type": "code",
   "execution_count": 153,
   "metadata": {
    "collapsed": true
   },
   "outputs": [],
   "source": [
    "g1 = AndGate('G1')\n",
    "g1.getOutput()"
   ]
  },
  {
   "cell_type": "code",
   "execution_count": 154,
   "metadata": {},
   "outputs": [
    {
     "name": "stdout",
     "output_type": "stream",
     "text": [
      "名字: 张三 , 年龄:  20 , 性别: 男\n"
     ]
    }
   ],
   "source": [
    "# 考虑自己写一个子类继承的东西\n",
    "class Person:\n",
    "    def __init__(self, name, age, sex):\n",
    "        self.name = name\n",
    "        self.age = age\n",
    "        self.sex = sex\n",
    "        \n",
    "    def show(self):\n",
    "        print '名字: %s , 年龄:  %d , 性别: %s' %(self.name, self.age, self.sex)\n",
    "        \n",
    "a = Person('张三', 20, '男')\n",
    "a.show()"
   ]
  },
  {
   "cell_type": "code",
   "execution_count": 159,
   "metadata": {},
   "outputs": [
    {
     "name": "stdout",
     "output_type": "stream",
     "text": [
      "大三\n"
     ]
    }
   ],
   "source": [
    "# 定义子类，同时又是一个学生\n",
    "\n",
    "class Student(Person):\n",
    "    def __init__(self, name, age, sex, school, nianji):\n",
    "        Person.__init__(self,name, age, sex)\n",
    "        self.school = school\n",
    "        self.nianji = nianji\n",
    "      \n",
    "    def show(self):\n",
    "        print(self.nianji)\n",
    "        \n",
    "b = Student('李四', 25, '男', 'school A', '大三')\n",
    "b.show()"
   ]
  },
  {
   "cell_type": "code",
   "execution_count": 160,
   "metadata": {},
   "outputs": [
    {
     "data": {
      "text/plain": [
       "['__doc__', '__init__', '__module__', 'show']"
      ]
     },
     "execution_count": 160,
     "metadata": {},
     "output_type": "execute_result"
    }
   ],
   "source": [
    "dir(Person)"
   ]
  }
 ],
 "metadata": {
  "kernelspec": {
   "display_name": "Python 2",
   "language": "python",
   "name": "python2"
  },
  "language_info": {
   "codemirror_mode": {
    "name": "ipython",
    "version": 2
   },
   "file_extension": ".py",
   "mimetype": "text/x-python",
   "name": "python",
   "nbconvert_exporter": "python",
   "pygments_lexer": "ipython2",
   "version": "2.7.13"
  },
  "toc": {
   "colors": {
    "hover_highlight": "#DAA520",
    "navigate_num": "#000000",
    "navigate_text": "#333333",
    "running_highlight": "#FF0000",
    "selected_highlight": "#FFD700",
    "sidebar_border": "#EEEEEE",
    "wrapper_background": "#FFFFFF"
   },
   "moveMenuLeft": true,
   "nav_menu": {
    "height": "391px",
    "width": "252px"
   },
   "navigate_menu": true,
   "number_sections": true,
   "sideBar": true,
   "threshold": 4,
   "toc_cell": true,
   "toc_section_display": "block",
   "toc_window_display": true,
   "widenNotebook": false
  }
 },
 "nbformat": 4,
 "nbformat_minor": 2
}
