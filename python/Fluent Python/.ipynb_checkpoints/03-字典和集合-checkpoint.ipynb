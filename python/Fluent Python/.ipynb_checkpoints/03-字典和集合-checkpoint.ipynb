{
 "cells": [
  {
   "cell_type": "markdown",
   "metadata": {},
   "source": [
    "# 字典和集合"
   ]
  },
  {
   "cell_type": "markdown",
   "metadata": {},
   "source": [
    "## 泛映射类型 \n",
    "\n",
    "标准库里所有映射类型都是利用dict来实现的，因此只有可散列的数据类型才能用作这些映射里的键。"
   ]
  },
  {
   "cell_type": "markdown",
   "metadata": {},
   "source": [
    "## 字典推导"
   ]
  },
  {
   "cell_type": "code",
   "execution_count": 2,
   "metadata": {},
   "outputs": [
    {
     "data": {
      "text/plain": [
       "{'Brazil': 55,\n",
       " 'China': 86,\n",
       " 'India': 91,\n",
       " 'Indonesia': 62,\n",
       " 'Nigeria': 234,\n",
       " 'United States': 1}"
      ]
     },
     "execution_count": 2,
     "metadata": {},
     "output_type": "execute_result"
    }
   ],
   "source": [
    "DIAL_CODES = [\n",
    "    (86, 'China'), (91, 'India'), (1, 'United States'),\n",
    "    (62, 'Indonesia'), (55, 'Brazil'), (234, 'Nigeria')]\n",
    "country_code = {country: code for code,country in DIAL_CODES}\n",
    "country_code"
   ]
  },
  {
   "cell_type": "code",
   "execution_count": 4,
   "metadata": {},
   "outputs": [
    {
     "data": {
      "text/plain": [
       "{1: 'UNITED STATES', 55: 'BRAZIL', 62: 'INDONESIA'}"
      ]
     },
     "execution_count": 4,
     "metadata": {},
     "output_type": "execute_result"
    }
   ],
   "source": [
    "{code: country.upper() for country,code in country_code.items() if code < 66}"
   ]
  },
  {
   "cell_type": "markdown",
   "metadata": {},
   "source": [
    "## 常见的映射方法\n",
    "\n",
    "dict/Defaultdict/OrderedDict\n",
    "\n",
    "## 映射的弹性键查询\n",
    "\n",
    "如果某一个键在映射里不存在，我们希望通过这个键读取值的时候，可以返回一个默认值。\n",
    "\n",
    "### defaultdict: 处理找不到的键的一个选择\n",
    "\n",
    "### 特殊方法 __missing__\n",
    "\n",
    "### 字典的变种\n",
    "\n",
    "### 不可变映射类型\n",
    "\n"
   ]
  },
  {
   "cell_type": "markdown",
   "metadata": {},
   "source": [
    "## 集合\n",
    "\n",
    "对于空集合，一定要使用set()而不是{}，后者创建的始终还是空字典。\n",
    "\n",
    "### 集合推导\n",
    "\n"
   ]
  },
  {
   "cell_type": "code",
   "execution_count": 6,
   "metadata": {},
   "outputs": [
    {
     "data": {
      "text/plain": [
       "{'#',\n",
       " '$',\n",
       " '%',\n",
       " '+',\n",
       " '<',\n",
       " '=',\n",
       " '>',\n",
       " '¢',\n",
       " '£',\n",
       " '¤',\n",
       " '¥',\n",
       " '§',\n",
       " '©',\n",
       " '¬',\n",
       " '®',\n",
       " '°',\n",
       " '±',\n",
       " 'µ',\n",
       " '¶',\n",
       " '×',\n",
       " '÷'}"
      ]
     },
     "execution_count": 6,
     "metadata": {},
     "output_type": "execute_result"
    }
   ],
   "source": [
    "from unicodedata import name\n",
    "{chr(i) for i in range(32, 256) if \"SIGN\" in name(chr(i), '')}"
   ]
  },
  {
   "cell_type": "markdown",
   "metadata": {},
   "source": [
    "## dict和set的背后\n",
    "\n",
    "### dict的实现及其导致的结果\n",
    "\n",
    "1.key必须是可哈希的\n",
    "+ 支持hash()函数，通过__hash__()方法得到的散列值是不变的;\n",
    "+ 支持通过__eq__()方法来检测相等性;\n",
    "+ 若a==b，则has(a) == hash(b)\n",
    "\n",
    "2. 字典在内存上的开销巨大\n",
    "\n",
    "3. 键查询很快\n",
    "\n",
    "4. 键的次序取决与添加顺序\n",
    "\n",
    "5. 往字典里添加新键，可能会改变已有键的顺序\n",
    "\n",
    "\n",
    "### set的实现以及导致的结果\n",
    "集合也是依赖哈希表，存放的是元素的引用。\n",
    "\n",
    "+ 集合里的元素必须是可哈希的\n",
    "+ 集合很消耗内存\n",
    "+ 可以很高效地判断元素是否在某个集合\n",
    "+ 元素的次序取决于被添加到集合里的次序\n",
    "+ 往集合里添加元素，可能会改变集合里已有元素的次序"
   ]
  },
  {
   "cell_type": "code",
   "execution_count": null,
   "metadata": {},
   "outputs": [],
   "source": []
  }
 ],
 "metadata": {
  "kernelspec": {
   "display_name": "Python 3",
   "language": "python",
   "name": "python3"
  },
  "language_info": {
   "codemirror_mode": {
    "name": "ipython",
    "version": 3
   },
   "file_extension": ".py",
   "mimetype": "text/x-python",
   "name": "python",
   "nbconvert_exporter": "python",
   "pygments_lexer": "ipython3",
   "version": "3.6.8"
  }
 },
 "nbformat": 4,
 "nbformat_minor": 2
}
