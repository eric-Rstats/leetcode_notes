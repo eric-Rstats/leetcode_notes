{
 "cells": [
  {
   "cell_type": "code",
   "execution_count": 2,
   "metadata": {
    "collapsed": true
   },
   "outputs": [],
   "source": [
    "%load_ext watermark"
   ]
  },
  {
   "cell_type": "code",
   "execution_count": 3,
   "metadata": {},
   "outputs": [
    {
     "name": "stdout",
     "output_type": "stream",
     "text": [
      "2017-07-23 \n",
      "\n",
      "CPython 2.7.13\n",
      "IPython 5.4.1\n",
      "\n",
      "numpy 1.12.1\n",
      "pandas 0.20.2\n",
      "matplotlib 2.0.2\n",
      "sklearn 0.18.1\n"
     ]
    }
   ],
   "source": [
    "%watermark -v -d -p numpy,pandas,matplotlib,sklearn"
   ]
  },
  {
   "cell_type": "code",
   "execution_count": 4,
   "metadata": {
    "collapsed": true
   },
   "outputs": [],
   "source": [
    "%matplotlib inline"
   ]
  },
  {
   "cell_type": "markdown",
   "metadata": {
    "collapsed": true
   },
   "source": [
    "先考虑对知乎上专栏的机器学习算法介绍做一个重现"
   ]
  },
  {
   "cell_type": "code",
   "execution_count": 5,
   "metadata": {
    "collapsed": true
   },
   "outputs": [],
   "source": [
    "import numpy as np\n",
    "\n",
    "class LinearSVM:\n",
    "    def __init__(self):\n",
    "        self._w = self._b = None\n",
    "    \n",
    "    def fit(self, x, y, c=1, lr=0.01, epoch=10000):\n",
    "        x,y = np.asarray(x, np.float32), np.asarray(y, np.float32)\n",
    "        self._w = np.zeros(x.shape[1])\n",
    "        self._b = 0.\n",
    "        \n",
    "        for _ in range(epoch):\n",
    "            self._w *= 1 - lr\n",
    "            err = 1 - y * self.predict(x, True)\n",
    "            idx = np.argmax(err)\n",
    "            if err[idx] <= 0:\n",
    "                break\n",
    "            delta = lr * c * y[idx]\n",
    "            self._w += delta * x[idx]\n",
    "            self._b += delta\n",
    "            \n",
    "    def predict(self, x, raw=False):\n",
    "        x = np.asarray(x, np.float32)\n",
    "        y_pred = x.dot(self._w) + self._b\n",
    "        if raw:\n",
    "            return y_pred\n",
    "        return np.sign(y_pred).astype(np.float32)"
   ]
  },
  {
   "cell_type": "code",
   "execution_count": null,
   "metadata": {
    "collapsed": true
   },
   "outputs": [],
   "source": []
  }
 ],
 "metadata": {
  "kernelspec": {
   "display_name": "Python 2",
   "language": "python",
   "name": "python2"
  },
  "language_info": {
   "codemirror_mode": {
    "name": "ipython",
    "version": 2
   },
   "file_extension": ".py",
   "mimetype": "text/x-python",
   "name": "python",
   "nbconvert_exporter": "python",
   "pygments_lexer": "ipython2",
   "version": "2.7.13"
  },
  "toc": {
   "colors": {
    "hover_highlight": "#DAA520",
    "navigate_num": "#000000",
    "navigate_text": "#333333",
    "running_highlight": "#FF0000",
    "selected_highlight": "#FFD700",
    "sidebar_border": "#EEEEEE",
    "wrapper_background": "#FFFFFF"
   },
   "moveMenuLeft": true,
   "nav_menu": {
    "height": "12px",
    "width": "252px"
   },
   "navigate_menu": true,
   "number_sections": true,
   "sideBar": true,
   "threshold": 4,
   "toc_cell": false,
   "toc_section_display": "block",
   "toc_window_display": false,
   "widenNotebook": false
  }
 },
 "nbformat": 4,
 "nbformat_minor": 2
}
