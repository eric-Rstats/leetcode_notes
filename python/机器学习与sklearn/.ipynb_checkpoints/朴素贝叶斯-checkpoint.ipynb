{
 "cells": [
  {
   "cell_type": "markdown",
   "metadata": {
    "toc": "true"
   },
   "source": [
    "# Table of Contents\n",
    " <p><div class=\"lev1 toc-item\"><a href=\"#朴素贝叶斯-Naive-Bayes\" data-toc-modified-id=\"朴素贝叶斯-Naive-Bayes-1\"><span class=\"toc-item-num\">1&nbsp;&nbsp;</span>朴素贝叶斯 Naive Bayes</a></div><div class=\"lev2 toc-item\"><a href=\"#模型原理：\" data-toc-modified-id=\"模型原理：-11\"><span class=\"toc-item-num\">1.1&nbsp;&nbsp;</span>模型原理：</a></div><div class=\"lev2 toc-item\"><a href=\"#模型假设\" data-toc-modified-id=\"模型假设-12\"><span class=\"toc-item-num\">1.2&nbsp;&nbsp;</span>模型假设</a></div><div class=\"lev2 toc-item\"><a href=\"#过程\" data-toc-modified-id=\"过程-13\"><span class=\"toc-item-num\">1.3&nbsp;&nbsp;</span>过程</a></div><div class=\"lev3 toc-item\"><a href=\"#先验概率和条件概率的估计求法(极大似然估计)\" data-toc-modified-id=\"先验概率和条件概率的估计求法(极大似然估计)-131\"><span class=\"toc-item-num\">1.3.1&nbsp;&nbsp;</span>先验概率和条件概率的估计求法(极大似然估计)</a></div><div class=\"lev2 toc-item\"><a href=\"#期望风险最小化-==-后验概率最大化(0-1损失函数)\" data-toc-modified-id=\"期望风险最小化-==-后验概率最大化(0-1损失函数)-14\"><span class=\"toc-item-num\">1.4&nbsp;&nbsp;</span>期望风险最小化 == 后验概率最大化(0-1损失函数)</a></div><div class=\"lev2 toc-item\"><a href=\"#贝叶斯估计-(拉普拉斯平滑)\" data-toc-modified-id=\"贝叶斯估计-(拉普拉斯平滑)-15\"><span class=\"toc-item-num\">1.5&nbsp;&nbsp;</span>贝叶斯估计 (拉普拉斯平滑)</a></div><div class=\"lev1 toc-item\"><a href=\"#Sklearn中的实现\" data-toc-modified-id=\"Sklearn中的实现-2\"><span class=\"toc-item-num\">2&nbsp;&nbsp;</span>Sklearn中的实现</a></div>"
   ]
  },
  {
   "cell_type": "markdown",
   "metadata": {},
   "source": [
    "\n",
    "\n",
    "# 朴素贝叶斯 Naive Bayes\n",
    "\n",
    "生成模型: 直接学习 $P(X,Y)$,再计算条件概率 $P(Y|X)$\n",
    "\n",
    "## 模型原理：\n",
    "基于样本，得出先验概率 $P(Y=C_k)$与条件概率$P(X|Y)$\n",
    "计算后验概率:\n",
    "$$P(Y=c_k|X) = \\frac{P(X|y=C_k)P(y=c_k)}{\\sum_{k=1}^n P(X|y=C_k)P(y=c_k)} （*）$$\n",
    "\n"
   ]
  },
  {
   "cell_type": "markdown",
   "metadata": {},
   "source": [
    "## 模型假设\n",
    "由于条件概率分布中有指数级的参数，其估计实际上是不可行的。\n",
    "\n",
    "因此假设 **条件独立性**，由于X是一个n维向量，即：\n",
    "$$P(X=x|Y=C_k)=P(X^{(1)}=x^{(1)},\\ldots X^{(n)}=x^{(n)}|Y=C_k)\\\\\n",
    "= \\prod_{j=1}^n P(X^{(j)}=x^{(j)}|Y=C_k) $$\n",
    "\n",
    "上面这个假设，表示在类别给定(即同类别前提下，用于分类的特征之间是条件独立的)\n",
    "\n",
    "**目的**：简化计算，使得算法简单，但是可能会牺牲一些分类准确性。\n",
    "\n",
    "\n",
    "## 过程\n",
    "\n",
    "输入x，通过统计y的经验分布得到先验概率，再计算各类y在此x下的后验概率，取使得其最大的k作为y的预测类别。\n",
    "\n",
    "由于分母都相同，由（*）其实是做以下目标\n",
    "$$arg \\underset{C_k}{ max} P(Y=C_k) \\prod _j P(X^{(j)}=x^{(j)}|Y=C_k)$$\n",
    "\n",
    "### 先验概率和条件概率的估计求法(极大似然估计)\n",
    "\n",
    "(推导可以见自己的笔记本)\n",
    "\n",
    "![NaiveBayes](img/naiveBayes.jpeg)\n",
    "\n",
    "$$P(Y=C_k) = \\frac{\\sum_i^N I(y_i=C_k)}{N}$$\n",
    "\n",
    "$$P(X^{(j)}=a_{jk}|Y=C_k)=\\frac{\\sum_i^N I(x_i^{(j)}=a_{jk},y_i=C_k)}{\\sum_i^N I(y_i=C_k)}$$\n",
    "\n",
    "## 期望风险最小化 == 后验概率最大化(0-1损失函数)\n",
    "\n",
    "由于0-1损失函数$L(C_k, y) = 1,当 y \\neq C_k$\n",
    "\n",
    "若f(x)为决策函数\n",
    "\n",
    "期望风险$$ R = E(L(Y,f(X)))\\\\\n",
    "= E_X \\sum L(C_k, f(X))P(C_k|X)\n",
    "$$\n",
    "\n",
    "\n",
    "为了使得期望风险最小化，只需要对X=x极小化，由此可得:\n",
    "$$f(x) = arg \\underset{y}{min} \\sum_{k=1}^K L(C_k,y)P(C_k|X=x)\\\\\n",
    "= arg \\underset{y}{min} \\sum_{k=1}^K P(y \\neq C_k|X=x)\\\\\n",
    "= arg \\underset{y}{max} \\sum_{k=1}^K P(y = C_k|X=x)$$\n",
    "\n",
    "因此，期望风险最小化 等价于 后验概率最大化\n",
    "\n",
    "## 贝叶斯估计 (拉普拉斯平滑)\n",
    "由于难免样本中有些频次为0，为了避免概率值为0，考虑拉普拉斯平滑($\\lambda=1时$)\n",
    "$$P(Y=C_k) = \\frac{\\sum_i^N I(y_i=C_k)+\\lambda}{N+K\\lambda}$$\n",
    "\n",
    "$$P(X^{(j)}=a_{jk}|Y=C_k)=\\frac{\\sum_i^N I(x_i^{(j)}=a_{jk},y_i=C_k)+\\lambda}{\\sum_i^N I(y_i=C_k)+S\\lambda}$$\n",
    "\n",
    "# Sklearn中的实现"
   ]
  },
  {
   "cell_type": "code",
   "execution_count": null,
   "metadata": {
    "collapsed": true
   },
   "outputs": [],
   "source": []
  },
  {
   "cell_type": "code",
   "execution_count": null,
   "metadata": {
    "collapsed": true
   },
   "outputs": [],
   "source": []
  }
 ],
 "metadata": {
  "kernelspec": {
   "display_name": "Python 2",
   "language": "python",
   "name": "python2"
  },
  "language_info": {
   "codemirror_mode": {
    "name": "ipython",
    "version": 2
   },
   "file_extension": ".py",
   "mimetype": "text/x-python",
   "name": "python",
   "nbconvert_exporter": "python",
   "pygments_lexer": "ipython2",
   "version": "2.7.13"
  },
  "toc": {
   "colors": {
    "hover_highlight": "#DAA520",
    "navigate_num": "#000000",
    "navigate_text": "#333333",
    "running_highlight": "#FF0000",
    "selected_highlight": "#FFD700",
    "sidebar_border": "#EEEEEE",
    "wrapper_background": "#FFFFFF"
   },
   "moveMenuLeft": true,
   "nav_menu": {
    "height": "156px",
    "width": "252px"
   },
   "navigate_menu": true,
   "number_sections": true,
   "sideBar": true,
   "threshold": 4,
   "toc_cell": true,
   "toc_section_display": "block",
   "toc_window_display": false,
   "widenNotebook": false
  }
 },
 "nbformat": 4,
 "nbformat_minor": 2
}
