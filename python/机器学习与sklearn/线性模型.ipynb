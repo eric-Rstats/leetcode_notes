{
 "cells": [
  {
   "cell_type": "markdown",
   "metadata": {
    "collapsed": true
   },
   "source": [
    "# 《Python 大战机器学习》阅读\n",
    "# 第一章 线性模型\n",
    "\n",
    "## 线性回归\n",
    "\n",
    "### 最小二乘\n",
    "\n",
    "对于线性回归问题，定义损失函数为平方函数时，产生的优化问题:\n",
    "$$arg \\underset{\\beta}{min} \\sum (Y-X\\beta)^{T}(Y-X\\beta)$$\n",
    "可以考虑使用梯度下降法来求解；\n",
    "\n",
    "作者提到，在做梯度下降前，需要进行**归一化(标准化)**:\n",
    "+ 提升模型的收敛速度，避免因为量纲不同而产生之字形的下降路线\n",
    "+ 减少量纲的影响\n",
    "\n",
    "求矩阵微商，即最优解应当是:\n",
    "$$\\frac{\\delta f}{\\delta \\beta} = 2X(X\\beta - Y)=0，$$故\n",
    "$$\\hat{\\beta}=(X^{T}X)^{-1}X^T y$$\n",
    "\n",
    "### 带正则项的最小二乘\n",
    "由于$X^TX$不一定是满秩矩阵，因此常考虑引入正则项，即L1正则化或者L2正则化：\n",
    "$$arg \\underset{\\beta}{min} \\sum (Y-X\\beta)^{T}(Y-X\\beta)+ \\lambda ||\\beta||_2^2$$\n",
    "\n",
    "### 单元线性回归\n",
    "\n",
    "#### 一个简单的例子"
   ]
  },
  {
   "cell_type": "code",
   "execution_count": 1,
   "metadata": {
    "collapsed": true
   },
   "outputs": [],
   "source": [
    "from sklearn import linear_model,datasets\n",
    "import matplotlib.pyplot as plt\n",
    "%matplotlib inline\n",
    "import numpy as np"
   ]
  },
  {
   "cell_type": "code",
   "execution_count": 2,
   "metadata": {},
   "outputs": [],
   "source": [
    "# 此处使用一个糖尿病的数据\n",
    "diabetes = datasets.load_diabetes()"
   ]
  },
  {
   "cell_type": "markdown",
   "metadata": {},
   "source": [
    "diabetes这个数据是一个字典，包括数据和label部分：\n",
    "+ 共有442个样本\n",
    "+ 每个样本有10个特征"
   ]
  },
  {
   "cell_type": "code",
   "execution_count": 3,
   "metadata": {},
   "outputs": [
    {
     "name": "stdout",
     "output_type": "stream",
     "text": [
      "442 442\n"
     ]
    }
   ],
   "source": [
    "print len(diabetes['data']), len(diabetes['target'])"
   ]
  },
  {
   "cell_type": "code",
   "execution_count": 4,
   "metadata": {},
   "outputs": [
    {
     "data": {
      "text/plain": [
       "(442, 10)"
      ]
     },
     "execution_count": 4,
     "metadata": {},
     "output_type": "execute_result"
    }
   ],
   "source": [
    "diabetes.data.shape"
   ]
  },
  {
   "cell_type": "code",
   "execution_count": 5,
   "metadata": {},
   "outputs": [],
   "source": [
    "# 单变量回归\n",
    "diabetes_X = diabetes.data[:, np.newaxis, 2]\n",
    "\n",
    "# Split the data into training/testing sets\n",
    "diabetes_X_train = diabetes_X[:-20]\n",
    "diabetes_X_test = diabetes_X[-20:]\n",
    "\n",
    "# Split the targets into training/testing sets\n",
    "diabetes_y_train = diabetes.target[:-20]\n",
    "diabetes_y_test = diabetes.target[-20:]\n"
   ]
  },
  {
   "cell_type": "code",
   "execution_count": 6,
   "metadata": {},
   "outputs": [
    {
     "name": "stderr",
     "output_type": "stream",
     "text": [
      "/Users/yanghao/anaconda/envs/py2.7/lib/python2.7/site-packages/scipy/linalg/basic.py:1018: RuntimeWarning: internal gelsd driver lwork query error, required iwork dimension not returned. This is likely the result of LAPACK bug 0038, fixed in LAPACK 3.2.2 (released July 21, 2010). Falling back to 'gelss' driver.\n",
      "  warnings.warn(mesg, RuntimeWarning)\n"
     ]
    },
    {
     "data": {
      "text/plain": [
       "LinearRegression(copy_X=True, fit_intercept=True, n_jobs=1, normalize=False)"
      ]
     },
     "execution_count": 6,
     "metadata": {},
     "output_type": "execute_result"
    }
   ],
   "source": [
    "# 新建一个linear model对象\n",
    "regr = linear_model.LinearRegression()\n",
    "\n",
    "# 将训练集代入进去\n",
    "regr.fit(diabetes_X_train, diabetes_y_train)"
   ]
  },
  {
   "cell_type": "code",
   "execution_count": 7,
   "metadata": {},
   "outputs": [
    {
     "name": "stdout",
     "output_type": "stream",
     "text": [
      "系数是:\n",
      "[ 938.23786125]\n"
     ]
    }
   ],
   "source": [
    "print '系数是:\\n', regr.coef_"
   ]
  },
  {
   "cell_type": "code",
   "execution_count": 8,
   "metadata": {},
   "outputs": [
    {
     "name": "stdout",
     "output_type": "stream",
     "text": [
      "Mean squared error: 2548.07\n"
     ]
    }
   ],
   "source": [
    "# The mean squared error\n",
    "print(\"Mean squared error: %.2f\"\n",
    "      % np.mean((regr.predict(diabetes_X_test) - diabetes_y_test) ** 2))"
   ]
  },
  {
   "cell_type": "code",
   "execution_count": 9,
   "metadata": {},
   "outputs": [
    {
     "name": "stdout",
     "output_type": "stream",
     "text": [
      "方差解释 0.47\n"
     ]
    }
   ],
   "source": [
    "# R方\n",
    "print '方差解释 %.2f' % regr.score(diabetes_X_test, diabetes_y_test)"
   ]
  },
  {
   "cell_type": "code",
   "execution_count": 10,
   "metadata": {},
   "outputs": [
    {
     "data": {
      "text/plain": [
       "[<matplotlib.lines.Line2D at 0x11310f090>]"
      ]
     },
     "execution_count": 10,
     "metadata": {},
     "output_type": "execute_result"
    },
    {
     "data": {
      "image/png": "[encoded data removed]",
      "text/plain": [
       "<matplotlib.figure.Figure at 0x10f003fd0>"
      ]
     },
     "metadata": {},
     "output_type": "display_data"
    }
   ],
   "source": [
    "\n",
    "\n",
    "# 绘图\n",
    "plt.scatter(diabetes_X_test, diabetes_y_test, color = 'black')\n",
    "plt.plot(diabetes_X_test, regr.predict(diabetes_X_test),color='blue',\n",
    "        linewidth=3)\n"
   ]
  },
  {
   "cell_type": "markdown",
   "metadata": {
    "collapsed": true
   },
   "source": [
    "#### LinearRegression类\n",
    "原型是:\n",
    "class sklearn.linear_model.LinearRegression(fit_intercept=True,normalize=False,copy_x=True,n_jobs=1)\n",
    "\n",
    "\n",
    "**参数**:\n",
    "+ fit_intercept:bool型，即是否需要截距\n",
    "+ copy_x: 设置是否需要copy x\n",
    "+ n_jobs:并行的CPU个数，-1表示使用所有CPU\n",
    "+ normalize: 若设置为True，则在建模之前会先标准化\n",
    "\n",
    "**属性**：\n",
    "+ coef:权重向量\n",
    "+ intercept： b值\n",
    "\n",
    "**方法**:\n",
    "+ fit(X,y[,sample_weight]): 训练模型\n",
    "+ predict：预测\n",
    "+ score(x,y[,sample_weight]):测试集的R2\n",
    "\n",
    "下面使用糖尿病的数据来建立单变量线性回归"
   ]
  },
  {
   "cell_type": "code",
   "execution_count": 11,
   "metadata": {},
   "outputs": [
    {
     "name": "stderr",
     "output_type": "stream",
     "text": [
      "/Users/yanghao/anaconda/envs/py2.7/lib/python2.7/site-packages/sklearn/cross_validation.py:44: DeprecationWarning: This module was deprecated in version 0.18 in favor of the model_selection module into which all the refactored classes and functions are moved. Also note that the interface of the new CV iterators are different from that of this module. This module will be removed in 0.20.\n",
      "  \"This module will be removed in 0.20.\", DeprecationWarning)\n"
     ]
    }
   ],
   "source": [
    "from sklearn import cross_validation\n",
    "# 定义读取和切分训练集以及测试集的函数\n",
    "def load_data():\n",
    "    diabetes = datasets.load_diabetes()\n",
    "    return cross_validation.train_test_split(diabetes.data, diabetes.target,\n",
    "                                            test_size=0.25, random_state=0)\n",
    "    "
   ]
  },
  {
   "cell_type": "code",
   "execution_count": 21,
   "metadata": {
    "collapsed": true
   },
   "outputs": [],
   "source": [
    "# 建模的函数\n",
    "def test_LinearRegression(*data):\n",
    "    X_train, X_test,y_train,y_test = data\n",
    "    regr = linear_model.LinearRegression()\n",
    "    regr.fit(X_train, y_train)\n",
    "    print '系数是 %s, 截距是 %.2f' % (regr.coef_, regr.intercept_)\n",
    "    print '残差平方和是 %.2f' % np.mean((regr.predict(X_test)-y_test) ** 2)\n",
    "    print 'R方是: %.2f' % regr.score(X_test, y_test)"
   ]
  },
  {
   "cell_type": "code",
   "execution_count": 22,
   "metadata": {},
   "outputs": [
    {
     "name": "stdout",
     "output_type": "stream",
     "text": [
      "系数是 [ -43.26774487 -208.67053951  593.39797213  302.89814903 -560.27689824\n",
      "  261.47657106   -8.83343952  135.93715156  703.22658427   28.34844354], 截距是 153.07\n",
      "残差平方和是 3180.20\n",
      "R方是: 0.36\n"
     ]
    }
   ],
   "source": [
    "X_train, X_test, y_train, y_test = load_data()\n",
    "test_LinearRegression(X_train, X_test, y_train, y_test)"
   ]
  },
  {
   "cell_type": "code",
   "execution_count": 24,
   "metadata": {},
   "outputs": [
    {
     "data": {
      "text/plain": [
       "{'copy_X': True, 'fit_intercept': True, 'n_jobs': 1, 'normalize': False}"
      ]
     },
     "execution_count": 24,
     "metadata": {},
     "output_type": "execute_result"
    }
   ],
   "source": [
    "regr.get_params()"
   ]
  },
  {
   "cell_type": "markdown",
   "metadata": {},
   "source": [
    "## 带正则项的多元线性回归\n",
    "添加正则项，其实可以理解为一个带约束的优化问题，而带约束即可以理解为为beta引入了先验分布，控制了模型空间。\n",
    "\n",
    "+ 岭回归：2范数\n",
    "+ lasso：1范数\n",
    "+ Elastic net： 二者的加权\n",
    "\n",
    "### 岭回归\n",
    "$$L(w) = (Y-Xw)^T(Y-Xw)+\\alpha ||w||_2^2$$\n",
    "\n",
    "class sklearn.linear_model.Ridge(alpha=1.0, fit_intercept=False,copy_x=True, max_iter=None,tol=0.001,solver='auto',random_state=None)\n",
    "\n",
    "**参数**:\n",
    "+ alpha: 超参数\n",
    "+ max_iter:最大迭代次数\n",
    "+ solver：求解这个最优化问题的时候的算法\n",
    "  + auto：根据数据集自动选择\n",
    "  + svd：奇异值分解\n",
    "  + cholesky: scipy.linalg.solve\n",
    "  + sparse_cg: scipy.sparse.linalg.cg Use Conjugate Gradient iteration to solve ``Ax = b``.\n",
    "\n",
    "  + lsqr:scipy.sparse.linalg.lsqr;运算速度最快\n",
    "  + sag:使用stochastic average gradient descent算法\n",
    "  \n",
    "+ tol：判断是否收敛的阈值\n",
    "+ random_state:随机数生成器的种子\n",
    "\n",
    "**属性**：\n",
    "+ coef_: 权重向量\n",
    "+ intercept_:b\n",
    "+ n_iter:实际迭代次数\n",
    "\n",
    "**方法**:\n",
    "+ fit,predict,score"
   ]
  },
  {
   "cell_type": "code",
   "execution_count": 36,
   "metadata": {},
   "outputs": [
    {
     "data": {
      "text/plain": [
       "Ridge(alpha=1.0, copy_X=True, fit_intercept=True, max_iter=None,\n",
       "   normalize=False, random_state=None, solver='sag', tol=0.001)"
      ]
     },
     "execution_count": 36,
     "metadata": {},
     "output_type": "execute_result"
    }
   ],
   "source": [
    "reg_ridge = linear_model.Ridge(solver='sag')\n",
    "reg_ridge.fit(X_train,y_train)"
   ]
  },
  {
   "cell_type": "code",
   "execution_count": 37,
   "metadata": {},
   "outputs": [
    {
     "data": {
      "text/plain": [
       "0.35693603820703668"
      ]
     },
     "execution_count": 37,
     "metadata": {},
     "output_type": "execute_result"
    }
   ],
   "source": [
    "reg_ridge.score(X_test,y_test)"
   ]
  },
  {
   "cell_type": "code",
   "execution_count": 47,
   "metadata": {},
   "outputs": [],
   "source": [
    "# 看看不同alpha下R方的变化趋势\n",
    "n_alpha = 200\n",
    "alphas = np.logspace(-10,2,n_alpha)"
   ]
  },
  {
   "cell_type": "code",
   "execution_count": 48,
   "metadata": {},
   "outputs": [],
   "source": [
    "model_ridge = linear_model.Ridge()\n",
    "coefs, scores=[],[]"
   ]
  },
  {
   "cell_type": "code",
   "execution_count": 49,
   "metadata": {
    "collapsed": true
   },
   "outputs": [],
   "source": [
    "for alpha in alphas:\n",
    "    model_ridge.set_params(alpha=alpha)\n",
    "    model_ridge.fit(X_train,y_train)\n",
    "    coefs.append(model_ridge.coef_)\n",
    "    scores.append(model_ridge.score(X_test,y_test))"
   ]
  },
  {
   "cell_type": "code",
   "execution_count": 50,
   "metadata": {},
   "outputs": [
    {
     "data": {
      "text/plain": [
       "<matplotlib.text.Text at 0x113919290>"
      ]
     },
     "execution_count": 50,
     "metadata": {},
     "output_type": "execute_result"
    },
    {
     "data": {
      "image/png": "[encoded data removed]",
      "text/plain": [
       "<matplotlib.figure.Figure at 0x113941450>"
      ]
     },
     "metadata": {},
     "output_type": "display_data"
    }
   ],
   "source": [
    "plt.plot(alphas,coefs)\n",
    "plt.xlabel('alpha')\n",
    "plt.ylabel('coefs')"
   ]
  },
  {
   "cell_type": "code",
   "execution_count": 55,
   "metadata": {},
   "outputs": [
    {
     "data": {
      "image/png": "[encoded data removed]",
      "text/plain": [
       "<matplotlib.figure.Figure at 0x113668b10>"
      ]
     },
     "metadata": {},
     "output_type": "display_data"
    }
   ],
   "source": [
    "fig = plt.figure()\n",
    "ax=fig.add_subplot(1,1,1)\n",
    "ax.plot(alphas, scores)\n",
    "ax.set_xlabel(r'$\\alpha$')\n",
    "ax.set_ylabel(r'score')\n",
    "ax.set_xscale('log')"
   ]
  },
  {
   "cell_type": "markdown",
   "metadata": {},
   "source": [
    "### Lasso回归\n",
    "Lasso回归是一范数,可以将系数压缩到0\n",
    "相比于岭回归，多了参数：\n",
    "+ precompute: 是否提前计算Gram矩阵来加速计算\n",
    "+ positive: 是否强制要求系数都为正数\n",
    "+ selection:cyclic或者random，每轮迭代的时候，选择权重向量的哪一个来更新，random是随机选择一个分量来更新，而cyclic是从前向后依次选择\n",
    "+ warm_start:是否选择前一次的训练结果继续训练\n"
   ]
  },
  {
   "cell_type": "code",
   "execution_count": 68,
   "metadata": {},
   "outputs": [
    {
     "data": {
      "image/png": "[encoded data removed]",
      "text/plain": [
       "<matplotlib.figure.Figure at 0x113b1c350>"
      ]
     },
     "metadata": {},
     "output_type": "display_data"
    }
   ],
   "source": [
    "model_lasso = linear_model.Lasso()\n",
    "coefs, scores=[],[]\n",
    "for alpha in alphas:\n",
    "    model_lasso.set_params(alpha=alpha)\n",
    "    model_lasso.fit(X_train,y_train)\n",
    "    coefs.append(model_lasso.coef_)\n",
    "    scores.append(model_lasso.score(X_test,y_test))\n",
    "\n",
    "fig = plt.figure()\n",
    "ax=fig.add_subplot(1,1,1)\n",
    "ax.plot(alphas, scores)\n",
    "ax.set_xlabel(r'$\\alpha$')\n",
    "ax.set_ylabel(r'score')\n",
    "ax.set_xscale('log')"
   ]
  },
  {
   "cell_type": "code",
   "execution_count": 69,
   "metadata": {},
   "outputs": [
    {
     "data": {
      "text/plain": [
       "<matplotlib.text.Text at 0x113dca410>"
      ]
     },
     "execution_count": 69,
     "metadata": {},
     "output_type": "execute_result"
    },
    {
     "data": {
      "image/png": "[encoded data removed]",
      "text/plain": [
       "<matplotlib.figure.Figure at 0x113523450>"
      ]
     },
     "metadata": {},
     "output_type": "display_data"
    }
   ],
   "source": [
    "plt.plot(alphas,coefs)\n",
    "plt.xlabel('alpha')\n",
    "plt.ylabel('coefs')"
   ]
  },
  {
   "cell_type": "markdown",
   "metadata": {},
   "source": [
    "### Elastic net\n",
    "$$\\alpha \\rho ||w||_1 + \\frac{\\alpha (1-\\rho)}{2}||W||_2^2$$"
   ]
  },
  {
   "cell_type": "code",
   "execution_count": null,
   "metadata": {
    "collapsed": true
   },
   "outputs": [],
   "source": []
  }
 ],
 "metadata": {
  "kernelspec": {
   "display_name": "Python 2",
   "language": "python",
   "name": "python2"
  },
  "language_info": {
   "codemirror_mode": {
    "name": "ipython",
    "version": 2
   },
   "file_extension": ".py",
   "mimetype": "text/x-python",
   "name": "python",
   "nbconvert_exporter": "python",
   "pygments_lexer": "ipython2",
   "version": "2.7.13"
  },
  "toc": {
   "colors": {
    "hover_highlight": "#DAA520",
    "navigate_num": "#000000",
    "navigate_text": "#333333",
    "running_highlight": "#FF0000",
    "selected_highlight": "#FFD700",
    "sidebar_border": "#EEEEEE",
    "wrapper_background": "#FFFFFF"
   },
   "moveMenuLeft": true,
   "nav_menu": {
    "height": "12px",
    "width": "252px"
   },
   "navigate_menu": true,
   "number_sections": true,
   "sideBar": false,
   "threshold": 4,
   "toc_cell": false,
   "toc_position": {
    "height": "349px",
    "left": "11px",
    "right": "20px",
    "top": "117px",
    "width": "158px"
   },
   "toc_section_display": "block",
   "toc_window_display": true,
   "widenNotebook": false
  }
 },
 "nbformat": 4,
 "nbformat_minor": 2
}
