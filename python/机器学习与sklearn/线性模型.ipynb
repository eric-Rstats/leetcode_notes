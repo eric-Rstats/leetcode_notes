{
 "cells": [
  {
   "cell_type": "markdown",
   "metadata": {
    "toc": "true"
   },
   "source": [
    "# Table of Contents\n",
    " <p><div class=\"lev1 toc-item\"><a href=\"#《Python-大战机器学习》阅读\" data-toc-modified-id=\"《Python-大战机器学习》阅读-1\"><span class=\"toc-item-num\">1&nbsp;&nbsp;</span>《Python 大战机器学习》阅读</a></div><div class=\"lev1 toc-item\"><a href=\"#第一章-线性模型\" data-toc-modified-id=\"第一章-线性模型-2\"><span class=\"toc-item-num\">2&nbsp;&nbsp;</span>第一章 线性模型</a></div><div class=\"lev2 toc-item\"><a href=\"#线性回归\" data-toc-modified-id=\"线性回归-21\"><span class=\"toc-item-num\">2.1&nbsp;&nbsp;</span>线性回归</a></div><div class=\"lev3 toc-item\"><a href=\"#最小二乘\" data-toc-modified-id=\"最小二乘-211\"><span class=\"toc-item-num\">2.1.1&nbsp;&nbsp;</span>最小二乘</a></div><div class=\"lev3 toc-item\"><a href=\"#带正则项的最小二乘\" data-toc-modified-id=\"带正则项的最小二乘-212\"><span class=\"toc-item-num\">2.1.2&nbsp;&nbsp;</span>带正则项的最小二乘</a></div><div class=\"lev3 toc-item\"><a href=\"#单元线性回归\" data-toc-modified-id=\"单元线性回归-213\"><span class=\"toc-item-num\">2.1.3&nbsp;&nbsp;</span>单元线性回归</a></div><div class=\"lev4 toc-item\"><a href=\"#一个简单的例子\" data-toc-modified-id=\"一个简单的例子-2131\"><span class=\"toc-item-num\">2.1.3.1&nbsp;&nbsp;</span>一个简单的例子</a></div><div class=\"lev4 toc-item\"><a href=\"#LinearRegression类\" data-toc-modified-id=\"LinearRegression类-2132\"><span class=\"toc-item-num\">2.1.3.2&nbsp;&nbsp;</span>LinearRegression类</a></div><div class=\"lev2 toc-item\"><a href=\"#带正则项的多元线性回归\" data-toc-modified-id=\"带正则项的多元线性回归-22\"><span class=\"toc-item-num\">2.2&nbsp;&nbsp;</span>带正则项的多元线性回归</a></div><div class=\"lev3 toc-item\"><a href=\"#岭回归\" data-toc-modified-id=\"岭回归-221\"><span class=\"toc-item-num\">2.2.1&nbsp;&nbsp;</span>岭回归</a></div><div class=\"lev3 toc-item\"><a href=\"#Lasso回归\" data-toc-modified-id=\"Lasso回归-222\"><span class=\"toc-item-num\">2.2.2&nbsp;&nbsp;</span>Lasso回归</a></div><div class=\"lev3 toc-item\"><a href=\"#Elastic-net\" data-toc-modified-id=\"Elastic-net-223\"><span class=\"toc-item-num\">2.2.3&nbsp;&nbsp;</span>Elastic net</a></div><div class=\"lev2 toc-item\"><a href=\"#广义线性模型\" data-toc-modified-id=\"广义线性模型-23\"><span class=\"toc-item-num\">2.3&nbsp;&nbsp;</span>广义线性模型</a></div><div class=\"lev3 toc-item\"><a href=\"#logistic模型\" data-toc-modified-id=\"logistic模型-231\"><span class=\"toc-item-num\">2.3.1&nbsp;&nbsp;</span>logistic模型</a></div><div class=\"lev3 toc-item\"><a href=\"#L1-penalty-and-Sparsity-in-Logistics-regression\" data-toc-modified-id=\"L1-penalty-and-Sparsity-in-Logistics-regression-232\"><span class=\"toc-item-num\">2.3.2&nbsp;&nbsp;</span>L1 penalty and Sparsity in Logistics regression</a></div><div class=\"lev2 toc-item\"><a href=\"#LDA线性判别分析\" data-toc-modified-id=\"LDA线性判别分析-24\"><span class=\"toc-item-num\">2.4&nbsp;&nbsp;</span>LDA线性判别分析</a></div><div class=\"lev3 toc-item\"><a href=\"#核心思想\" data-toc-modified-id=\"核心思想-241\"><span class=\"toc-item-num\">2.4.1&nbsp;&nbsp;</span>核心思想</a></div><div class=\"lev3 toc-item\"><a href=\"#推广到多维\" data-toc-modified-id=\"推广到多维-242\"><span class=\"toc-item-num\">2.4.2&nbsp;&nbsp;</span>推广到多维</a></div><div class=\"lev3 toc-item\"><a href=\"#sklearn中的实现\" data-toc-modified-id=\"sklearn中的实现-243\"><span class=\"toc-item-num\">2.4.3&nbsp;&nbsp;</span>sklearn中的实现</a></div>"
   ]
  },
  {
   "cell_type": "markdown",
   "metadata": {
    "collapsed": true
   },
   "source": [
    "# 《Python 大战机器学习》阅读\n",
    "# 第一章 线性模型\n",
    "\n",
    "## 线性回归\n",
    "\n",
    "### 最小二乘\n",
    "\n",
    "对于线性回归问题，定义损失函数为平方函数时，产生的优化问题:\n",
    "$$arg \\underset{\\beta}{min} \\sum (Y-X\\beta)^{T}(Y-X\\beta)$$\n",
    "可以考虑使用梯度下降法来求解；\n",
    "\n",
    "作者提到，在做梯度下降前，需要进行**归一化(标准化)**:\n",
    "+ 提升模型的收敛速度，避免因为量纲不同而产生之字形的下降路线\n",
    "+ 减少量纲的影响\n",
    "\n",
    "求矩阵微商，即最优解应当是:\n",
    "$$\\frac{\\delta f}{\\delta \\beta} = 2X(X\\beta - Y)=0，$$故\n",
    "$$\\hat{\\beta}=(X^{T}X)^{-1}X^T y$$\n",
    "\n",
    "### 带正则项的最小二乘\n",
    "由于$X^TX$不一定是满秩矩阵，因此常考虑引入正则项，即L1正则化或者L2正则化：\n",
    "$$arg \\underset{\\beta}{min} \\sum (Y-X\\beta)^{T}(Y-X\\beta)+ \\lambda ||\\beta||_2^2$$\n",
    "\n",
    "### 单元线性回归\n",
    "\n",
    "#### 一个简单的例子"
   ]
  },
  {
   "cell_type": "code",
   "execution_count": 1,
   "metadata": {
    "collapsed": true
   },
   "outputs": [],
   "source": [
    "from sklearn import linear_model,datasets\n",
    "import matplotlib.pyplot as plt\n",
    "%matplotlib inline\n",
    "import numpy as np"
   ]
  },
  {
   "cell_type": "code",
   "execution_count": 2,
   "metadata": {
    "collapsed": true
   },
   "outputs": [],
   "source": [
    "# 此处使用一个糖尿病的数据\n",
    "diabetes = datasets.load_diabetes()"
   ]
  },
  {
   "cell_type": "markdown",
   "metadata": {},
   "source": [
    "diabetes这个数据是一个字典，包括数据和label部分：\n",
    "+ 共有442个样本\n",
    "+ 每个样本有10个特征"
   ]
  },
  {
   "cell_type": "code",
   "execution_count": 3,
   "metadata": {},
   "outputs": [
    {
     "name": "stdout",
     "output_type": "stream",
     "text": [
      "442 442\n"
     ]
    }
   ],
   "source": [
    "print len(diabetes['data']), len(diabetes['target'])"
   ]
  },
  {
   "cell_type": "code",
   "execution_count": 4,
   "metadata": {},
   "outputs": [
    {
     "data": {
      "text/plain": [
       "(442, 10)"
      ]
     },
     "execution_count": 4,
     "metadata": {},
     "output_type": "execute_result"
    }
   ],
   "source": [
    "diabetes.data.shape"
   ]
  },
  {
   "cell_type": "code",
   "execution_count": 5,
   "metadata": {
    "collapsed": true
   },
   "outputs": [],
   "source": [
    "# 单变量回归\n",
    "diabetes_X = diabetes.data[:, np.newaxis, 2]\n",
    "\n",
    "# Split the data into training/testing sets\n",
    "diabetes_X_train = diabetes_X[:-20]\n",
    "diabetes_X_test = diabetes_X[-20:]\n",
    "\n",
    "# Split the targets into training/testing sets\n",
    "diabetes_y_train = diabetes.target[:-20]\n",
    "diabetes_y_test = diabetes.target[-20:]\n"
   ]
  },
  {
   "cell_type": "code",
   "execution_count": 6,
   "metadata": {},
   "outputs": [
    {
     "name": "stderr",
     "output_type": "stream",
     "text": [
      "/Users/yanghao/anaconda/envs/py2.7/lib/python2.7/site-packages/scipy/linalg/basic.py:1018: RuntimeWarning: internal gelsd driver lwork query error, required iwork dimension not returned. This is likely the result of LAPACK bug 0038, fixed in LAPACK 3.2.2 (released July 21, 2010). Falling back to 'gelss' driver.\n",
      "  warnings.warn(mesg, RuntimeWarning)\n"
     ]
    },
    {
     "data": {
      "text/plain": [
       "LinearRegression(copy_X=True, fit_intercept=True, n_jobs=1, normalize=False)"
      ]
     },
     "execution_count": 6,
     "metadata": {},
     "output_type": "execute_result"
    }
   ],
   "source": [
    "# 新建一个linear model对象\n",
    "regr = linear_model.LinearRegression()\n",
    "\n",
    "# 将训练集代入进去\n",
    "regr.fit(diabetes_X_train, diabetes_y_train)"
   ]
  },
  {
   "cell_type": "code",
   "execution_count": 7,
   "metadata": {},
   "outputs": [
    {
     "name": "stdout",
     "output_type": "stream",
     "text": [
      "系数是:\n",
      "[ 938.23786125]\n"
     ]
    }
   ],
   "source": [
    "print '系数是:\\n', regr.coef_"
   ]
  },
  {
   "cell_type": "code",
   "execution_count": 8,
   "metadata": {},
   "outputs": [
    {
     "name": "stdout",
     "output_type": "stream",
     "text": [
      "Mean squared error: 2548.07\n"
     ]
    }
   ],
   "source": [
    "# The mean squared error\n",
    "print(\"Mean squared error: %.2f\"\n",
    "      % np.mean((regr.predict(diabetes_X_test) - diabetes_y_test) ** 2))"
   ]
  },
  {
   "cell_type": "code",
   "execution_count": 9,
   "metadata": {},
   "outputs": [
    {
     "name": "stdout",
     "output_type": "stream",
     "text": [
      "方差解释 0.47\n"
     ]
    }
   ],
   "source": [
    "# R方\n",
    "print '方差解释 %.2f' % regr.score(diabetes_X_test, diabetes_y_test)"
   ]
  },
  {
   "cell_type": "code",
   "execution_count": 10,
   "metadata": {},
   "outputs": [
    {
     "data": {
      "text/plain": [
       "[<matplotlib.lines.Line2D at 0x10bb12050>]"
      ]
     },
     "execution_count": 10,
     "metadata": {},
     "output_type": "execute_result"
    },
    {
     "data": {
      "image/png": "[encoded data removed]",
      "text/plain": [
       "<matplotlib.figure.Figure at 0x10ba37410>"
      ]
     },
     "metadata": {},
     "output_type": "display_data"
    }
   ],
   "source": [
    "\n",
    "\n",
    "# 绘图\n",
    "plt.scatter(diabetes_X_test, diabetes_y_test, color = 'black')\n",
    "plt.plot(diabetes_X_test, regr.predict(diabetes_X_test),color='blue',\n",
    "        linewidth=3)\n"
   ]
  },
  {
   "cell_type": "markdown",
   "metadata": {
    "collapsed": true
   },
   "source": [
    "#### LinearRegression类\n",
    "原型是:\n",
    "class sklearn.linear_model.LinearRegression(fit_intercept=True,normalize=False,copy_x=True,n_jobs=1)\n",
    "\n",
    "\n",
    "**参数**:\n",
    "+ fit_intercept:bool型，即是否需要截距\n",
    "+ copy_x: 设置是否需要copy x\n",
    "+ n_jobs:并行的CPU个数，-1表示使用所有CPU\n",
    "+ normalize: 若设置为True，则在建模之前会先标准化\n",
    "\n",
    "**属性**：\n",
    "+ coef:权重向量\n",
    "+ intercept： b值\n",
    "\n",
    "**方法**:\n",
    "+ fit(X,y[,sample_weight]): 训练模型\n",
    "+ predict：预测\n",
    "+ score(x,y[,sample_weight]):测试集的R2\n",
    "\n",
    "下面使用糖尿病的数据来建立单变量线性回归"
   ]
  },
  {
   "cell_type": "code",
   "execution_count": 11,
   "metadata": {},
   "outputs": [
    {
     "name": "stderr",
     "output_type": "stream",
     "text": [
      "/Users/yanghao/anaconda/envs/py2.7/lib/python2.7/site-packages/sklearn/cross_validation.py:44: DeprecationWarning: This module was deprecated in version 0.18 in favor of the model_selection module into which all the refactored classes and functions are moved. Also note that the interface of the new CV iterators are different from that of this module. This module will be removed in 0.20.\n",
      "  \"This module will be removed in 0.20.\", DeprecationWarning)\n"
     ]
    }
   ],
   "source": [
    "from sklearn import cross_validation\n",
    "# 定义读取和切分训练集以及测试集的函数\n",
    "def load_data():\n",
    "    diabetes = datasets.load_diabetes()\n",
    "    return cross_validation.train_test_split(diabetes.data, diabetes.target,\n",
    "                                            test_size=0.25, random_state=0)\n",
    "    "
   ]
  },
  {
   "cell_type": "code",
   "execution_count": 12,
   "metadata": {
    "collapsed": true
   },
   "outputs": [],
   "source": [
    "# 建模的函数\n",
    "def test_LinearRegression(*data):\n",
    "    X_train, X_test,y_train,y_test = data\n",
    "    regr = linear_model.LinearRegression()\n",
    "    regr.fit(X_train, y_train)\n",
    "    print '系数是 %s, 截距是 %.2f' % (regr.coef_, regr.intercept_)\n",
    "    print '残差平方和是 %.2f' % np.mean((regr.predict(X_test)-y_test) ** 2)\n",
    "    print 'R方是: %.2f' % regr.score(X_test, y_test)"
   ]
  },
  {
   "cell_type": "code",
   "execution_count": 13,
   "metadata": {},
   "outputs": [
    {
     "name": "stdout",
     "output_type": "stream",
     "text": [
      "系数是 [ -43.26774487 -208.67053951  593.39797213  302.89814903 -560.27689824\n",
      "  261.47657106   -8.83343952  135.93715156  703.22658427   28.34844354], 截距是 153.07\n",
      "残差平方和是 3180.20\n",
      "R方是: 0.36\n"
     ]
    }
   ],
   "source": [
    "X_train, X_test, y_train, y_test = load_data()\n",
    "test_LinearRegression(X_train, X_test, y_train, y_test)"
   ]
  },
  {
   "cell_type": "code",
   "execution_count": 14,
   "metadata": {},
   "outputs": [
    {
     "data": {
      "text/plain": [
       "{'copy_X': True, 'fit_intercept': True, 'n_jobs': 1, 'normalize': False}"
      ]
     },
     "execution_count": 14,
     "metadata": {},
     "output_type": "execute_result"
    }
   ],
   "source": [
    "regr.get_params()"
   ]
  },
  {
   "cell_type": "markdown",
   "metadata": {},
   "source": [
    "## 带正则项的多元线性回归\n",
    "添加正则项，其实可以理解为一个带约束的优化问题，而带约束即可以理解为为beta引入了先验分布，控制了模型空间。\n",
    "\n",
    "+ 岭回归：2范数\n",
    "+ lasso：1范数\n",
    "+ Elastic net： 二者的加权\n",
    "\n",
    "### 岭回归\n",
    "$$L(w) = (Y-Xw)^T(Y-Xw)+\\alpha ||w||_2^2$$\n",
    "\n",
    "class sklearn.linear_model.Ridge(alpha=1.0, fit_intercept=False,copy_x=True, max_iter=None,tol=0.001,solver='auto',random_state=None)\n",
    "\n",
    "**参数**:\n",
    "+ alpha: 超参数\n",
    "+ max_iter:最大迭代次数\n",
    "+ solver：求解这个最优化问题的时候的算法\n",
    "  + auto：根据数据集自动选择\n",
    "  + svd：奇异值分解\n",
    "  + cholesky: scipy.linalg.solve\n",
    "  + sparse_cg: scipy.sparse.linalg.cg Use Conjugate Gradient iteration to solve ``Ax = b``.\n",
    "\n",
    "  + lsqr:scipy.sparse.linalg.lsqr;运算速度最快\n",
    "  + sag:使用stochastic average gradient descent算法\n",
    "  \n",
    "+ tol：判断是否收敛的阈值\n",
    "+ random_state:随机数生成器的种子\n",
    "\n",
    "**属性**：\n",
    "+ coef_: 权重向量\n",
    "+ intercept_:b\n",
    "+ n_iter:实际迭代次数\n",
    "\n",
    "**方法**:\n",
    "+ fit,predict,score"
   ]
  },
  {
   "cell_type": "code",
   "execution_count": 15,
   "metadata": {},
   "outputs": [
    {
     "data": {
      "text/plain": [
       "Ridge(alpha=1.0, copy_X=True, fit_intercept=True, max_iter=None,\n",
       "   normalize=False, random_state=None, solver='sag', tol=0.001)"
      ]
     },
     "execution_count": 15,
     "metadata": {},
     "output_type": "execute_result"
    }
   ],
   "source": [
    "reg_ridge = linear_model.Ridge(solver='sag')\n",
    "reg_ridge.fit(X_train,y_train)"
   ]
  },
  {
   "cell_type": "code",
   "execution_count": 16,
   "metadata": {},
   "outputs": [
    {
     "data": {
      "text/plain": [
       "0.356923270250743"
      ]
     },
     "execution_count": 16,
     "metadata": {},
     "output_type": "execute_result"
    }
   ],
   "source": [
    "reg_ridge.score(X_test,y_test)"
   ]
  },
  {
   "cell_type": "code",
   "execution_count": 17,
   "metadata": {
    "collapsed": true
   },
   "outputs": [],
   "source": [
    "# 看看不同alpha下R方的变化趋势\n",
    "n_alpha = 200\n",
    "alphas = np.logspace(-10,2,n_alpha)"
   ]
  },
  {
   "cell_type": "code",
   "execution_count": 18,
   "metadata": {
    "collapsed": true
   },
   "outputs": [],
   "source": [
    "model_ridge = linear_model.Ridge()\n",
    "coefs, scores=[],[]"
   ]
  },
  {
   "cell_type": "code",
   "execution_count": 19,
   "metadata": {
    "collapsed": true
   },
   "outputs": [],
   "source": [
    "for alpha in alphas:\n",
    "    model_ridge.set_params(alpha=alpha)\n",
    "    model_ridge.fit(X_train,y_train)\n",
    "    coefs.append(model_ridge.coef_)\n",
    "    scores.append(model_ridge.score(X_test,y_test))"
   ]
  },
  {
   "cell_type": "code",
   "execution_count": 20,
   "metadata": {},
   "outputs": [
    {
     "data": {
      "text/plain": [
       "<matplotlib.text.Text at 0x10bc27a50>"
      ]
     },
     "execution_count": 20,
     "metadata": {},
     "output_type": "execute_result"
    },
    {
     "data": {
      "image/png": "[encoded data removed]",
      "text/plain": [
       "<matplotlib.figure.Figure at 0x10bd558d0>"
      ]
     },
     "metadata": {},
     "output_type": "display_data"
    }
   ],
   "source": [
    "plt.plot(alphas,coefs)\n",
    "plt.xlabel('alpha')\n",
    "plt.ylabel('coefs')"
   ]
  },
  {
   "cell_type": "code",
   "execution_count": 21,
   "metadata": {},
   "outputs": [
    {
     "data": {
      "image/png": "[encoded data removed]",
      "text/plain": [
       "<matplotlib.figure.Figure at 0x10bd557d0>"
      ]
     },
     "metadata": {},
     "output_type": "display_data"
    }
   ],
   "source": [
    "fig = plt.figure()\n",
    "ax=fig.add_subplot(1,1,1)\n",
    "ax.plot(alphas, scores)\n",
    "ax.set_xlabel(r'$\\alpha$')\n",
    "ax.set_ylabel(r'score')\n",
    "ax.set_xscale('log')"
   ]
  },
  {
   "cell_type": "markdown",
   "metadata": {},
   "source": [
    "### Lasso回归\n",
    "Lasso回归是一范数,可以将系数压缩到0\n",
    "相比于岭回归，多了参数：\n",
    "+ precompute: 是否提前计算Gram矩阵来加速计算\n",
    "+ positive: 是否强制要求系数都为正数\n",
    "+ selection:cyclic或者random，每轮迭代的时候，选择权重向量的哪一个来更新，random是随机选择一个分量来更新，而cyclic是从前向后依次选择\n",
    "+ warm_start:是否选择前一次的训练结果继续训练\n"
   ]
  },
  {
   "cell_type": "code",
   "execution_count": 22,
   "metadata": {},
   "outputs": [
    {
     "name": "stderr",
     "output_type": "stream",
     "text": [
      "/Users/yanghao/anaconda/envs/py2.7/lib/python2.7/site-packages/sklearn/linear_model/coordinate_descent.py:484: ConvergenceWarning: Objective did not converge. You might want to increase the number of iterations. Fitting data with very small alpha may cause precision problems.\n",
      "  ConvergenceWarning)\n"
     ]
    },
    {
     "data": {
      "image/png": "[encoded data removed]",
      "text/plain": [
       "<matplotlib.figure.Figure at 0x10c0277d0>"
      ]
     },
     "metadata": {},
     "output_type": "display_data"
    }
   ],
   "source": [
    "model_lasso = linear_model.Lasso()\n",
    "coefs, scores=[],[]\n",
    "for alpha in alphas:\n",
    "    model_lasso.set_params(alpha=alpha)\n",
    "    model_lasso.fit(X_train,y_train)\n",
    "    coefs.append(model_lasso.coef_)\n",
    "    scores.append(model_lasso.score(X_test,y_test))\n",
    "\n",
    "fig = plt.figure()\n",
    "ax=fig.add_subplot(1,1,1)\n",
    "ax.plot(alphas, scores)\n",
    "ax.set_xlabel(r'$\\alpha$')\n",
    "ax.set_ylabel(r'score')\n",
    "ax.set_xscale('log')"
   ]
  },
  {
   "cell_type": "code",
   "execution_count": 23,
   "metadata": {},
   "outputs": [
    {
     "data": {
      "text/plain": [
       "<matplotlib.text.Text at 0x10bfcdb90>"
      ]
     },
     "execution_count": 23,
     "metadata": {},
     "output_type": "execute_result"
    },
    {
     "data": {
      "image/png": "[encoded data removed]",
      "text/plain": [
       "<matplotlib.figure.Figure at 0x10bdb7fd0>"
      ]
     },
     "metadata": {},
     "output_type": "display_data"
    }
   ],
   "source": [
    "plt.plot(alphas,coefs)\n",
    "plt.xlabel('alpha')\n",
    "plt.ylabel('coefs')"
   ]
  },
  {
   "cell_type": "markdown",
   "metadata": {},
   "source": [
    "### Elastic net\n",
    "$$\\alpha \\rho ||w||_1 + \\frac{\\alpha (1-\\rho)}{2}||W||_2^2$$\n",
    "\n",
    "**参数**:\n",
    "+ alpha: $\\alpha值$\n",
    "+ l1_ratio: $\\rho 值$"
   ]
  },
  {
   "cell_type": "code",
   "execution_count": 25,
   "metadata": {},
   "outputs": [
    {
     "data": {
      "text/plain": [
       "array([ 0.40560736,  0.        ,  3.76542456,  2.38531508,  0.58677945,\n",
       "        0.22891647, -2.15858149,  2.33867566,  3.49846121,  1.98299707])"
      ]
     },
     "execution_count": 25,
     "metadata": {},
     "output_type": "execute_result"
    }
   ],
   "source": [
    "regr_elastic = linear_model.ElasticNet()\n",
    "regr_elastic.fit(X_train, y_train)\n",
    "\n",
    "regr_elastic.coef_"
   ]
  },
  {
   "cell_type": "code",
   "execution_count": 26,
   "metadata": {},
   "outputs": [
    {
     "data": {
      "text/plain": [
       "4922.3550757217681"
      ]
     },
     "execution_count": 26,
     "metadata": {},
     "output_type": "execute_result"
    }
   ],
   "source": [
    "# 残差平方和\n",
    "np.mean((regr_elastic.predict(X_test)-y_test)**2)"
   ]
  },
  {
   "cell_type": "code",
   "execution_count": 64,
   "metadata": {
    "collapsed": true
   },
   "outputs": [],
   "source": [
    "# 查看不同的超参数对模型的影响\n",
    "alphas = np.logspace(-2,2)\n",
    "rhos=np.linspace(0.01,1)\n",
    "scores=[]\n",
    "for alpha in alphas:\n",
    "    for rho in rhos:\n",
    "        regr = linear_model.ElasticNet(alpha=alpha,l1_ratio=rho)\n",
    "        regr.fit(X_train, y_train)\n",
    "        scores.append(regr.score(X_test, y_test))\n"
   ]
  },
  {
   "cell_type": "code",
   "execution_count": 36,
   "metadata": {
    "collapsed": true
   },
   "outputs": [],
   "source": [
    "from mpl_toolkits.mplot3d import Axes3D"
   ]
  },
  {
   "cell_type": "code",
   "execution_count": 65,
   "metadata": {},
   "outputs": [
    {
     "data": {
      "text/plain": [
       "<mpl_toolkits.mplot3d.axes3d.Axes3D at 0x10d699e90>"
      ]
     },
     "execution_count": 65,
     "metadata": {},
     "output_type": "execute_result"
    },
    {
     "data": {
      "image/png": "[encoded data removed]",
      "text/plain": [
       "<matplotlib.figure.Figure at 0x10d470650>"
      ]
     },
     "metadata": {},
     "output_type": "display_data"
    }
   ],
   "source": [
    "from matplotlib import cm\n",
    "fig = plt.figure()\n",
    "ax = Axes3D(fig)\n",
    "ax"
   ]
  },
  {
   "cell_type": "code",
   "execution_count": 66,
   "metadata": {
    "collapsed": true
   },
   "outputs": [],
   "source": [
    "alphas, rhos = np.meshgrid(alphas, rhos)\n",
    "scores=np.array(scores).reshape(alphas.shape)\n",
    "surf = ax.plot_surface(alphas, rhos, scores, rstride=1,cstride=1,cmap=cm.jet,linewidth=0,antialiased=False)"
   ]
  },
  {
   "cell_type": "code",
   "execution_count": 67,
   "metadata": {},
   "outputs": [
    {
     "data": {
      "image/png": "[encoded data removed]",
      "text/plain": [
       "<matplotlib.figure.Figure at 0x10d470650>"
      ]
     },
     "execution_count": 67,
     "metadata": {},
     "output_type": "execute_result"
    }
   ],
   "source": [
    "fig.colorbar(surf,shrink=0.5,aspect=5)\n",
    "ax.set_xlabel(r'$\\alpha$')\n",
    "ax.set_ylabel(r'$\\rho$')\n",
    "ax.set_zlabel('score')\n",
    "ax.set_title('ElasticNet')\n",
    "fig"
   ]
  },
  {
   "cell_type": "code",
   "execution_count": 63,
   "metadata": {},
   "outputs": [
    {
     "data": {
      "text/plain": [
       "array([[ 0.008472,  0.008472,  0.008472, ...,  0.008472,  0.008472,\n",
       "         0.008472],\n",
       "       [ 0.008472,  0.008472,  0.008472, ...,  0.008472,  0.008472,\n",
       "         0.008472],\n",
       "       [ 0.008472,  0.008472,  0.008472, ...,  0.008472,  0.008472,\n",
       "         0.008472],\n",
       "       ..., \n",
       "       [ 0.008472,  0.008472,  0.008472, ...,  0.008472,  0.008472,\n",
       "         0.008472],\n",
       "       [ 0.008472,  0.008472,  0.008472, ...,  0.008472,  0.008472,\n",
       "         0.008472],\n",
       "       [ 0.008472,  0.008472,  0.008472, ...,  0.008472,  0.008472,\n",
       "         0.008472]])"
      ]
     },
     "execution_count": 63,
     "metadata": {},
     "output_type": "execute_result"
    }
   ],
   "source": [
    "scores"
   ]
  },
  {
   "cell_type": "markdown",
   "metadata": {
    "collapsed": true
   },
   "source": [
    "## 广义线性模型\n",
    "广义线性模型的定义是 存在一个单调可微函数 h(),\n",
    "$h(y)=X\\beta+\\epsilon$称为是一个广义线性模型(GLM).\n",
    "\n",
    "### logistic模型\n",
    "通过$Y=X^T\\beta$来拟合条件概率$P(y=1|X)$，\n",
    "\n",
    "本来是需要考虑h为一个阶跃函数，当$z=X^T\\beta < 0 $，则令y=0，否则令y=1；可是由于阶跃函数是不可微的，因此考虑使用比值比:\n",
    "\n",
    "$$P(Y=1|X)=\\frac{1}{1+e^{-X^T\\beta}}=1-P(Y=0|X)$$\n",
    "\n",
    "因此，有\n",
    "$$ln \\frac{\\pi}{1-\\pi}=z=X^T\\beta$$\n",
    "\n",
    "似然函数为\n",
    "$$L=\\prod_i \\pi_i^{y_i}{(1-\\pi_i)}^{1-y_i}$$\n",
    "\n",
    "对数似然函数为:\n",
    "$$ln L = \\sum_i [y_iln(\\pi_i) + (1-y_i)ln(1-\\pi_i)] \\\\ = \\sum_i [y_iln(\\frac{\\pi_i}{1-\\pi_i}) + ln(1-\\pi_i)] \\\\ = \\sum_i [y_i\\beta^T X^{(i)}-ln(1+exp(\\beta^T X^{(i)}))]$$\n",
    "\n",
    "求极大值(梯度下降法) :\n",
    "$$每一步更新的过程：\\beta_{n+1} = \\beta_n - \\eta \\frac{\\delta L}{\\delta\\beta}$$\n"
   ]
  },
  {
   "cell_type": "markdown",
   "metadata": {},
   "source": [
    "+ 首先考虑用普通形式来求导，表示一下梯度下降法的过程\n",
    "上面的式子中\n",
    "\n",
    "$$ln L =  \\sum_i [y_i\\beta^T X^{(i)}-ln(1+exp(\\beta^T X^{(i)}))],\\ 若要关于某一个\\beta_j求微分，即有\\\\ \\frac{\\delta L}{\\delta \\beta_j}=\\sum_i[y_ix_j^{(i)} - \\frac{x_j^{(i)} exp(X^T\\beta)}{1+exp(X^T\\beta)}]=x_j^{(i)}\\sum_i[y_i - P(Y=1|X)]$$\n",
    "\n",
    "其实，如果用矩阵微商的方式来求解，则这次的微商其实是上面这个结果构成的列向量(直接用矩阵的微商定义，也可以得到，即每一个位置关于相应参数求微分):\n",
    "$$\\frac{\\delta L}{\\delta \\beta}=x^{(i)}\\sum_i[y_i - P(Y=1|X)]$$\n",
    "+ 对于多分类的模型，可以考虑softmax"
   ]
  },
  {
   "cell_type": "code",
   "execution_count": 1,
   "metadata": {
    "collapsed": true
   },
   "outputs": [],
   "source": [
    "from sklearn import linear_model\n",
    "import numpy as np\n",
    "import matplotlib.pyplot as plt\n",
    "%matplotlib inline\n"
   ]
  },
  {
   "cell_type": "markdown",
   "metadata": {},
   "source": [
    "+ linear_model.LogisticRegression\n",
    "表示的是逻辑斯蒂回归模型的对象\n",
    "\n",
    "**参数**:\n",
    "+ penalty: 'l2'表示是2范数惩罚；‘l1'表示是1范数惩罚。\n",
    "+ solver:\n",
    "'newton-cg':牛顿法\n",
    "’lbfgs‘: l-bfgs拟牛顿法\n",
    "'liblinear':liblinear（coordinate descent）\n",
    "’sag‘: stocastic average gradient descent\n",
    "\n",
    "**规模小的数据集，'liblinear'比较适用;规模大的话，'sag'比较适合;newton,lbfgs,sag只处理惩罚项为l2的情况**\n",
    "\n",
    "+ multi_class:用于多分类问题\n",
    "若'ovr'，使用one-vs-rest策略\n",
    "\n",
    "若'multinomial',使用softmax策略\n",
    "\n",
    "**属性**:coef_,intercept_,n_iter_\n",
    "**方法**:\n",
    "fit,predict,\n",
    "\n",
    "predict_log_proba():对应各类的对数概率值\n",
    "\n",
    "predict__proba():对应各类的概率值\n",
    "\n",
    "score"
   ]
  },
  {
   "cell_type": "code",
   "execution_count": 2,
   "metadata": {},
   "outputs": [
    {
     "name": "stderr",
     "output_type": "stream",
     "text": [
      "/Users/yanghao/anaconda/envs/py2.7/lib/python2.7/site-packages/sklearn/cross_validation.py:44: DeprecationWarning: This module was deprecated in version 0.18 in favor of the model_selection module into which all the refactored classes and functions are moved. Also note that the interface of the new CV iterators are different from that of this module. This module will be removed in 0.20.\n",
      "  \"This module will be removed in 0.20.\", DeprecationWarning)\n"
     ]
    }
   ],
   "source": [
    "from sklearn import datasets, cross_validation\n",
    "def load_data():\n",
    "    iris=datasets.load_iris()\n",
    "    X_train = iris.data\n",
    "    y_train = iris.target\n",
    "    return cross_validation.train_test_split(X_train, y_train, test_size=0.25,random_state=0,stratify=y_train)"
   ]
  },
  {
   "cell_type": "code",
   "execution_count": 3,
   "metadata": {
    "collapsed": true
   },
   "outputs": [],
   "source": [
    "# 使用分层抽样（stratify那里指定的是使用分层抽样）\n",
    "def test_LogisticRegression(*data):\n",
    "    X_train,X_test,y_train,y_test = data\n",
    "    regr = linear_model.LogisticRegression()\n",
    "    regr.fit(X_train, y_train)\n",
    "    print 'coefficients is %s, intercept %s' % (regr.coef_, regr.intercept_)\n",
    "    print 'score is %.2f' % regr.score(X_test, y_test)"
   ]
  },
  {
   "cell_type": "code",
   "execution_count": 4,
   "metadata": {},
   "outputs": [
    {
     "name": "stdout",
     "output_type": "stream",
     "text": [
      "coefficients is [[ 0.39310895  1.35470406 -2.12308303 -0.96477916]\n",
      " [ 0.22462128 -1.34888898  0.60067997 -1.24122398]\n",
      " [-1.50918214 -1.29436177  2.14150484  2.2961458 ]], intercept [ 0.24122458  1.13775782 -1.09418724]\n",
      "score is 0.97\n"
     ]
    }
   ],
   "source": [
    "X_train,X_test,y_train,y_test = load_data()\n",
    "test_LogisticRegression(X_train, X_test, y_train, y_test)"
   ]
  },
  {
   "cell_type": "markdown",
   "metadata": {},
   "source": [
    "考虑使用multiclass，需要注意只有牛顿法或者拟牛顿法才可以考虑使用multiclass='multinomial’"
   ]
  },
  {
   "cell_type": "code",
   "execution_count": 5,
   "metadata": {
    "collapsed": true
   },
   "outputs": [],
   "source": [
    "# 多类别分类\n",
    "def test_LogisticRegression_multi(*data):\n",
    "    X_train,X_test,y_train,y_test = data\n",
    "    regr = linear_model.LogisticRegression(solver='lbfgs', multi_class='multinomial')\n",
    "    regr.fit(X_train, y_train)\n",
    "    print 'coefficients is %s, intercept %s' % (regr.coef_, regr.intercept_)\n",
    "    print 'score is %.2f' % regr.score(X_test, y_test)"
   ]
  },
  {
   "cell_type": "code",
   "execution_count": 6,
   "metadata": {},
   "outputs": [
    {
     "name": "stdout",
     "output_type": "stream",
     "text": [
      "coefficients is [[-0.38365952  0.85431014 -2.27253566 -0.98521824]\n",
      " [ 0.34380025 -0.37353943 -0.03061608 -0.86062619]\n",
      " [ 0.03985927 -0.48077072  2.30315175  1.84584443]], intercept [  8.80306212   2.46693936 -11.27000149]\n",
      "score is 1.00\n"
     ]
    }
   ],
   "source": [
    "X_train,X_test,y_train,y_test = load_data()\n",
    "test_LogisticRegression_multi(X_train, X_test, y_train, y_test)"
   ]
  },
  {
   "cell_type": "code",
   "execution_count": 7,
   "metadata": {
    "collapsed": true
   },
   "outputs": [],
   "source": [
    "# 最后想要看C这个压缩系数对分类效果的影响\n",
    "Cs=np.logspace(-2,4,num=100)\n",
    "scores=[]\n",
    "for C in Cs:\n",
    "    regr = linear_model.LogisticRegression(C=C,solver='lbfgs', multi_class='multinomial')\n",
    "    regr.fit(X_train, y_train)\n",
    "    scores.append(regr.score(X_test, y_test))\n",
    "        \n"
   ]
  },
  {
   "cell_type": "code",
   "execution_count": 8,
   "metadata": {},
   "outputs": [
    {
     "data": {
      "image/png": "[encoded data removed]",
      "text/plain": [
       "<matplotlib.figure.Figure at 0x10f9683d0>"
      ]
     },
     "metadata": {},
     "output_type": "display_data"
    }
   ],
   "source": [
    "fig = plt.figure()\n",
    "ax=fig.add_subplot(1,1,1)\n",
    "ax.plot(Cs,scores)\n",
    "ax.set_xlabel(r'C')\n",
    "ax.set_ylabel(r'score')\n",
    "ax.set_xscale('log')\n",
    "ax.set_title('logistic')\n",
    "plt.show()"
   ]
  },
  {
   "cell_type": "markdown",
   "metadata": {},
   "source": [
    "### L1 penalty and Sparsity in Logistics regression"
   ]
  },
  {
   "cell_type": "code",
   "execution_count": 9,
   "metadata": {
    "collapsed": true
   },
   "outputs": [],
   "source": [
    "import numpy as np\n",
    "import matplotlib.pyplot as plt\n",
    "\n",
    "from sklearn.linear_model import LogisticRegression\n",
    "from sklearn import datasets\n",
    "from sklearn.preprocessing import StandardScaler\n",
    "\n",
    "digits = datasets.load_digits()"
   ]
  },
  {
   "cell_type": "code",
   "execution_count": 11,
   "metadata": {},
   "outputs": [
    {
     "data": {
      "text/plain": [
       "['images', 'data', 'target_names', 'DESCR', 'target']"
      ]
     },
     "execution_count": 11,
     "metadata": {},
     "output_type": "execute_result"
    }
   ],
   "source": [
    "digits.keys()"
   ]
  },
  {
   "cell_type": "code",
   "execution_count": 13,
   "metadata": {},
   "outputs": [
    {
     "data": {
      "text/plain": [
       "array([[  0.,   0.,   5., ...,   0.,   0.,   0.],\n",
       "       [  0.,   0.,   0., ...,  10.,   0.,   0.],\n",
       "       [  0.,   0.,   0., ...,  16.,   9.,   0.],\n",
       "       ..., \n",
       "       [  0.,   0.,   1., ...,   6.,   0.,   0.],\n",
       "       [  0.,   0.,   2., ...,  12.,   0.,   0.],\n",
       "       [  0.,   0.,  10., ...,  12.,   1.,   0.]])"
      ]
     },
     "execution_count": 13,
     "metadata": {},
     "output_type": "execute_result"
    }
   ],
   "source": [
    "X, y = digits.data, digits.target\n",
    "X"
   ]
  },
  {
   "cell_type": "code",
   "execution_count": 16,
   "metadata": {
    "collapsed": true
   },
   "outputs": [],
   "source": [
    "#StandardScaler 0,1标准化\n",
    "X= StandardScaler().fit_transform(X)\n"
   ]
  },
  {
   "cell_type": "code",
   "execution_count": 19,
   "metadata": {},
   "outputs": [
    {
     "data": {
      "text/plain": [
       "array([0, 0, 0, ..., 1, 1, 1])"
      ]
     },
     "execution_count": 19,
     "metadata": {},
     "output_type": "execute_result"
    }
   ],
   "source": [
    "y = (y>4).astype(np.int)\n",
    "y"
   ]
  },
  {
   "cell_type": "code",
   "execution_count": 22,
   "metadata": {},
   "outputs": [
    {
     "name": "stdout",
     "output_type": "stream",
     "text": [
      "C=100.00\n",
      "Sparsity with L1 penalty: 6.25%\n",
      "score with L1 penalty: 0.9115\n",
      "Sparsity with L2 penalty: 4.69%\n",
      "score with L2 penalty: 0.9098\n",
      "C=1.00\n",
      "Sparsity with L1 penalty: 10.94%\n",
      "score with L1 penalty: 0.9093\n",
      "Sparsity with L2 penalty: 4.69%\n",
      "score with L2 penalty: 0.9093\n",
      "C=0.01\n",
      "Sparsity with L1 penalty: 85.94%\n",
      "score with L1 penalty: 0.8614\n",
      "Sparsity with L2 penalty: 4.69%\n",
      "score with L2 penalty: 0.8915\n"
     ]
    },
    {
     "data": {
      "image/png": "[encoded data removed]",
      "text/plain": [
       "<matplotlib.figure.Figure at 0x10f7e55d0>"
      ]
     },
     "metadata": {},
     "output_type": "display_data"
    }
   ],
   "source": [
    "# Set regularization parameter\n",
    "for i, C in enumerate((100, 1, 0.01)):\n",
    "    # turn down tolerance for short training time\n",
    "    clf_l1_LR = LogisticRegression(C=C, penalty='l1', tol=0.01)\n",
    "    clf_l2_LR = LogisticRegression(C=C, penalty='l2', tol=0.01)\n",
    "    clf_l1_LR.fit(X, y)\n",
    "    clf_l2_LR.fit(X, y)\n",
    "\n",
    "    coef_l1_LR = clf_l1_LR.coef_.ravel()\n",
    "    coef_l2_LR = clf_l2_LR.coef_.ravel()\n",
    "\n",
    "    # coef_l1_LR contains zeros due to the\n",
    "    # L1 sparsity inducing norm\n",
    "\n",
    "    sparsity_l1_LR = np.mean(coef_l1_LR == 0) * 100\n",
    "    sparsity_l2_LR = np.mean(coef_l2_LR == 0) * 100\n",
    "\n",
    "    print(\"C=%.2f\" % C)\n",
    "    print(\"Sparsity with L1 penalty: %.2f%%\" % sparsity_l1_LR)\n",
    "    print(\"score with L1 penalty: %.4f\" % clf_l1_LR.score(X, y))\n",
    "    print(\"Sparsity with L2 penalty: %.2f%%\" % sparsity_l2_LR)\n",
    "    print(\"score with L2 penalty: %.4f\" % clf_l2_LR.score(X, y))\n",
    "\n",
    "    l1_plot = plt.subplot(3, 2, 2 * i + 1)\n",
    "    l2_plot = plt.subplot(3, 2, 2 * (i + 1))\n",
    "    if i == 0:\n",
    "        l1_plot.set_title(\"L1 penalty\")\n",
    "        l2_plot.set_title(\"L2 penalty\")\n",
    "\n",
    "    l1_plot.imshow(np.abs(coef_l1_LR.reshape(8, 8)), interpolation='nearest',\n",
    "                   cmap='binary', vmax=1, vmin=0)\n",
    "    l2_plot.imshow(np.abs(coef_l2_LR.reshape(8, 8)), interpolation='nearest',\n",
    "                   cmap='binary', vmax=1, vmin=0)\n",
    "    plt.text(-8, 3, \"C = %.2f\" % C)\n",
    "\n",
    "    l1_plot.set_xticks(())\n",
    "    l1_plot.set_yticks(())\n",
    "    l2_plot.set_xticks(())\n",
    "    l2_plot.set_yticks(())\n",
    "\n",
    "plt.show()"
   ]
  },
  {
   "cell_type": "markdown",
   "metadata": {
    "collapsed": true
   },
   "source": [
    "## LDA线性判别分析\n",
    "\n",
    "### 核心思想\n",
    "考虑将样本投影到一条直线上，同类的投影点竟可能地近，异类的投影点尽可能地远。\n",
    "$若这条直线是W, 两类的均值，协方差分别为\\mu_0,\\mu_1, \\Sigma_0,\\Sigma_1$\n",
    "\n",
    "构造评价指标为(尽可能大) :\n",
    "$$J=\\frac{||W^T\\mu_0-W^T\\mu_1||_2^2}{W^T\\Sigma_0W+W^T\\Sigma_1W}\\\\=\\frac{W^T(\\mu_0-\\mu_1)(\\mu_0-\\mu_1)^TW}{W^T(\\Sigma_0+\\Sigma_1)W}\\\\\n",
    "=\\frac{W^TS_bW}{W^TS_wW}$$\n",
    "\n",
    "即希望类间距离尽可能地大，类内协方差尽可能小\n",
    "\n",
    "以上的最大化可以使用拉格朗日乘数定理(由于若W是一个解，则kW也是一个解，不妨设$W^TS_wW=1$)\n",
    "\n",
    "$$\n",
    "\\underset{w}{min} - w^TS_bw \\\\ s.t. w^TS_ww=1\n",
    "\\\\即，S_bw=\\lambda S_ww$$\n",
    "\n",
    "由于$$S_bw=(\\mu_0-\\mu_1)^Tw(\\mu_0-\\mu_1)=k(\\mu_0-\\mu_1)\\\\始终在(\\mu_0-\\mu_1)方向上,因此可有 w=S_w^{-1}(\\mu_0-\\mu_1)$$\n",
    "\n",
    "实践中，常常对$S_w^{-1}$进行奇异值分解；\n",
    "\n",
    "+ 可以证明，两类数据同样先验，满足高斯分布并且协方差相等时，LDA可达到最优分类。\n",
    "\n",
    "### 推广到多维\n",
    "全局离散矩阵 $S_t=S_b+S_w=\\sum_i^m(x_i-\\mu_i)(x_i-\\mu_i)^T$，其中\n",
    "\n",
    "$S_w=\\sum_i^NS_{wi}$ 常用的一种优化目标是:\n",
    "\n",
    "\n",
    "$$\\underset{W}{max}\\frac{tr(W^TS_bW)}{tr(W^TS_wW)}$$\n",
    "\n",
    "\n",
    "这个问题求解可以用广义特征值问题来求解：\n",
    "\n",
    "$$S_bW=\\lambda S_wW$$\n",
    "\n",
    "### sklearn中的实现\n"
   ]
  },
  {
   "cell_type": "code",
   "execution_count": null,
   "metadata": {
    "collapsed": true
   },
   "outputs": [],
   "source": [
    "import sklearn\n",
    "import numpy as np\n",
    "from sklearn import discriminant_analysis.LinearDisc"
   ]
  }
 ],
 "metadata": {
  "kernelspec": {
   "display_name": "Python 2",
   "language": "python",
   "name": "python2"
  },
  "language_info": {
   "codemirror_mode": {
    "name": "ipython",
    "version": 2
   },
   "file_extension": ".py",
   "mimetype": "text/x-python",
   "name": "python",
   "nbconvert_exporter": "python",
   "pygments_lexer": "ipython2",
   "version": "2.7.13"
  },
  "toc": {
   "colors": {
    "hover_highlight": "#DAA520",
    "navigate_num": "#000000",
    "navigate_text": "#333333",
    "running_highlight": "#FF0000",
    "selected_highlight": "#FFD700",
    "sidebar_border": "#EEEEEE",
    "wrapper_background": "#FFFFFF"
   },
   "moveMenuLeft": true,
   "nav_menu": {
    "height": "12px",
    "width": "252px"
   },
   "navigate_menu": true,
   "number_sections": true,
   "sideBar": false,
   "threshold": 4,
   "toc_cell": true,
   "toc_position": {
    "height": "331px",
    "left": "11px",
    "right": "20px",
    "top": "117px",
    "width": "159px"
   },
   "toc_section_display": "block",
   "toc_window_display": true,
   "widenNotebook": false
  }
 },
 "nbformat": 4,
 "nbformat_minor": 2
}
