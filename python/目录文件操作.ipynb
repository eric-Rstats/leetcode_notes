{
 "cells": [
  {
   "cell_type": "markdown",
   "metadata": {},
   "source": [
    "# 目录文件操作模块\n",
    "\n",
    "## shutil: high level file operations\n",
    "\n",
    "### 目录与文件操作\n",
    "\n",
    "## os模块\n",
    "\n",
    "### process parameters\n",
    "\n",
    "提供当前进程与用户信息\n",
    "\n",
    "+ os.environ : 类似于环境变量；一个字典"
   ]
  },
  {
   "cell_type": "code",
   "execution_count": 3,
   "metadata": {},
   "outputs": [
    {
     "data": {
      "text/plain": [
       "{'TERM_PROGRAM_VERSION': '388.1', 'LOGNAME': 'yanghao', 'USER': 'yanghao', 'PATH': '/Users/yanghao/anaconda/envs/py2.7/bin:/Users/yanghao/anaconda/envs/py2.7/bin:/Users/yanghao/anaconda/bin:/usr/local/bin:/usr/bin:/bin:/usr/sbin:/sbin', 'HOME': '/Users/yanghao', 'PS1': '(py2.7) \\\\h:\\\\W \\\\u\\\\$ ', 'TERM_PROGRAM': 'Apple_Terminal', 'LANG': 'zh_CN.UTF-8', 'TERM': 'xterm-color', 'Apple_PubSub_Socket_Render': '/private/tmp/com.apple.launchd.jatqTPUso2/Render', 'SHLVL': '1', 'CONDA_PREFIX': '/Users/yanghao/anaconda/envs/py2.7', 'XPC_FLAGS': '0x0', 'CONDA_PS1_BACKUP': '\\\\h:\\\\W \\\\u\\\\$ ', '_': '/Users/yanghao/anaconda/envs/py2.7/bin/jupyter', 'CONDA_DEFAULT_ENV': 'py2.7', 'TERM_SESSION_ID': '802E7EBA-8CA9-456E-9476-68D64ECEA9EF', 'XPC_SERVICE_NAME': '0', 'JPY_PARENT_PID': '30487', 'SSH_AUTH_SOCK': '/private/tmp/com.apple.launchd.0Qgkf2ZckX/Listeners', 'SHELL': '/bin/bash', 'GIT_PAGER': 'cat', 'TMPDIR': '/var/folders/lt/r59k05ls5yn5rfbtp48rbs2m0000gn/T/', 'MPLBACKEND': 'module://ipykernel.pylab.backend_inline', 'OLDPWD': '/Users/yanghao/github/practice-coding', 'CLICOLOR': '1', '__CF_USER_TEXT_ENCODING': '0x1F5:0x19:0x34', 'PWD': '/Users/yanghao/github', 'PAGER': 'cat', 'CONDA_PATH_BACKUP': '/Users/yanghao/anaconda/bin:/usr/local/bin:/usr/bin:/bin:/usr/sbin:/sbin'}"
      ]
     },
     "execution_count": 3,
     "metadata": {},
     "output_type": "execute_result"
    }
   ],
   "source": [
    "import os\n",
    "os.environ"
   ]
  },
  {
   "cell_type": "code",
   "execution_count": 6,
   "metadata": {},
   "outputs": [
    {
     "data": {
      "text/plain": [
       "'/Users/yanghao'"
      ]
     },
     "execution_count": 6,
     "metadata": {},
     "output_type": "execute_result"
    }
   ],
   "source": [
    "os.environ['HOME'] # 环境变量？"
   ]
  },
  {
   "cell_type": "code",
   "execution_count": 9,
   "metadata": {},
   "outputs": [
    {
     "data": {
      "text/plain": [
       "['TERM_PROGRAM_VERSION',\n",
       " 'LOGNAME',\n",
       " 'USER',\n",
       " 'PATH',\n",
       " 'HOME',\n",
       " 'PS1',\n",
       " 'TERM_PROGRAM',\n",
       " 'LANG',\n",
       " 'TERM',\n",
       " 'Apple_PubSub_Socket_Render',\n",
       " 'SHLVL',\n",
       " 'CONDA_PREFIX',\n",
       " 'XPC_FLAGS',\n",
       " 'CONDA_PS1_BACKUP',\n",
       " '_',\n",
       " 'CONDA_DEFAULT_ENV',\n",
       " 'TERM_SESSION_ID',\n",
       " 'XPC_SERVICE_NAME',\n",
       " 'JPY_PARENT_PID',\n",
       " 'SSH_AUTH_SOCK',\n",
       " 'SHELL',\n",
       " 'GIT_PAGER',\n",
       " 'TMPDIR',\n",
       " 'MPLBACKEND',\n",
       " 'OLDPWD',\n",
       " 'CLICOLOR',\n",
       " '__CF_USER_TEXT_ENCODING',\n",
       " 'PWD',\n",
       " 'PAGER',\n",
       " 'CONDA_PATH_BACKUP']"
      ]
     },
     "execution_count": 9,
     "metadata": {},
     "output_type": "execute_result"
    }
   ],
   "source": [
    "os.environ.keys() # 有这么多种环境变量"
   ]
  },
  {
   "cell_type": "markdown",
   "metadata": {},
   "source": [
    "+ os.chdir: change 当前目录到某一个位置"
   ]
  },
  {
   "cell_type": "code",
   "execution_count": null,
   "metadata": {
    "collapsed": true
   },
   "outputs": [],
   "source": [
    "os.chdir"
   ]
  },
  {
   "cell_type": "code",
   "execution_count": 12,
   "metadata": {
    "collapsed": true
   },
   "outputs": [],
   "source": [
    "?os.fchdir"
   ]
  },
  {
   "cell_type": "code",
   "execution_count": 14,
   "metadata": {},
   "outputs": [
    {
     "data": {
      "text/plain": [
       "'/Users/yanghao/github/practice-coding/python'"
      ]
     },
     "execution_count": 14,
     "metadata": {},
     "output_type": "execute_result"
    }
   ],
   "source": [
    "os.getcwd()"
   ]
  },
  {
   "cell_type": "code",
   "execution_count": 16,
   "metadata": {},
   "outputs": [
    {
     "data": {
      "text/plain": [
       "['.ipynb_checkpoints',\n",
       " 'ch1.ipynb',\n",
       " 'ch2.ipynb',\n",
       " 'numpy exercises.ipynb',\n",
       " 'numpy quick start.ipynb',\n",
       " 'numpy.ipynb',\n",
       " 'scipy get started.ipynb',\n",
       " 'Untitled.ipynb',\n",
       " '\\xe5\\x88\\xa9\\xe7\\x94\\xa8python\\xe8\\xbf\\x9b\\xe8\\xa1\\x8c\\xe6\\x95\\xb0\\xe6\\x8d\\xae\\xe5\\x88\\x86\\xe6\\x9e\\x90.ipynb']"
      ]
     },
     "execution_count": 16,
     "metadata": {},
     "output_type": "execute_result"
    }
   ],
   "source": [
    "os.listdir(os.getcwd())"
   ]
  },
  {
   "cell_type": "code",
   "execution_count": 18,
   "metadata": {},
   "outputs": [
    {
     "data": {
      "text/plain": [
       "'posix'"
      ]
     },
     "execution_count": 18,
     "metadata": {},
     "output_type": "execute_result"
    }
   ],
   "source": [
    "os.name"
   ]
  },
  {
   "cell_type": "code",
   "execution_count": null,
   "metadata": {
    "collapsed": true
   },
   "outputs": [],
   "source": []
  }
 ],
 "metadata": {
  "kernelspec": {
   "display_name": "Python 2",
   "language": "python",
   "name": "python2"
  },
  "language_info": {
   "codemirror_mode": {
    "name": "ipython",
    "version": 2
   },
   "file_extension": ".py",
   "mimetype": "text/x-python",
   "name": "python",
   "nbconvert_exporter": "python",
   "pygments_lexer": "ipython2",
   "version": "2.7.13"
  },
  "toc": {
   "colors": {
    "hover_highlight": "#DAA520",
    "navigate_num": "#000000",
    "navigate_text": "#333333",
    "running_highlight": "#FF0000",
    "selected_highlight": "#FFD700",
    "sidebar_border": "#EEEEEE",
    "wrapper_background": "#FFFFFF"
   },
   "moveMenuLeft": true,
   "nav_menu": {
    "height": "0px",
    "width": "0px"
   },
   "navigate_menu": true,
   "number_sections": true,
   "sideBar": true,
   "threshold": 4,
   "toc_cell": false,
   "toc_section_display": "block",
   "toc_window_display": false,
   "widenNotebook": false
  }
 },
 "nbformat": 4,
 "nbformat_minor": 2
}
