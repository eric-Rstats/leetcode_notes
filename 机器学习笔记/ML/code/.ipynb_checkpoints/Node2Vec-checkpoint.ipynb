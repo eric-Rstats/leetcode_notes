{
 "cells": [
  {
   "cell_type": "code",
   "execution_count": 3,
   "metadata": {},
   "outputs": [],
   "source": [
    "import networkx as nx\n",
    "from node2vec import Node2Vec"
   ]
  },
  {
   "cell_type": "code",
   "execution_count": 4,
   "metadata": {},
   "outputs": [],
   "source": [
    "# create a graph\n",
    "graph = nx.fast_gnp_random_graph(n=100, p=0.5)"
   ]
  },
  {
   "cell_type": "code",
   "execution_count": 7,
   "metadata": {},
   "outputs": [
    {
     "data": {
      "text/plain": [
       "\u001b[0;31mInit signature:\u001b[0m \u001b[0mNode2Vec\u001b[0m\u001b[0;34m(\u001b[0m\u001b[0mgraph\u001b[0m\u001b[0;34m:\u001b[0m\u001b[0mnetworkx\u001b[0m\u001b[0;34m.\u001b[0m\u001b[0mclasses\u001b[0m\u001b[0;34m.\u001b[0m\u001b[0mgraph\u001b[0m\u001b[0;34m.\u001b[0m\u001b[0mGraph\u001b[0m\u001b[0;34m,\u001b[0m \u001b[0mdimensions\u001b[0m\u001b[0;34m:\u001b[0m\u001b[0mint\u001b[0m\u001b[0;34m=\u001b[0m\u001b[0;36m128\u001b[0m\u001b[0;34m,\u001b[0m \u001b[0mwalk_length\u001b[0m\u001b[0;34m:\u001b[0m\u001b[0mint\u001b[0m\u001b[0;34m=\u001b[0m\u001b[0;36m80\u001b[0m\u001b[0;34m,\u001b[0m \u001b[0mnum_walks\u001b[0m\u001b[0;34m:\u001b[0m\u001b[0mint\u001b[0m\u001b[0;34m=\u001b[0m\u001b[0;36m10\u001b[0m\u001b[0;34m,\u001b[0m \u001b[0mp\u001b[0m\u001b[0;34m:\u001b[0m\u001b[0mfloat\u001b[0m\u001b[0;34m=\u001b[0m\u001b[0;36m1\u001b[0m\u001b[0;34m,\u001b[0m \u001b[0mq\u001b[0m\u001b[0;34m:\u001b[0m\u001b[0mfloat\u001b[0m\u001b[0;34m=\u001b[0m\u001b[0;36m1\u001b[0m\u001b[0;34m,\u001b[0m \u001b[0mweight_key\u001b[0m\u001b[0;34m:\u001b[0m\u001b[0mstr\u001b[0m\u001b[0;34m=\u001b[0m\u001b[0;34m'weight'\u001b[0m\u001b[0;34m,\u001b[0m \u001b[0mworkers\u001b[0m\u001b[0;34m:\u001b[0m\u001b[0mint\u001b[0m\u001b[0;34m=\u001b[0m\u001b[0;36m1\u001b[0m\u001b[0;34m,\u001b[0m \u001b[0msampling_strategy\u001b[0m\u001b[0;34m:\u001b[0m\u001b[0mdict\u001b[0m\u001b[0;34m=\u001b[0m\u001b[0;32mNone\u001b[0m\u001b[0;34m,\u001b[0m \u001b[0mquiet\u001b[0m\u001b[0;34m:\u001b[0m\u001b[0mbool\u001b[0m\u001b[0;34m=\u001b[0m\u001b[0;32mFalse\u001b[0m\u001b[0;34m,\u001b[0m \u001b[0mtemp_folder\u001b[0m\u001b[0;34m:\u001b[0m\u001b[0mstr\u001b[0m\u001b[0;34m=\u001b[0m\u001b[0;32mNone\u001b[0m\u001b[0;34m)\u001b[0m\u001b[0;34m\u001b[0m\u001b[0;34m\u001b[0m\u001b[0m\n",
       "\u001b[0;31mDocstring:\u001b[0m      <no docstring>\n",
       "\u001b[0;31mInit docstring:\u001b[0m\n",
       "Initiates the Node2Vec object, precomputes walking probabilities and generates the walks.\n",
       "\n",
       ":param graph: Input graph\n",
       ":param dimensions: Embedding dimensions (default: 128)\n",
       ":param walk_length: Number of nodes in each walk (default: 80)\n",
       ":param num_walks: Number of walks per node (default: 10)\n",
       ":param p: Return hyper parameter (default: 1)\n",
       ":param q: Inout parameter (default: 1)\n",
       ":param weight_key: On weighted graphs, this is the key for the weight attribute (default: 'weight')\n",
       ":param workers: Number of workers for parallel execution (default: 1)\n",
       ":param sampling_strategy: Node specific sampling strategies, supports setting node specific 'q', 'p', 'num_walks' and 'walk_length'.\n",
       "Use these keys exactly. If not set, will use the global ones which were passed on the object initialization\n",
       ":param temp_folder: Path to folder with enough space to hold the memory map of self.d_graph (for big graphs); to be passed joblib.Parallel.temp_folder\n",
       "\u001b[0;31mFile:\u001b[0m           ~/anaconda/lib/python3.6/site-packages/node2vec/node2vec.py\n",
       "\u001b[0;31mType:\u001b[0m           type\n"
      ]
     },
     "metadata": {},
     "output_type": "display_data"
    }
   ],
   "source": [
    "?Node2Vec"
   ]
  },
  {
   "cell_type": "code",
   "execution_count": 10,
   "metadata": {},
   "outputs": [
    {
     "name": "stderr",
     "output_type": "stream",
     "text": [
      "Computing transition probabilities: 100%|██████████| 100/100 [00:01<00:00, 83.65it/s]\n"
     ]
    }
   ],
   "source": [
    "# generate walks\n",
    "node2vec = Node2Vec(graph, dimensions=64, walk_length=30, num_walks=200,workers=2)"
   ]
  },
  {
   "cell_type": "code",
   "execution_count": 12,
   "metadata": {},
   "outputs": [],
   "source": [
    "# embed nodes\n",
    "model = node2vec.fit(window=10, min_count=1,batch_words=4)"
   ]
  },
  {
   "cell_type": "code",
   "execution_count": 13,
   "metadata": {},
   "outputs": [
    {
     "data": {
      "text/plain": [
       "[('44', 0.46319860219955444),\n",
       " ('42', 0.4455832839012146),\n",
       " ('49', 0.4120425879955292),\n",
       " ('46', 0.3538201153278351),\n",
       " ('54', 0.3484477400779724),\n",
       " ('13', 0.34169644117355347),\n",
       " ('60', 0.3283923864364624),\n",
       " ('74', 0.30277782678604126),\n",
       " ('7', 0.2935367226600647),\n",
       " ('67', 0.2863651514053345)]"
      ]
     },
     "execution_count": 13,
     "metadata": {},
     "output_type": "execute_result"
    }
   ],
   "source": [
    "# look for similar nodes\n",
    "model.wv.most_similar('2')"
   ]
  },
  {
   "cell_type": "code",
   "execution_count": 15,
   "metadata": {},
   "outputs": [],
   "source": [
    "# save model for later use\n",
    "model.save('./embedding/demo')"
   ]
  },
  {
   "cell_type": "code",
   "execution_count": 16,
   "metadata": {},
   "outputs": [],
   "source": [
    "# Embede edges using hadamard method\n",
    "from node2vec.edges import HadamardEmbedder\n",
    "edges_embs = HadamardEmbedder(keyed_vectors=model.wv)"
   ]
  },
  {
   "cell_type": "code",
   "execution_count": 17,
   "metadata": {},
   "outputs": [
    {
     "data": {
      "text/plain": [
       "array([-5.79776503e-02,  1.01691827e-01, -3.79733834e-03,  4.51676140e-04,\n",
       "        5.41491807e-02, -4.80353571e-02, -4.19226065e-02, -4.87620682e-02,\n",
       "        5.81917688e-02,  1.25743151e-01, -1.22826412e-01, -1.56846792e-02,\n",
       "       -4.52705063e-02, -6.66080862e-02,  5.13156205e-02, -2.91300535e-01,\n",
       "       -7.65573829e-02,  1.60347186e-02,  9.40381456e-03, -3.04555483e-02,\n",
       "       -5.28220683e-02, -2.46346202e-02, -9.62062329e-02, -4.87116754e-01,\n",
       "       -2.31466182e-02,  1.06095381e-01,  1.11564435e-02,  6.24729320e-04,\n",
       "       -7.91438892e-02, -1.00666076e-01,  7.60998875e-02,  1.29609611e-02,\n",
       "        1.76533088e-02, -2.88174991e-02, -2.39427984e-02,  9.99816693e-03,\n",
       "       -2.17011258e-01, -2.22416949e-02,  1.44703329e-01,  1.53191984e-01,\n",
       "        4.06724699e-02, -1.24295522e-03,  1.05006851e-01,  1.43695194e-02,\n",
       "        1.69071630e-02,  7.07108602e-02, -1.07151875e-02,  7.67080719e-03,\n",
       "        2.84773022e-01, -1.07149025e-02, -3.73829119e-02, -8.53577927e-02,\n",
       "       -1.32285953e-02, -3.25195715e-02,  3.74082513e-02,  3.26496810e-02,\n",
       "       -1.28831100e-02, -2.29017753e-02,  4.38230485e-01,  1.83787546e-03,\n",
       "        8.78918171e-03,  1.21595780e-03, -3.92020456e-02,  3.62015744e-05],\n",
       "      dtype=float32)"
      ]
     },
     "execution_count": 17,
     "metadata": {},
     "output_type": "execute_result"
    }
   ],
   "source": [
    "# 查看边的embedding vetcor\n",
    "edges_embs[('1', '2')]"
   ]
  },
  {
   "cell_type": "code",
   "execution_count": 24,
   "metadata": {},
   "outputs": [
    {
     "name": "stderr",
     "output_type": "stream",
     "text": [
      "Generating edge features: 100%|██████████| 5050/5050.0 [00:00<00:00, 60258.87it/s]\n"
     ]
    }
   ],
   "source": [
    "# Get all edges in a separate KeyedVectors instance - use with caution could be huge for big networks\n",
    "edges_kv = edges_embs.as_keyed_vectors()\n",
    "\n",
    "# Look for most similar edges - this time tuples must be sorted and as str\n",
    "edges_kv.most_similar(str(('1', '2')))\n",
    "\n",
    "# Save embeddings for later use\n",
    "edges_kv.save_word2vec_format('./embedding/demo_edge')"
   ]
  },
  {
   "cell_type": "code",
   "execution_count": null,
   "metadata": {},
   "outputs": [],
   "source": []
  }
 ],
 "metadata": {
  "kernelspec": {
   "display_name": "Python 3",
   "language": "python",
   "name": "python3"
  },
  "language_info": {
   "codemirror_mode": {
    "name": "ipython",
    "version": 3
   },
   "file_extension": ".py",
   "mimetype": "text/x-python",
   "name": "python",
   "nbconvert_exporter": "python",
   "pygments_lexer": "ipython3",
   "version": "3.6.8"
  }
 },
 "nbformat": 4,
 "nbformat_minor": 2
}
